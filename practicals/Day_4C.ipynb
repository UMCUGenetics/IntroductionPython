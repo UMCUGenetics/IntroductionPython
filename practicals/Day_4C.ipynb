{
 "cells": [
  {
   "cell_type": "markdown",
   "metadata": {},
   "source": [
    "# File handling – The Hidden Message\n",
    "\n",
    "- The file \"genome.fa\" is a 1 million bp. piece from a bacterial genome\n",
    "\n",
    "- Find all open reading frames >= 450 nucleotides / 150 AA\n",
    "    - Remember an ORF can also be on the complementary strand!\n",
    "    - An ORF starts with \"ATG\"\n",
    "    - An ORF stops with \"TAA\", \"TAG\" or \"TGA\"\n",
    "\n",
    "- Translate the ORF into an single letter amino acid sequence\n",
    "    - ATG --> M\n",
    "\n",
    "- Sort the ORFs on length (large to small)\n",
    "\n",
    "- From the ORFs take in order the 25th AA\n",
    "\n",
    "- What is the hidden message?"
   ]
  },
  {
   "cell_type": "code",
   "execution_count": 1,
   "metadata": {
    "collapsed": true
   },
   "outputs": [],
   "source": [
    "# Obtain the AA translation code\n",
    "bases = [\"T\",\"C\",\"A\",\"G\"]\n",
    "codons = [a+b+c for a in bases for b in bases for c in bases]\n",
    "amino_acids = \"FFLLSSSSYY**CC*WLLLLPPPPHHQQRRRRIIIMTTTTNNKKSSRRVVVVAAAADDEEGGGG\"\n",
    "codon_table = dict(zip(codons, amino_acids))"
   ]
  },
  {
   "cell_type": "code",
   "execution_count": 2,
   "metadata": {
    "collapsed": true
   },
   "outputs": [],
   "source": [
    "# Open the genome file, read the first line, and concatenate the sequence\n",
    "# Make the sequence reverse complement and merge at the end"
   ]
  },
  {
   "cell_type": "code",
   "execution_count": 3,
   "metadata": {
    "collapsed": true
   },
   "outputs": [],
   "source": [
    "# Find all start codons\n",
    "# Find all stop codons"
   ]
  },
  {
   "cell_type": "code",
   "execution_count": null,
   "metadata": {
    "collapsed": true
   },
   "outputs": [],
   "source": [
    "# Find the first stop codon in frame after every start and check if length >= 450"
   ]
  },
  {
   "cell_type": "code",
   "execution_count": null,
   "metadata": {
    "collapsed": true
   },
   "outputs": [],
   "source": [
    "# Get all lengths of the ORFs to sort on later\n",
    "# On the sorted ORFs translate the 25th AA"
   ]
  }
 ],
 "metadata": {
  "kernelspec": {
   "display_name": "Python 2",
   "language": "python",
   "name": "python2"
  },
  "language_info": {
   "codemirror_mode": {
    "name": "ipython",
    "version": 2
   },
   "file_extension": ".py",
   "mimetype": "text/x-python",
   "name": "python",
   "nbconvert_exporter": "python",
   "pygments_lexer": "ipython2",
   "version": "2.7.11"
  }
 },
 "nbformat": 4,
 "nbformat_minor": 0
}
