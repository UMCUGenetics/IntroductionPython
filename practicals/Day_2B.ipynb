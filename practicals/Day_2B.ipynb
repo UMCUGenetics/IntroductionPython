{
 "cells": [
  {
   "cell_type": "markdown",
   "metadata": {},
   "source": [
    "# Dictionary\n",
    "\n",
    "A dictionary can be created by listing key-value pairs inside a curly braces.\n",
    "\n",
    "We can access the value associated with a particular key.\n",
    "\n",
    "Dictionaries are mutable."
   ]
  },
  {
   "cell_type": "code",
   "execution_count": null,
   "metadata": {
    "collapsed": false
   },
   "outputs": [],
   "source": [
    "# Try to create a dictionary\n",
    "\n",
    "virus = {'name':'HIV', 'type':'RNA', 'cell':'CD4'}\n",
    "virus['name']\n",
    "\n",
    "\n",
    "# Change values of a dictionary\n",
    "\n",
    "virus['name'] = 'HCV'\n",
    "print virus\n"
   ]
  },
  {
   "cell_type": "markdown",
   "metadata": {},
   "source": [
    "## Dictionary – Exercise\n",
    "\n",
    "1. Make a dictionary nucleotides and assign A, T, G and C as the keys and corresponding nucleotide names as values.\n",
    "2. Print the value assigned to key 'G' in the dictionary nucleotides.\n",
    "\n",
    "3. Print the first item stored in nucleotides. ( Hint: DictName.values() )\n",
    "\n",
    "4. Print all keys and values stored in nucleotides.\n",
    "\n",
    "5. Ask the user to input a sequence and print the nucleotide names using nucleotides."
   ]
  },
  {
   "cell_type": "code",
   "execution_count": null,
   "metadata": {
    "collapsed": false
   },
   "outputs": [],
   "source": [
    "# Make a dictionary\n",
    "\n",
    "#nucleotides = {?}\n",
    "\n",
    "\n",
    "# Print value stored with key 'G'\n",
    "\n",
    "#print ?\n",
    "\n",
    "\n",
    "# Print the first value in the dictionary. Hint: DictName.values() \n",
    "\n",
    "#print ?\n",
    "\n",
    "\n",
    "# Print all keys\n",
    "\n",
    "#print ?\n",
    "\n",
    "\n",
    "# Print all values\n",
    "\n",
    "#print ?\n",
    "\n",
    "\n",
    "# Print all keys and their corresponding values\n",
    "\n",
    "#for ? in ?\n",
    "#    print ?, ?\n",
    "\n",
    "\n",
    "# Use nucleotides dictionary created earlier\n",
    "\n",
    "# Ask user input\n",
    "# Check for each nucl\n",
    "# print validity using dictionary"
   ]
  },
  {
   "cell_type": "markdown",
   "metadata": {},
   "source": [
    "## Adding to a Dictionary\n",
    "\n",
    "1. You can add entries to Python dictionaries. Ask user to enter a new key and value for your virus dictionary.\n",
    "\n",
    "2. Create two dictionaries containing information about viruses. Can you create a database (using lists) containing the 2 dictionaries? Print names of all viruses stored in our database.\n"
   ]
  },
  {
   "cell_type": "code",
   "execution_count": 17,
   "metadata": {
    "collapsed": false
   },
   "outputs": [
    {
     "name": "stdout",
     "output_type": "stream",
     "text": [
      "{'cell': 'CD4', 'load': 10000, 'type': 'RNA', 'name': 'HIV'}\n",
      "Please enter a key: a\n",
      "Please enter a value: 12\n"
     ]
    }
   ],
   "source": [
    "# Add entries to a dictionary\n",
    "\n",
    "virus = {'name':'HIV', 'type':'RNA', 'cell':'CD4'}\n",
    "\n",
    "virus['load'] = 10000\n",
    "\n",
    "user_key = raw_input(\"Please enter a key: \")\n",
    "user_val = raw_input(\"Please enter a value: \")\n",
    "# Add user defined entry to the virus dictionary\n",
    "\n",
    "\n",
    "# Create two dictionaries containing information about viruses\n",
    "\n",
    "virus1 = {'name':'HIV', 'type':'RNA', 'cell':'CD4', 'load':10000}\n",
    "\n",
    "virus2 = {'name':'HCV', 'type':'RNA', 'cell':'CD4', 'load':3000}\n",
    "\n",
    "\n",
    "# Create a database containing 2 virus dictionaries. Print all viruses in the dictionary\n",
    "\n",
    "#database = ?\n",
    "#for ? in ?\n",
    "    #print ?"
   ]
  },
  {
   "cell_type": "markdown",
   "metadata": {},
   "source": [
    "## Modifying a Dictionary\n",
    "\n",
    "You can change the value of a key, e.g.: virus1['load'] = 2000\n",
    "\n",
    "We can delete an entry using **del** function similar to lists, e.g.: del virus1['load']\n"
   ]
  },
  {
   "cell_type": "code",
   "execution_count": null,
   "metadata": {
    "collapsed": false
   },
   "outputs": [],
   "source": [
    "virus1['load'] = 10000\n",
    "virus1['load'] = virus1['load'] + 5000\n",
    "virus1['load'] += 5000\n",
    "\n",
    "\n",
    "# Delete an entry\n",
    "\n",
    "del virus1['cell']\n",
    "print virus1"
   ]
  },
  {
   "cell_type": "markdown",
   "metadata": {
    "collapsed": true
   },
   "source": [
    "## Looping a Dictionary\n",
    "\n",
    "You can loop through a dictionary using its keys.\n",
    "\n",
    "Create a dictionary which has multiple Patient data.\n",
    "\n",
    "Calculate the average virus load in HIV and HCV patients."
   ]
  },
  {
   "cell_type": "code",
   "execution_count": 18,
   "metadata": {
    "collapsed": false
   },
   "outputs": [],
   "source": [
    "# Create dictionary that contains virus loads for three different patients\n",
    "\n",
    "viral_load = {'Pat1':18000, 'Pat2':13000, 'Pat3':2200}\n",
    "total_load = 0 # Assign a variable to store total virus load\n",
    "\n",
    "# Loop through the dictionary to calculate sum of all virus loads\n",
    "for name in viral_load:\n",
    "    total_load += viral_load[name]\n",
    "# or use one-liners to calculate sum of all virus loads\n",
    "total_load = sum(viral_load.values())\n",
    "\n",
    "\n",
    "\n",
    "# Create a dictionary of dictionaries to store patient specific data\n",
    "\n",
    "#First initialize the dictionary patients\n",
    "#patients = ?\n",
    "#patients['Pat1']= {'name':'HIV', 'type':'RNA', 'cell':'CD4', 'load':18000}\n",
    "#patients['Pat2']= {'name':'HIV', 'type':'RNA', 'cell':'CD4', 'load':13000}\n",
    "#patients['Pat3']= {'name':'HIV', 'type':'RNA', 'cell':'CD4', 'load':19000}\n",
    "#patients['Pat4']= {'name':'HCV', 'type':'RNA', 'cell':'Hepa', 'load':2200}\n",
    "#patients['Pat5']= {'name':'HCV', 'type':'RNA', 'cell':'Hepa', 'load':8200}\n",
    "\n",
    "\n",
    "HIV_load = 0\n",
    "HCV_load = 0\n",
    "\n",
    "#for ? in ?:\n",
    "#    if ? elif ? else ?\n",
    "\n",
    "#print \"Average HIV load = \", float(HIV_load)\n",
    "#print \"Average HCV load = \", float(HCV_load)\n"
   ]
  },
  {
   "cell_type": "markdown",
   "metadata": {},
   "source": [
    "## Challenge: DNA to Protein sequence\n",
    "\n",
    "1. Translate the valid DNA sequences from **seqs** given in code below to protein sequences using the dictionary **codon_table**\n",
    "2. Did you take the reading frames into account? Translate codon for each reading frame.\n",
    "\n",
    "Start with the following bit of sexy code:"
   ]
  },
  {
   "cell_type": "code",
   "execution_count": null,
   "metadata": {
    "collapsed": false,
    "scrolled": true
   },
   "outputs": [],
   "source": [
    "bases = ['T', 'C', 'A', 'G']\n",
    "codons = [a+b+c for a in bases for b in bases for c in bases]\n",
    "amino_acids = 'FFLLSSSSYY**CC*WLLLLPPPPHHQQRRRRIIIMTTTTNNKKSSRRVVVVAAAADDEEGGGG'\n",
    "codon_table = dict(zip(codons, amino_acids))\n",
    "\n",
    "# Confused by the code?? Ask us what it means!!\n",
    "\n",
    "# Loop over the seqs\n",
    "seqs = ['actgactgactgaattcgactg','caucgaucgcgauacacgaucagcuacg','augcagacgacguacgu','atcgatcgatcgatcacgt','atcgtagctactagctagc','acgatcgtagctacgta','cgaucagucgaucgauccagcga','cguacguagcacaugcagucaguauacguacggacgacgac','catgactgactgatcgatgctgactgactg','atcggatctgaactgactg','actgactgactgactg','caucgaucgcgauacacgaucagcuacg','augcagacgacguacgu','atcgatcgaattcgatcgatcacgt','atcgtagctactagctagc','acgatcgaattcgtagctacgta','cgaucagucgaucgauccagcga','cguacguagcacaugcagucaguauacguacggacgacgac','catgactgactgatcgatgaattcgctgactgactg','aucggauccgaaccgacag']\n",
    "\n",
    "# Write your code here to translate sequences\n",
    "# First check what is stored in codons, amino_acids and codon_table variables"
   ]
  }
 ],
 "metadata": {
  "kernelspec": {
   "display_name": "Python 2",
   "language": "python",
   "name": "python2"
  },
  "language_info": {
   "codemirror_mode": {
    "name": "ipython",
    "version": 2
   },
   "file_extension": ".py",
   "mimetype": "text/x-python",
   "name": "python",
   "nbconvert_exporter": "python",
   "pygments_lexer": "ipython2",
   "version": "2.7.11"
  }
 },
 "nbformat": 4,
 "nbformat_minor": 0
}
