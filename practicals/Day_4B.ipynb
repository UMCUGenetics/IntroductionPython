{
 "cells": [
  {
   "cell_type": "markdown",
   "metadata": {},
   "source": [
    "# File handling – exercise\n",
    "\n",
    "- Lets write a (new) file\n",
    "- Use as a name of the file: \"file.txt\"\n",
    "- By using \"w\" it will overwrite any existing files\n",
    "- The file will be located in the current working directory, unless you specify the entire path before the filename"
   ]
  },
  {
   "cell_type": "code",
   "execution_count": null,
   "metadata": {
    "collapsed": false
   },
   "outputs": [],
   "source": [
    "# Open a file\n",
    "file = open(\"file.txt\", \"w\")\n",
    "print \"Name of the file: \", file.name"
   ]
  },
  {
   "cell_type": "markdown",
   "metadata": {},
   "source": [
    "# File handling – good practice\n",
    "- After opening also close your files:\n",
    "- The close() method of a file object flushes any unwritten information and closes the file object, after which no more writing can be done. It is a good practice to use close()."
   ]
  },
  {
   "cell_type": "code",
   "execution_count": null,
   "metadata": {
    "collapsed": true
   },
   "outputs": [],
   "source": [
    "# Open a file\n",
    "file = open(\"file.txt\", \"w\")\n",
    "# do stuff\n",
    "file.close()"
   ]
  },
  {
   "cell_type": "markdown",
   "metadata": {},
   "source": [
    "# File handling – good practice\n",
    "- Before opening a file its also good to actually check the file exists"
   ]
  },
  {
   "cell_type": "code",
   "execution_count": null,
   "metadata": {
    "collapsed": false
   },
   "outputs": [],
   "source": [
    "import sys ## module System-specific parameters and functions\n",
    "try:\n",
    "    file = open(\"file.txt\", \"r\")\n",
    "    # do stuff\n",
    "    file.close()\n",
    "except:\n",
    "    sys.exit(\"File does not exist!\")"
   ]
  },
  {
   "cell_type": "markdown",
   "metadata": {},
   "source": [
    "# File handling – writing\n",
    "\n",
    "- To write to a file you use the command below:\n",
    "    - file.write(\"What you want to write\")\n",
    "\n",
    "- Try yourself to write some variables to a file"
   ]
  },
  {
   "cell_type": "code",
   "execution_count": null,
   "metadata": {
    "collapsed": true
   },
   "outputs": [],
   "source": [
    "file = open(\"file.txt\", \"w\")\n",
    "\n",
    "file.write(\"Hello script!\\n\") ## write directly\n",
    "\n",
    "line = \"This is my output!\"\n",
    "file.write(line+\"\\n\") ## write string\n",
    "\n",
    "file.close()"
   ]
  },
  {
   "cell_type": "markdown",
   "metadata": {},
   "source": [
    "# File handling – reading\n",
    "- Try to read the lines you just wrote to a file in the previous exercise"
   ]
  },
  {
   "cell_type": "code",
   "execution_count": null,
   "metadata": {
    "collapsed": false
   },
   "outputs": [],
   "source": [
    "# Most frequently a file is being read line by line using a loop. \n",
    "# This method also reads a file line by line just like readline()\n",
    "# Example:\n",
    "\n",
    "file = open(\"file.txt\", \"r\")\n",
    "for line in file:\n",
    "    print line,\n",
    "file.close()"
   ]
  },
  {
   "cell_type": "markdown",
   "metadata": {},
   "source": [
    "# Newline characters\n",
    "- Most of the times the newline characters at the end of a line are simply said “annoying”, we can remove them using the following command:\n",
    "\n",
    "line.rstrip() ## removes newline character\n",
    "\n",
    "# File handling – splitting the lines\n",
    "\n",
    "- To split your line, you can use the line.split() function using any delimiter (example below)\n",
    "\n",
    "- But of course if we want to split on a bit more difficult pattern we rather use the Regex split function we discussed this morning"
   ]
  },
  {
   "cell_type": "code",
   "execution_count": null,
   "metadata": {
    "collapsed": false
   },
   "outputs": [],
   "source": [
    "file = open(\"file.txt\", \"r\")\n",
    "for line in file:\n",
    "    splitline = line.split()## you can use different (deliminators)!\n",
    "    print splitline\n",
    "file.close()"
   ]
  },
  {
   "cell_type": "markdown",
   "metadata": {},
   "source": [
    "# File handling – exercise\n",
    "\n",
    "- The file \"exercise.bed\" contains genomic regions and is rather large, the perfect opportunity to use Python to process this file\n",
    "\n",
    "- Read the BED file and make an output file were \"chr\" in front of the number is removed (e.g. chr1 will be 1).\n",
    "\n",
    "- Determine the number of regions covered in each chromosome (e.g. each line is a region chromosome 1 --> 71906 regions)\n",
    "\n",
    "- Parse and print to screen the total number of regions and size covered for each chromosome\n",
    "\n",
    "- Challenge: combine number 1 and 2"
   ]
  },
  {
   "cell_type": "code",
   "execution_count": null,
   "metadata": {
    "collapsed": true
   },
   "outputs": [],
   "source": [
    "# Type here your code"
   ]
  },
  {
   "cell_type": "markdown",
   "metadata": {},
   "source": [
    "# As frequently requested two examples:\n",
    "- Limit the raw_input to only nucleotides:"
   ]
  },
  {
   "cell_type": "code",
   "execution_count": null,
   "metadata": {
    "collapsed": false
   },
   "outputs": [],
   "source": [
    "import re\n",
    "input_str = \"\"\n",
    "while not re.match(\"^[actg]{1,}$\", input_str,re.I):\n",
    "    input_str = raw_input(\"Please provide some nucleotides:\")\n",
    "print input_str"
   ]
  },
  {
   "cell_type": "markdown",
   "metadata": {},
   "source": [
    "# As frequently requested two examples:¶\n",
    "- make reverse complement a sequence easy:"
   ]
  },
  {
   "cell_type": "code",
   "execution_count": null,
   "metadata": {
    "collapsed": false
   },
   "outputs": [],
   "source": [
    "from string import maketrans\n",
    "dna_code = \"aCGttgagatcagat\"\n",
    "complement = maketrans(\"acgtACGT\", \"tgcaTGCA\")\n",
    "print \"dna_code:           \", dna_code\n",
    "print \"complement:         \", dna_code.translate(complement)\n",
    "print \"reverse complement: \", dna_code.translate(complement)[::-1]"
   ]
  }
 ],
 "metadata": {
  "kernelspec": {
   "display_name": "Python 2",
   "language": "python",
   "name": "python2"
  },
  "language_info": {
   "codemirror_mode": {
    "name": "ipython",
    "version": 2
   },
   "file_extension": ".py",
   "mimetype": "text/x-python",
   "name": "python",
   "nbconvert_exporter": "python",
   "pygments_lexer": "ipython2",
   "version": "2.7.11"
  }
 },
 "nbformat": 4,
 "nbformat_minor": 0
}
