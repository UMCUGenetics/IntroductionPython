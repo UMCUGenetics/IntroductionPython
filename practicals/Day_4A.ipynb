{
 "cells": [
  {
   "cell_type": "markdown",
   "metadata": {},
   "source": [
    "# Regex – Introduction\n",
    "\n",
    "- Keep it simple: Operators\n",
    "- Example:\n",
    "    - Find EcoRI restriction enzyme site in sequence:"
   ]
  },
  {
   "cell_type": "code",
   "execution_count": null,
   "metadata": {
    "collapsed": false
   },
   "outputs": [],
   "source": [
    "string = \"TGCATAGCGAATTCGGACGT\"\n",
    "\"GAATTC\" in string"
   ]
  },
  {
   "cell_type": "markdown",
   "metadata": {},
   "source": [
    "- Find Eco13kl restriction site in sequence\n",
    "- CCNGG --> CCAGG, CCCGG, CCGGG or CCTGG"
   ]
  },
  {
   "cell_type": "code",
   "execution_count": null,
   "metadata": {
    "collapsed": false
   },
   "outputs": [],
   "source": [
    "string = \"CCTGGAGCCCAGGGGACGT\"\n",
    "\"CCNGG \" in string"
   ]
  },
  {
   "cell_type": "code",
   "execution_count": null,
   "metadata": {
    "collapsed": false
   },
   "outputs": [],
   "source": [
    "string = \"CCTGGAGCCCAGGGGACGT\"\n",
    "\"CCAGG\" in string"
   ]
  },
  {
   "cell_type": "code",
   "execution_count": null,
   "metadata": {
    "collapsed": false
   },
   "outputs": [],
   "source": [
    "\"CCTGG\" in string"
   ]
  },
  {
   "cell_type": "code",
   "execution_count": null,
   "metadata": {
    "collapsed": false
   },
   "outputs": [],
   "source": [
    "\"CCCGG\" in string"
   ]
  },
  {
   "cell_type": "code",
   "execution_count": null,
   "metadata": {
    "collapsed": false
   },
   "outputs": [],
   "source": [
    "\"CCGGG\" in string"
   ]
  },
  {
   "cell_type": "markdown",
   "metadata": {},
   "source": [
    "# Regex – re.findall – exercise\n",
    "- Use re.findall to find:\n",
    "\n",
    "## EcoRI_site = \"GAATTC\"\n",
    "- sequence = \"TGCATAGCGAATTCGAGCGT\"\n",
    "\n",
    "## AG_nucl = \"AG\"\n",
    "- sequence = \"TGCATAGCGAATTCGAGCGT\"\n",
    "\n",
    "## Eco13kl_site = \"CCNGG\"\n",
    "- sequence = \"CCTGGAGCCCAGGGAGCGT\""
   ]
  },
  {
   "cell_type": "code",
   "execution_count": null,
   "metadata": {
    "collapsed": false
   },
   "outputs": [],
   "source": [
    "# Type here your code"
   ]
  },
  {
   "cell_type": "markdown",
   "metadata": {},
   "source": [
    "## Regex – metacharacters\n",
    "\n",
    "Metacharacters are characters that represent one or multiple characters you want to search for in a string.\n",
    "\n",
    "Some examples of metacharacters:\n",
    "- ^ Matches beginning of line\n",
    "- $ Matches end of line\n",
    "- . Matches any single character except newline\n",
    "- [...] Matches any single character in brackets\n",
    "- [^...] Matches any single character not in brackets\n",
    "- a | b Matches either a or b\n",
    "\n",
    "- Now repeat the Eco13kl.site question using [...]"
   ]
  },
  {
   "cell_type": "code",
   "execution_count": null,
   "metadata": {
    "collapsed": false
   },
   "outputs": [],
   "source": [
    "# Type here your code"
   ]
  },
  {
   "cell_type": "markdown",
   "metadata": {},
   "source": [
    "# Regex – exercise\n",
    "\n",
    "Explore the regex listed using the script below, try to find out what the difference is and why:\n",
    "1. CC vs ^CC \n",
    "2. G\\*G vs G.\\*G \n",
    "3. GT$ vs GT \n",
    "4. [AC] vs [^AC] \n",
    "5. GAG|GAC vs CAG|GAG \n",
    "6. TGA|TGG vs TG[AG]\n",
    "7. CC\\* vs CC+\n",
    "8. CC{1,2} vs CC {1,}\n",
    "9. \\w\\w\\w vs \\w\\w\\s\n",
    "10. \\d\\d\\S vs \\d\\d\\D"
   ]
  },
  {
   "cell_type": "code",
   "execution_count": null,
   "metadata": {
    "collapsed": false
   },
   "outputs": [],
   "source": [
    "line = \"CCTGGAG123CCCCAGGTGACGT\\nTGT\"\n",
    "find_output = re.findall(\"REGEX\",line)\n",
    "print find_output"
   ]
  },
  {
   "cell_type": "markdown",
   "metadata": {},
   "source": [
    "# Regex - Raw string notation\n",
    "\\>\\>\\> find_output = re.findall(\"\\\\\\\\\\\\\\\\\",line)\n",
    "\n",
    "This option searches for (escapes!) (\\\\)\\\\ (\\\\)\\ --> \\\\\\\\\n",
    "\n",
    "\\>\\>\\> find_output = re.findall(r\"\\\\\\\\\",line)\n",
    "\n",
    "This option searches for \\\\\\\\ --> \\\\\\\\"
   ]
  },
  {
   "cell_type": "code",
   "execution_count": null,
   "metadata": {
    "collapsed": false
   },
   "outputs": [],
   "source": [
    "line = \"this\\nis\\na\\\\ntest\"\n",
    "find_output = re.findall(\"\\\\\\\\\",line)\n",
    "print find_output"
   ]
  },
  {
   "cell_type": "code",
   "execution_count": null,
   "metadata": {
    "collapsed": false
   },
   "outputs": [],
   "source": [
    "line = \"this\\nis\\na\\\\ntest\"\n",
    "find_output = re.findall(r\"\\\\\",line)\n",
    "print find_output"
   ]
  },
  {
   "cell_type": "markdown",
   "metadata": {},
   "source": [
    "# Regex – other “problems” with strings\n",
    "\n",
    "Execute the regex below, what does it find?"
   ]
  },
  {
   "cell_type": "code",
   "execution_count": null,
   "metadata": {
    "collapsed": false
   },
   "outputs": [],
   "source": [
    "line = \"CctGGAGccCAggGGacGT\"\n",
    "find_output = re.findall(\"CC[ACTG]GG\",line)\n",
    "print find_output"
   ]
  },
  {
   "cell_type": "markdown",
   "metadata": {},
   "source": [
    "# Regex – FLAGS – exercise\n",
    "\n",
    "Now try to use the Ignore case flag, what does it find now?\n",
    "\n",
    "Remember that you can also always use string.upper() or .lower()"
   ]
  },
  {
   "cell_type": "code",
   "execution_count": null,
   "metadata": {
    "collapsed": false
   },
   "outputs": [],
   "source": [
    "# Type here your code"
   ]
  },
  {
   "cell_type": "markdown",
   "metadata": {},
   "source": [
    "# Regex – FLAGS – exercise – re.S, re.M\n",
    "- Apply re.S on the example below"
   ]
  },
  {
   "cell_type": "code",
   "execution_count": null,
   "metadata": {
    "collapsed": false
   },
   "outputs": [],
   "source": [
    "line = \"CCTGGAGCCC\\nAGGGGACGT\"\n",
    "find_output = re.findall(\"CC.AGG\",line)\n",
    "print find_output"
   ]
  },
  {
   "cell_type": "markdown",
   "metadata": {},
   "source": [
    "# Regex – FLAGS – exercise – re.S, re.M\n",
    "- Apply re.M on the example below, and after that combine both the re.S and re.M flag on this example."
   ]
  },
  {
   "cell_type": "code",
   "execution_count": null,
   "metadata": {
    "collapsed": false
   },
   "outputs": [],
   "source": [
    "line = \"a\\nmultiline test\\nto\\ntest the multi\\nline flag\"\n",
    "find_output = re.findall(\"^test.*\",line)\n",
    "print find_output"
   ]
  },
  {
   "cell_type": "markdown",
   "metadata": {},
   "source": [
    "# Regex – re.sub – exercise\n",
    "- In the example below correct the sentence using re.sub"
   ]
  },
  {
   "cell_type": "code",
   "execution_count": null,
   "metadata": {
    "collapsed": false
   },
   "outputs": [],
   "source": [
    "line = \"the hedgehog is teh most dangerous animal in teh world\"\n",
    "# Type here your code"
   ]
  },
  {
   "cell_type": "markdown",
   "metadata": {},
   "source": [
    "# Regex – re.sub – exercise\n",
    "- In the example below replace the two “colors” by red using re.sub and regex"
   ]
  },
  {
   "cell_type": "code",
   "execution_count": null,
   "metadata": {
    "collapsed": false
   },
   "outputs": [],
   "source": [
    "line = \"My computer should be grey and my car should also be gray\"\n",
    "# Type here your code"
   ]
  },
  {
   "cell_type": "markdown",
   "metadata": {},
   "source": [
    "# Regex – re.split – exercise\n",
    "- Split the line below on the numbers and/including the spaces around them\n",
    "- What happened to the spaces and the numbers within the output?"
   ]
  },
  {
   "cell_type": "code",
   "execution_count": null,
   "metadata": {
    "collapsed": false,
    "scrolled": true
   },
   "outputs": [],
   "source": [
    "line = \"You 1 should pay attention 2 will pay attention 3 and otherwise you will fail\"\n",
    "# Type here your code"
   ]
  },
  {
   "cell_type": "markdown",
   "metadata": {},
   "source": [
    "# Regex – re.split – groups – exercise\n",
    "\n",
    "- In the previous exercise you could split the line, however the number and spaces itself were \"lost\".\n",
    "- To keep the split parts of the string we can use groups\n",
    "\n",
    "Exercise:\n",
    "\n",
    "- Split the line again only now use ”(\\s\\*\\d\\s\\*)\" what happens?\n",
    "\n",
    "- And what happens if you use \"(\\s\\*)(\\d)(\\s\\*)\""
   ]
  },
  {
   "cell_type": "code",
   "execution_count": null,
   "metadata": {
    "collapsed": false
   },
   "outputs": [],
   "source": [
    "line = \"You 1 should pay attention 2 will pay attention 3 and otherwise you will fail\"\n",
    "# Type here your code"
   ]
  },
  {
   "cell_type": "code",
   "execution_count": null,
   "metadata": {
    "collapsed": false
   },
   "outputs": [],
   "source": [
    "line = \"You 1 should pay attention 2 will pay attention 3 and otherwise you will fail\"\n",
    "# Type here your code"
   ]
  },
  {
   "cell_type": "markdown",
   "metadata": {},
   "source": [
    "# Regex – re.sub – groups – exercise\n",
    "- These groups are very handy for also substitutions\n",
    "- See what happens when you use grouping on the line below:\n",
    "- \\g< 1 > stands for group 1 = the first group between ()\n",
    "- \\g< 2 > stands for group 2, etc.."
   ]
  },
  {
   "cell_type": "code",
   "execution_count": null,
   "metadata": {
    "collapsed": false
   },
   "outputs": [],
   "source": [
    "line = \"My computer should be grey and my car should also be gray\"\n",
    "find_output = re.sub(\"(gr[ae]y)\", \"\\g<1>blue\", line)\n",
    "print find_output"
   ]
  },
  {
   "cell_type": "markdown",
   "metadata": {},
   "source": [
    "# Regex – re.sub – groups – exercise\n",
    "- Try to understand what happens in the example below"
   ]
  },
  {
   "cell_type": "code",
   "execution_count": null,
   "metadata": {
    "collapsed": false
   },
   "outputs": [],
   "source": [
    "line = \"My computer should be grey and my car should also be gray\"\n",
    "find_output = re.sub(\"(gr[ae]y)(\\D*)(gr[ae]y)\", \"\\g<1>blue\\g<2>not\\g<3>black\", line)\n",
    "print find_output"
   ]
  },
  {
   "cell_type": "markdown",
   "metadata": {},
   "source": [
    "# Regex – re.search\n",
    "- example:"
   ]
  },
  {
   "cell_type": "code",
   "execution_count": null,
   "metadata": {
    "collapsed": false
   },
   "outputs": [],
   "source": [
    "line = \"TGCATAGCGAATTCGAGCGT\"\n",
    "match_output = re.search(\"GAATTC\",line)\n",
    "print match_output"
   ]
  },
  {
   "cell_type": "code",
   "execution_count": null,
   "metadata": {
    "collapsed": false
   },
   "outputs": [],
   "source": [
    "if match_output:\n",
    "    print \"GAATTC site found!\"\n",
    "print match_output.group()\n",
    "print match_output.start()\n",
    "print match_output.end()\n",
    "print match_output.span()"
   ]
  },
  {
   "cell_type": "markdown",
   "metadata": {},
   "source": [
    "# Regex – final exercise\n",
    "- We are going to digest the DNA sequence below with two restriction enzymes\n",
    "    - BamH1 G|GATCC\n",
    "    - AccI GT|MKAC (M=A/C, K=G/T)\n",
    "\n",
    "- It is forbidden to use str.split(), str.lower(), str.upper()!\n",
    "\n",
    "Q1: How many times is each restriction enzyme found?\n",
    "\n",
    "Q2: After digestion, how many DNA fragments are there and what is the length of each product (provide a list)?\n",
    "\n",
    "Challenge:\n",
    "\n",
    "Try to answer the questions in as few lines as possible: use groups and nesting"
   ]
  },
  {
   "cell_type": "code",
   "execution_count": null,
   "metadata": {
    "collapsed": true
   },
   "outputs": [],
   "source": [
    "dna = \"CGTGACCTTGGACCTCACTCACCATGTAGTACTCCTCTGAGAGGAATTGTACTAGAGGTGAAAACCGATAAGAAATCACAGTCTGATATGCGTGTGTGTCGACATGCATAATGTATACCCCTTACTGAGTCGTATGGGAATATCCGGCATGACGGGAGAAGCCGTAGACCAAAGGTGTGAGTGAGCATCGTTGTGAACAGTCTGGGTAAACGCGCATATGTAATGTAGTGGATCCTGACACACTCTGGACAAGGGCTCTCTGGGGAACTTGATTTTACTAATGGACTCCAAGAAGCGACGCGCACTCGGTTATGGCGCGCACACTAAAGCGAGGGATCCTAAAAGCTCATGAAGAGGTTCGATCGCTGACTAGTATGGTTATACCCGACACCGCACTGTCGCGTAGACCGCTCCTAGGATTAAATGATCACCCGCACATTGATGCGCGCGTTGCGGGTGAAAGTAGTGAACCCAAGAGTACTTGCCCGTCCGTGGCTCTAGCGTGCATACGTTACATTTTGACGCCTAAAGGTGTCTTGTCAGAGCACGTCCGGGCACAGTAGCAGATACCGGATATCTCATACGTCCGGAGCAGCGCGCGTACTCAAAGTGTGCCCAAGCTCGCATCCGAATTCGGATCCTGCCTTGCTCCCCTACACAAACTATCACGAATAAGCGCATATAAAGCGTCCACCACCTGTAACTTTACTGACCAAAGCATGTCGAGGCGATTAAAGTGGCCGTATGGACATCACAGCCCGTGCCCGACCATTATTAGCGCCGCTACTTCTCCGCGCGCATGTTGACGCTTCTGATGTAGGGTGTGCGGGTCCCAATTGATATATTTATTCGGAGTTACAAAACTGGTACAGAGGCTGTCCGTGCTCTA\""
   ]
  },
  {
   "cell_type": "code",
   "execution_count": null,
   "metadata": {
    "collapsed": false
   },
   "outputs": [],
   "source": [
    "# Type here your code"
   ]
  }
 ],
 "metadata": {
  "kernelspec": {
   "display_name": "Python 2",
   "language": "python",
   "name": "python2"
  },
  "language_info": {
   "codemirror_mode": {
    "name": "ipython",
    "version": 2
   },
   "file_extension": ".py",
   "mimetype": "text/x-python",
   "name": "python",
   "nbconvert_exporter": "python",
   "pygments_lexer": "ipython2",
   "version": "2.7.11"
  }
 },
 "nbformat": 4,
 "nbformat_minor": 0
}
