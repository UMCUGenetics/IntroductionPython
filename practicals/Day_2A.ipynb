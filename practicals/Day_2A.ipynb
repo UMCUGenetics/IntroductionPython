{
 "cells": [
  {
   "cell_type": "markdown",
   "metadata": {},
   "source": [
    "# Lists\n",
    "- Lets make a list: \n",
    "- Execute the code by pressing ctrl + enter\n",
    "    - Name: my_list \n",
    "    - Value: []"
   ]
  },
  {
   "cell_type": "code",
   "execution_count": null,
   "metadata": {
    "collapsed": false
   },
   "outputs": [],
   "source": [
    "# Write here your code to make an empty list\n",
    "my_list = []"
   ]
  },
  {
   "cell_type": "markdown",
   "metadata": {},
   "source": [
    "### Write your code to make lists: \n",
    "- empty list which can hold 4 items\n",
    "- list called molecules containing elements: DNA, RNA, Protein and Lipid\n",
    "- containing 4 sequences\n",
    "- containing at least 1 string, 1 integer, and 1 boolean"
   ]
  },
  {
   "cell_type": "code",
   "execution_count": null,
   "metadata": {
    "collapsed": false
   },
   "outputs": [],
   "source": [
    "# Write here your code to make lists\n",
    "my_list = [?]*?\n",
    "molecules = [?]\n",
    "seqs = [?]\n",
    "mixed_list = [?]\n"
   ]
  },
  {
   "cell_type": "markdown",
   "metadata": {},
   "source": [
    "## Accessing Lists\n",
    "\n",
    "Using the lists that you have created, check what is stored at index 1 of the list 'molecules'"
   ]
  },
  {
   "cell_type": "code",
   "execution_count": null,
   "metadata": {
    "collapsed": false
   },
   "outputs": [],
   "source": [
    "# molecules[1]?\n",
    "\n",
    "# What is the index for 'DNA' in the list molecules?\n",
    "\n",
    "# Try command list.index(object)"
   ]
  },
  {
   "cell_type": "markdown",
   "metadata": {},
   "source": [
    "# Lists – Exercise\n",
    "\n",
    "1. Create the following 3 string variables with their restriction sites:\n",
    "    * eco_r1  : gaattc\n",
    "    * bam_h1  : ggatcc\n",
    "    * hind3   : aagctt\n",
    "2. Make a list called **restriction_enzymes** containing the 3 restriction sites.\n",
    "\n",
    "3. Using a single command print the restriction sites in the list on 3 different lines.\n",
    "\n",
    "4. Print the first letter of **eco_r1** using the list."
   ]
  },
  {
   "cell_type": "code",
   "execution_count": null,
   "metadata": {
    "collapsed": false
   },
   "outputs": [],
   "source": [
    "# Q1, hint: eco_r1 = ? \n",
    "\n",
    "# bam_h1 = ?\n",
    "\n",
    "# hind3 = ?\n",
    "\n",
    "# Q2, hint: restriction_enzymes = \n",
    "\n",
    "# Q3, hint: print \"EcoRI: \", restriction_enzymes[?], ... \n",
    "\n",
    "# Q4, hint: restriction_enzymes??\n",
    "\n",
    "# Bonus question: Change first letter of eco_r1 restriction site from g to G using list 'restriction_enzymes'"
   ]
  },
  {
   "cell_type": "markdown",
   "metadata": {},
   "source": [
    "# Basic List operations\n",
    "\n",
    "Adding (concatenate) two lists\n",
    "\n",
    "Repeating items in list\n",
    "\n",
    "Compare two lists: cmp(L1, L2)\n",
    "\n",
    "Length of a list: len(L1)\n",
    "\n",
    "Maximum value: max(L1)\n",
    "\n",
    "Minimum value: min(L1)"
   ]
  },
  {
   "cell_type": "code",
   "execution_count": null,
   "metadata": {
    "collapsed": false
   },
   "outputs": [],
   "source": [
    "# Try some list operations\n",
    "my_list = [1, 2, 5] + [3, 4, 6]\n",
    "print my_list\n",
    "print [?]*?\n",
    "print len(?)\n",
    "print max(?)\n",
    "print min(?)"
   ]
  },
  {
   "cell_type": "markdown",
   "metadata": {},
   "source": [
    "## Basic List operations - Exercise\n",
    "1. Remember that we made a list of restriction enzymes as:\n",
    "*restriction_enzymes = [eco_r1, bam_h1, hind3]*. \n",
    "Create a new variable *my_enzyme = 'catgac’*\n",
    "\n",
    "2. Make a new list with **my_enzyme** added to the existing list of restriction enzymes. \n",
    "\n",
    "3. Make a new list containing 3 repetitions of *eco_r1*, 4 repetitions of *bam_h1*, and 2 repetitions of *hind3*.\n",
    "\n",
    "4. What is the length of the lists you just created?\n",
    "\n",
    "5. What is the maximum value of the list?\n",
    "\n",
    "6. What is the minimum value of the list? \n"
   ]
  },
  {
   "cell_type": "code",
   "execution_count": null,
   "metadata": {
    "collapsed": false
   },
   "outputs": [],
   "source": [
    "# Create variable my_enzyme and concatenate it with restriction_enzyme list\n",
    "\n",
    "# Create list with repeated entries and find its length\n"
   ]
  },
  {
   "cell_type": "markdown",
   "metadata": {
    "collapsed": true
   },
   "source": [
    "# Looping Lists - Exercise\n",
    "\n",
    "1. Calculate the number of nucleotides (A, T, G, and C) used by each restriction enzyme? \n",
    "\n",
    "2. Calculate the total number of nucleotides used by all restriction enzymes taken together?\n",
    "\n",
    "3. Use the list entry **seqs** given in the worksheet. How many DNA and RNA sequences are given in seqs? (Hint: try for loop, if elif conditions and string find command)\n",
    "\n",
    "4. Remember EcoRI cuts at restriction site 'gaattc'. Can you check how many sequences given in list seqs have EcoRI motif?\n",
    "\n",
    "    **Bonus Question**: Make a list containing ['A', 'AA', 'AAA', 'AAAA', ….., 20 A]."
   ]
  },
  {
   "cell_type": "code",
   "execution_count": null,
   "metadata": {
    "collapsed": false
   },
   "outputs": [],
   "source": [
    "# First try\n",
    "for item in my_list:\n",
    "    print item\n",
    "\n",
    "# range is a function that returns a list containing arithmetic progressions\n",
    "range(10)\n",
    "\n",
    "# If we need only the index\n",
    "for index in range(len(my_list)):\n",
    "    print index\n",
    "\n",
    "# If we need both the index and the item\n",
    "for index, item in enumerate(my_list):\n",
    "    print index, item    \n",
    "\n",
    "# Q1\n",
    "# Calculate number of nucleotides using for loop\n",
    "restriction_enzymes = [eco_r1.upper(), ?, ?]\n",
    "\n",
    "# for ? in ?:\n",
    "\n",
    "\n",
    "# Q2\n",
    "# Calculate number of nucleotides using for loop\n",
    "\n",
    "# for ? in ?:\n",
    "#    x = x + count\n",
    "\n",
    "# Q3\n",
    "# Hint: try for loop, if elif conditions and string find command\n",
    "seqs = ['actgactgactgaattcgactg','caucgaucgcgauacacgaucagcuacg','augcagacgacguacgu','atcgatcgatcgatcacgt','atcgtagctactagctagc','acgatcgtagctacgta','cgaucagucgaucgauccagcga','cguacguagcacaugcagucaguauacguacggacgacgac','catgactgactgatcgatgctgactgactg','atcggatctgaactgactg','actgactgactgactg','caucgaucgcgauacacgaucagcuacg','augcagacgacguacgu','atcgatcgaattcgatcgatcacgt','atcgtagctactagctagc','acgatcgaattcgtagctacgta','cgaucagucgaucgauccagcga','cguacguagcacaugcagucaguauacguacggacgacgac','catgactgactgatcgatgaattcgctgactgactg','aucggauccgaaccgacag']\n",
    "\n",
    "\n",
    "# Q4\n",
    "# Hint: try for loop and append list\n"
   ]
  },
  {
   "cell_type": "markdown",
   "metadata": {
    "collapsed": true
   },
   "source": [
    "## Modifying Lists\n",
    "1. Take list **seqs** and add 3 random DNA/RNA sequences at the end of the list\n",
    "\n",
    "2. Take list **seqs** and add 'atcg' as the third sequence of the list\n",
    "\n",
    "3. Create a new sorted list **seq_sort** from **seqs**"
   ]
  },
  {
   "cell_type": "code",
   "execution_count": null,
   "metadata": {
    "collapsed": true
   },
   "outputs": [],
   "source": [
    "# Try modifying lists\n",
    "molecules[?] = ?\n",
    "print molecules\n",
    "\n",
    "# Use list functions\n",
    "\n"
   ]
  },
  {
   "cell_type": "markdown",
   "metadata": {},
   "source": [
    "#### Modifying Lists\n",
    "\n",
    "1. Remove 'atcg' sequence of the list **seqs**\n",
    "\n",
    "2. Print 5th to 10th sequence entry from the lists **seqs** and **seq_sort**"
   ]
  },
  {
   "cell_type": "code",
   "execution_count": null,
   "metadata": {
    "collapsed": true
   },
   "outputs": [],
   "source": [
    "# Use list functions\n"
   ]
  },
  {
   "cell_type": "markdown",
   "metadata": {},
   "source": [
    "### Converting strings to Lists\n",
    "\n",
    "Two essential command of list conversion are:\n",
    "- Create a list from a string: StringName.split()\n",
    "- Create a string from lists: ' '.join(ListName)\n",
    "\n",
    "\n",
    "1. Split *'atgcatgcatgc'* sequence using **split()** command \n",
    "2. Create a list by splitting *'atgcatgcatgc'* sequence using 't' as the separator."
   ]
  },
  {
   "cell_type": "code",
   "execution_count": null,
   "metadata": {
    "collapsed": true
   },
   "outputs": [],
   "source": [
    "# Try split and join command\n",
    "amino = 'Ala Cys Phe Val Glu'.split('')\n",
    "\n",
    "''.join(amino)\n",
    "\n",
    "# Try split command"
   ]
  },
  {
   "cell_type": "markdown",
   "metadata": {},
   "source": [
    "# Tuples\n",
    "\n",
    "#### Tuples are Python sequence but unlike lists they are immutable. Tuples use parentheses and lists use square brackets.\n",
    "\n",
    "tup1 = ('physics', 'chemistry', 1997, 2000)\n",
    "\n",
    "tup2 = (1, 2, 3, 4, 5 )\n",
    "\n",
    "tup3 = ('a', 'b', 'c', 'd')\n",
    "\n",
    "#### Accessing tuples:\n",
    "\n",
    "print \"tup1[0]: \", tup1[0]\n",
    "\n",
    "print \"tup2[1:5]: \", tup2[1:5]\n",
    "\n",
    "#### Try to assign tuples:\n",
    "\n",
    "tup1[2] = 2015\n",
    "\n",
    "tup4 = tup2 + tup3"
   ]
  },
  {
   "cell_type": "code",
   "execution_count": null,
   "metadata": {
    "collapsed": true
   },
   "outputs": [],
   "source": [
    "# Make tuples with different items\n",
    "\n",
    "# Access different elements from tuples\n",
    "\n",
    "# Assign different values to tuples"
   ]
  },
  {
   "cell_type": "markdown",
   "metadata": {},
   "source": [
    "## Tuples Exercise\n",
    "\n",
    "Suppose you want to find distance between Carbon\n",
    "atoms in a protein sequence.\n",
    "\n",
    "Assign 4 tuples each containing the 3D co-ordinates:\n",
    "\n",
    "\n",
    "||X|Y|Z|\n",
    "|---|---|---|---|\n",
    "|C29|0.55|1.256|-1.153|\n",
    "|C103|1.28|-1.72|1.24|\n",
    "|C115|1.59|1.73|1.04|\n",
    "|C118|1.36|-1.86|-1.74|\n",
    "\n",
    "Calculate square distance between different carbon atoms. Hint use: (x1-x2)^2+(y1-y2)^2+(z1-z2)^2\n"
   ]
  },
  {
   "cell_type": "code",
   "execution_count": null,
   "metadata": {
    "collapsed": true
   },
   "outputs": [],
   "source": [
    "# Hint: make a list\n",
    "# Each element of the list can contain a tuples with coordinates of a carbon atom\n",
    "\n",
    "c_atoms = [?]*?\n",
    "c_atoms[0]=?\n",
    "\n",
    "# use two for loops to calculate distance between their X, Y and Z\n",
    "\n",
    "for i in ?:\n",
    "    for j in ?:"
   ]
  }
 ],
 "metadata": {
  "kernelspec": {
   "display_name": "Python 2",
   "language": "python",
   "name": "python2"
  },
  "language_info": {
   "codemirror_mode": {
    "name": "ipython",
    "version": 2
   },
   "file_extension": ".py",
   "mimetype": "text/x-python",
   "name": "python",
   "nbconvert_exporter": "python",
   "pygments_lexer": "ipython2",
   "version": "2.7.11"
  }
 },
 "nbformat": 4,
 "nbformat_minor": 0
}
