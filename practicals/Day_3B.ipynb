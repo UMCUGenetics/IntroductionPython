{
 "cells": [
  {
   "cell_type": "markdown",
   "metadata": {},
   "source": [
    "## Plotting in Python\n",
    "\n",
    "Matplotlib is a Python 2D plotting library which produces publication quality figures.\n",
    "\n",
    "You can generate plots, histograms, power spectra, bar charts, errorcharts, scatterplots, etc, with just a few lines of code.\n",
    "\n",
    "Check the link for more details: http://matplotlib.org/\n",
    "\n",
    "\n",
    "-----------------------------------------------------------------------------------------\n",
    "\n",
    "Use the following line to allow the plots to be displayed as part of the jupyter notebook:\n",
    "\n",
    "    %matplotlib inline"
   ]
  },
  {
   "cell_type": "code",
   "execution_count": null,
   "metadata": {
    "collapsed": false
   },
   "outputs": [],
   "source": [
    "# The following line to allow the plots to be displayed as part of the jupyter notebook\n",
    "\n",
    "%matplotlib inline\n",
    "\n",
    "\n",
    "# Import matplotlib's function pyplot to make simple plots\n",
    "\n",
    "import matplotlib.pyplot as plt # To avoid using big names rename the module as plt\n",
    "plt.plot([1,2,3,4],[2,4,6,12]) \n",
    "plt.show()\n"
   ]
  },
  {
   "cell_type": "markdown",
   "metadata": {},
   "source": [
    "### Plotting\n",
    "\n",
    "Add a second line to the plot. Try to use different line colors, markers and linestyles.\n",
    "\n",
    "Check the link for plotting: http://matplotlib.org/users/pyplot_tutorial.html"
   ]
  },
  {
   "cell_type": "code",
   "execution_count": null,
   "metadata": {
    "collapsed": false
   },
   "outputs": [],
   "source": [
    "# Import matplotlib's function pyplot to make simple plots\n",
    "\n",
    "import matplotlib.pyplot as plt\n",
    "\n",
    "# Plot a line\n",
    "plt.plot([1,2,3,4],[2,4,6,12],label='Series1') \n",
    "\n",
    "# Add Label for the X axis \n",
    "plt.xlabel('X') \n",
    "\n",
    "# Add Label for the Y axis \n",
    "plt.ylabel('Y') \n",
    "\n",
    "# Add Title to the plot \n",
    "plt.title('Test Plot') \n",
    "\n",
    "plt.show()"
   ]
  },
  {
   "cell_type": "markdown",
   "metadata": {},
   "source": [
    "## Line Plots: Exercise\n",
    "\n"
   ]
  },
  {
   "cell_type": "code",
   "execution_count": null,
   "metadata": {
    "collapsed": false
   },
   "outputs": [],
   "source": [
    "# Import matplotlib's function pyplot to make simple plots\n",
    "# Import math module to access sin and cosine functions\n",
    "\n",
    "import matplotlib.pyplot as plt\n",
    "import math\n",
    "\n",
    "x=[] # Empty list to store x axis values\n",
    "cos_y=[] # Empty list to store cosine values\n",
    "sin_y=[] # Empty list to store sine values\n",
    "\n",
    "# Create 60 data points\n",
    "for i in range(60):\n",
    "    x += [0.1*i] \n",
    "    cos_y += [math.cos(0.1*i)] \n",
    "    sin_y += [math.sin(0.1*i)] \n",
    "\n",
    "# Plot x vs cos_y and x vs sin_y"
   ]
  },
  {
   "cell_type": "markdown",
   "metadata": {},
   "source": [
    "## Histograms\n",
    "\n",
    "To make histograms, let us first create some data which is normally distributed.\n",
    "\n",
    "To create a histogram use hist() function of matplotlib.pyplot"
   ]
  },
  {
   "cell_type": "code",
   "execution_count": null,
   "metadata": {
    "collapsed": false
   },
   "outputs": [],
   "source": [
    "import matplotlib.pyplot as plt\n",
    "import random \n",
    "\n",
    "#Create an empty list to store data \n",
    "data=[] \n",
    "\n",
    "#Generate 500 data values \n",
    "for i in range(500): \n",
    "    data += [random.normalvariate(10, 3)] \n",
    "\n",
    "#Plot a histogram \n",
    "plt.hist(data) \n",
    "\n",
    "#Set X and Y labels and plot title \n",
    "plt.xlabel('Values') \n",
    "plt.ylabel('Frequency') \n",
    "plt.title('Normal Distribution') \n",
    "\n",
    "plt.show()"
   ]
  },
  {
   "cell_type": "markdown",
   "metadata": {},
   "source": [
    "## Plotting: Exercise\n",
    "\n",
    "* Exercise 1\n",
    "\t- Create 2 random DNA sequences (random_seq1 and random_seq2) \tof length 500.\n",
    "\t- Use your own dna_tools module to count nucleotide usage (A,T,G, \tand C) in seq_r1 and seq_r2. \n",
    "\t- Make a line plot to display the nucleotide usage. \n",
    "\t- Use different markers for different sequences.\n",
    "* Exercise 2:\n",
    "\t- Generate 100 random DNA sequences of length 500. \n",
    "\t- Plot a histogram for 'A' nucleotide usage in the 100 random DNA \tsequences. \n",
    "\t- Add histograms of other nucleotide usage in the same histogram.\n"
   ]
  },
  {
   "cell_type": "code",
   "execution_count": null,
   "metadata": {
    "collapsed": false
   },
   "outputs": [],
   "source": [
    "# Import module to help us generate random numbers/entries\n",
    "# Import counting function you created earlier\n",
    "\n",
    "\n",
    "\n",
    "# Use for loop to create two random sequences, each of length = 500\n",
    "\n",
    "\n",
    "# Use your the function that you imported to get A,T,G, and C composition of the random sequences\n",
    "\n",
    "\n",
    "# Plot the A,T,G, and C compositions of the two random sequences in a single plot\n",
    "# Use different markers, labels etc to distinguish between two lines\n",
    "\n"
   ]
  },
  {
   "cell_type": "code",
   "execution_count": null,
   "metadata": {
    "collapsed": false
   },
   "outputs": [],
   "source": [
    "# Import module to help us generate random numbers/entries\n",
    "# Import counting function you created earlier\n",
    "\n",
    "# Make a list to store 100 sequences, each of length 500\n",
    "\n",
    "\n",
    "# Use for loop to create 100 random sequences, each of length = 500\n",
    "\n",
    "\n",
    "# Use for loop to count bases in each sequence\n",
    "\n",
    "\n",
    "# Plot the results in the form of a histogram\n",
    "\n"
   ]
  }
 ],
 "metadata": {
  "kernelspec": {
   "display_name": "Python 2",
   "language": "python",
   "name": "python2"
  },
  "language_info": {
   "codemirror_mode": {
    "name": "ipython",
    "version": 2
   },
   "file_extension": ".py",
   "mimetype": "text/x-python",
   "name": "python",
   "nbconvert_exporter": "python",
   "pygments_lexer": "ipython2",
   "version": "2.7.11"
  }
 },
 "nbformat": 4,
 "nbformat_minor": 0
}
