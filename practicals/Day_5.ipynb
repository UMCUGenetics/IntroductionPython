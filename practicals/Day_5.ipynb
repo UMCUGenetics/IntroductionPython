{
 "cells": [
  {
   "cell_type": "markdown",
   "metadata": {},
   "source": [
    "# Ensembl REST API – urllib2\n",
    "HTTP is based on requests and responses\n",
    "Using urllib2 we can make http request using python and get a response from the server.\n",
    "Try the example below and see what it does:"
   ]
  },
  {
   "cell_type": "code",
   "execution_count": null,
   "metadata": {
    "collapsed": false
   },
   "outputs": [],
   "source": [
    "import urllib2\n",
    "request = urllib2.Request('http://www.python.org')\n",
    "response = urllib2.urlopen(request)\n",
    "html = response.read()\n",
    "print html"
   ]
  },
  {
   "cell_type": "markdown",
   "metadata": {},
   "source": [
    "# Ensembl REST API – urllib2\n",
    "Use urllib2 to:\n",
    "\t- Find the Ensembl ID of P53\n",
    "\t\tPrint the content of the response\n",
    "\t\n",
    "\t- Parse the response\n",
    "\t\tStore the Ensembl gene ID in a variable\n",
    "\n",
    "\t- Request all transcripts of P53\n",
    "\t\tUse the Ensembl gene ID variable\n",
    "\t\tPrint the content of the response"
   ]
  },
  {
   "cell_type": "code",
   "execution_count": null,
   "metadata": {
    "collapsed": false
   },
   "outputs": [],
   "source": [
    "# Type your code here"
   ]
  },
  {
   "cell_type": "markdown",
   "metadata": {},
   "source": [
    "# Ensembl REST API – JSON – parsing\n",
    "Try to understand the script below:"
   ]
  },
  {
   "cell_type": "code",
   "execution_count": null,
   "metadata": {
    "collapsed": false
   },
   "outputs": [],
   "source": [
    "import json\n",
    "json_string = '[{\"key\":\"value\",\"key_2\":3.0},{\"key_3\":[2, 4]}]'\n",
    "json_parsed = json.loads(json_string)\n",
    "print \"JSON_STRING =\", json_string\n",
    "print \"JSON_PARSED =\", json_parsed\n",
    "print json_parsed[0]\n",
    "print json_parsed[1]['key_3']"
   ]
  },
  {
   "cell_type": "markdown",
   "metadata": {},
   "source": [
    "# Ensembl REST API – JSON exercise\n",
    "Lets download a JSON file and parse it\n",
    "\n",
    "Use wget to store, or download via the browser: \n",
    "\thttp://rest.ensembl.org/info/assembly/homo_sapiens?content-type=application/json\n",
    "\n",
    "Read the file with Python and parse the file\n",
    "\n",
    "Print the following information:\n",
    "- Assembly name and date\n",
    "- Name and length of the chromosomes"
   ]
  },
  {
   "cell_type": "code",
   "execution_count": null,
   "metadata": {
    "collapsed": false
   },
   "outputs": [],
   "source": [
    "# Read the file with Python and parse the file\n",
    "# Type your code here"
   ]
  },
  {
   "cell_type": "code",
   "execution_count": null,
   "metadata": {
    "collapsed": false
   },
   "outputs": [],
   "source": [
    "# Print the following information:\n",
    "# Assembly name and date\n",
    "# Type your code here"
   ]
  },
  {
   "cell_type": "code",
   "execution_count": null,
   "metadata": {
    "collapsed": false
   },
   "outputs": [],
   "source": [
    "# Name and length of the chromosomes\n",
    "# Type your code here"
   ]
  },
  {
   "cell_type": "markdown",
   "metadata": {},
   "source": [
    "# Ensembl REST API – urllib2 and JSON\n",
    "Exercise, use and try to understand the following script:"
   ]
  },
  {
   "cell_type": "code",
   "execution_count": null,
   "metadata": {
    "collapsed": false
   },
   "outputs": [],
   "source": [
    "import urllib2\n",
    "import json\n",
    "\n",
    "server = \"http://rest.ensembl.org\"\n",
    "endpoint = \"/xrefs/symbol/homo_sapiens/BRCA2\"\n",
    "headers = {}\n",
    "headers['Content-Type'] = 'application/json'\n",
    "\n",
    "request = urllib2.Request(server + endpoint, headers=headers)\n",
    "response = urllib2.urlopen(request)\n",
    "content = response.read()\n",
    "data = json.loads(content)\n",
    "\n",
    "print data[0]['id']"
   ]
  },
  {
   "cell_type": "markdown",
   "metadata": {},
   "source": [
    "# Ensembl REST API – Last exercise\n",
    "Use urllib2 and json to make a small tool:\n",
    "- Ask the user for a gene symbol (e.g. BRCA2)\n",
    "- Find the ensembl id of that gene\n",
    "- Print the gene and Ensembl ID\n",
    "\n",
    "Request all transcripts of the gene using the Ensembl ID\n",
    "Print for each transcript (separated by a tab):\n",
    "- ID\n",
    "- Location = chr:start-end\n",
    "- Biotype\n",
    "\n",
    "Extra - Make functions for:\n",
    "- Rest requests\t\t\t-> EnsemblRestRequest(endpoint, parameters)\n",
    "- Get Ensembl stable gene ID \t-> GetEnsemblGeneId(gene_symbol)\n",
    "- Get transcripts \t\t\t-> GetTranscripts(gene_ensembl_id)\n"
   ]
  },
  {
   "cell_type": "code",
   "execution_count": null,
   "metadata": {
    "collapsed": true
   },
   "outputs": [],
   "source": [
    "# Type your code here"
   ]
  }
 ],
 "metadata": {
  "kernelspec": {
   "display_name": "Python 2",
   "language": "python",
   "name": "python2"
  },
  "language_info": {
   "codemirror_mode": {
    "name": "ipython",
    "version": 2
   },
   "file_extension": ".py",
   "mimetype": "text/x-python",
   "name": "python",
   "nbconvert_exporter": "python",
   "pygments_lexer": "ipython2",
   "version": "2.7.11"
  }
 },
 "nbformat": 4,
 "nbformat_minor": 0
}
