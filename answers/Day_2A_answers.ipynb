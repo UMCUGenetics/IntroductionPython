{
 "cells": [
  {
   "cell_type": "markdown",
   "metadata": {
    "deletable": true,
    "editable": true
   },
   "source": [
    "# Lists\n",
    "- Lets make a list: \n",
    "- Execute the code by pressing ctrl + enter\n",
    "    - Name: my_list \n",
    "    - Value: []"
   ]
  },
  {
   "cell_type": "code",
   "execution_count": null,
   "metadata": {
    "collapsed": false,
    "deletable": true,
    "editable": true
   },
   "outputs": [],
   "source": [
    "# Write here your code to make an empty list\n",
    "my_list = []"
   ]
  },
  {
   "cell_type": "markdown",
   "metadata": {
    "deletable": true,
    "editable": true
   },
   "source": [
    "### Write your code to make lists: \n",
    "- empty list which can hold 4 items\n",
    "- list called molecules containing elements: DNA, RNA, Protein and Lipid\n",
    "- containing 4 sequences\n",
    "- containing at least 1 string, 1 integer, and 1 boolean"
   ]
  },
  {
   "cell_type": "code",
   "execution_count": null,
   "metadata": {
    "collapsed": false,
    "deletable": true,
    "editable": true
   },
   "outputs": [],
   "source": [
    "# Write here your code to make lists\n",
    "my_list = [None]*4\n",
    "molecules = ['DNA','RNA','Protein','Lipid']\n",
    "seqs = ['ATCG','CATG','TACG','ACTG']\n",
    "mixed_list = ['ATG', 5, True, '089']\n",
    "\n",
    "print molecules\n",
    "print seqs\n",
    "print mixed_list"
   ]
  },
  {
   "cell_type": "markdown",
   "metadata": {
    "deletable": true,
    "editable": true
   },
   "source": [
    "## Accessing Lists\n",
    "\n",
    "Using the lists that you have created, check what is stored at index 1 of the list 'molecules'"
   ]
  },
  {
   "cell_type": "code",
   "execution_count": null,
   "metadata": {
    "collapsed": false,
    "deletable": true,
    "editable": true
   },
   "outputs": [],
   "source": [
    "# molecules[1]?\n",
    "print molecules[1]\n",
    "\n",
    "# What is the index for 'DNA' in the list molecules?\n",
    "print molecules[0]\n",
    "\n",
    "# Try command list.index(object)\n",
    "molecules.index('DNA')"
   ]
  },
  {
   "cell_type": "markdown",
   "metadata": {
    "deletable": true,
    "editable": true
   },
   "source": [
    "# Lists – Exercise\n",
    "\n",
    "1. Create the following 3 string variables with their restriction sites:\n",
    "    * eco_r1  : gaattc\n",
    "    * bam_h1  : ggatcc\n",
    "    * hind3   : aagctt\n",
    "2. Make a list called **restriction_enzymes** containing the 3 restriction sites.\n",
    "\n",
    "3. Using a single command print the restriction sites in the list on 3 different lines.\n",
    "\n",
    "4. Print the first letter of **eco_r1** using the list."
   ]
  },
  {
   "cell_type": "code",
   "execution_count": null,
   "metadata": {
    "collapsed": true,
    "deletable": true,
    "editable": true
   },
   "outputs": [],
   "source": [
    "# Q1, hint: eco_r1 = ? \n",
    "eco_r1 = 'gaattc'\n",
    "# bam_h1 = ?\n",
    "bam_h1 = 'ggatcc'\n",
    "# hind3 =\n",
    "hind3 = 'aagctt'"
   ]
  },
  {
   "cell_type": "code",
   "execution_count": null,
   "metadata": {
    "collapsed": true,
    "deletable": true,
    "editable": true
   },
   "outputs": [],
   "source": [
    "# Q2, hint: restriction_enzymes = \n",
    "restriction_enzymes = [eco_r1, bam_h1, hind3]"
   ]
  },
  {
   "cell_type": "code",
   "execution_count": null,
   "metadata": {
    "collapsed": false,
    "deletable": true,
    "editable": true
   },
   "outputs": [],
   "source": [
    "# Q3, hint: print \"EcoRI: \", restriction_enzymes[?], ... \n",
    "print \"EcoRI: \", restriction_enzymes[0], \"\\nBamHI: \", restriction_enzymes[1], \"\\nHindIII: \", restriction_enzymes[2]"
   ]
  },
  {
   "cell_type": "code",
   "execution_count": null,
   "metadata": {
    "collapsed": false,
    "deletable": true,
    "editable": true
   },
   "outputs": [],
   "source": [
    "# Q4, hint: restriction_enzymes??\n",
    "print restriction_enzymes[0][0]"
   ]
  },
  {
   "cell_type": "code",
   "execution_count": null,
   "metadata": {
    "collapsed": false,
    "deletable": true,
    "editable": true
   },
   "outputs": [],
   "source": [
    "# Bonus question: Change first letter of eco_r1 restriction site from g to G stored in the list 'restriction_enzymes'\n",
    "restriction_enzymes[0] = restriction_enzymes[0].capitalize()\n",
    "print restriction_enzymes"
   ]
  },
  {
   "cell_type": "markdown",
   "metadata": {
    "deletable": true,
    "editable": true
   },
   "source": [
    "# Basic List operations\n",
    "\n",
    "Adding (concatenate) two lists\n",
    "\n",
    "Repeating items in list\n",
    "\n",
    "Compare two lists: cmp(L1, L2)\n",
    "\n",
    "Length of a list: len(L1)\n",
    "\n",
    "Maximum value: max(L1)\n",
    "\n",
    "Minimum value: min(L1)"
   ]
  },
  {
   "cell_type": "code",
   "execution_count": null,
   "metadata": {
    "collapsed": false,
    "deletable": true,
    "editable": true
   },
   "outputs": [],
   "source": [
    "# Try some list operations\n",
    "my_list = [1, 2, 5] + [3, 4, 6]\n",
    "print my_list\n",
    "print ['A']*4\n",
    "print len(restriction_enzymes)\n",
    "print max(my_list)\n",
    "print min(my_list)"
   ]
  },
  {
   "cell_type": "markdown",
   "metadata": {
    "deletable": true,
    "editable": true
   },
   "source": [
    "## Basic List operations - Exercise\n",
    "1. Remember that we made a list of restriction enzymes as:\n",
    "*restriction_enzymes = [eco_r1, bam_h1, hind3]*. \n",
    "Create a new variable *my_enzyme = 'catgac’*\n",
    "\n",
    "2. Make a new list with **my_enzyme** added to the existing list of restriction enzymes. \n",
    "\n",
    "3. Make a new list containing 3 repetitions of *eco_r1*, 4 repetitions of *bam_h1*, and 2 repetitions of *hind3*.\n",
    "\n",
    "4. What is the length of the lists you just created?\n",
    "\n",
    "5. What is the maximum value of the list?\n",
    "\n",
    "6. What is the minimum value of the list? \n"
   ]
  },
  {
   "cell_type": "code",
   "execution_count": null,
   "metadata": {
    "collapsed": false,
    "deletable": true,
    "editable": true
   },
   "outputs": [],
   "source": [
    "# Create variable my_enzyme and concatenate it with restriction_enzyme list\n",
    "my_enzyme = 'catgac'\n",
    "restriction_enzymes_v2 = [my_enzyme] + restriction_enzymes\n",
    "print restriction_enzymes_v2"
   ]
  },
  {
   "cell_type": "code",
   "execution_count": null,
   "metadata": {
    "collapsed": false,
    "deletable": true,
    "editable": true
   },
   "outputs": [],
   "source": [
    "# Create list with repeated entries and find its length\n",
    "restriction_enzymes_v3 = [eco_r1]*3 + [bam_h1]*4 + [hind3]*2\n",
    "print restriction_enzymes_v3\n",
    "restriction_enzymes_v3 = [eco_r1*3, bam_h1*4, hind3*2]\n",
    "print restriction_enzymes_v3\n",
    "print len(restriction_enzymes_v3)\n",
    "print max(restriction_enzymes_v3)\n",
    "print min(restriction_enzymes_v3)"
   ]
  },
  {
   "cell_type": "markdown",
   "metadata": {
    "collapsed": true,
    "deletable": true,
    "editable": true
   },
   "source": [
    "# Looping Lists - Exercise\n",
    "\n",
    "1. Calculate the number of nucleotides (A, T, G, and C) used by each restriction enzyme? \n",
    "\n",
    "2. Calculate the total number of nucleotides used by all restriction enzymes taken together?\n",
    "\n",
    "3. Use the list entry **seqs** given in the worksheet. How many DNA and RNA sequences are given in seqs? (Hint: try for loop, if elif conditions and string find command)\n",
    "\n",
    "4. Remember EcoRI cuts at restriction site 'gaattc'. Can you check how many sequences given in list seqs have EcoRI motif?\n",
    "\n",
    "    **Bonus Question**: Make a list containing ['A', 'AA', 'AAA', 'AAAA', ….., 20 A]."
   ]
  },
  {
   "cell_type": "code",
   "execution_count": null,
   "metadata": {
    "collapsed": false,
    "deletable": true,
    "editable": true
   },
   "outputs": [],
   "source": [
    "# First try\n",
    "for item in my_list:\n",
    "    print item\n",
    "\n",
    "# range is a function that returns a list containing arithmetic progressions\n",
    "range(10)\n",
    "\n",
    "# If we need only the index\n",
    "for index in range(len(my_list)):\n",
    "    print index\n",
    "\n",
    "# If we need both the index and the item\n",
    "for index, item in enumerate(my_list):\n",
    "    print index, item    "
   ]
  },
  {
   "cell_type": "code",
   "execution_count": null,
   "metadata": {
    "collapsed": false,
    "deletable": true,
    "editable": true
   },
   "outputs": [],
   "source": [
    "# Q1\n",
    "# Calculate number of nucleotides using for loop\n",
    "restriction_enzymes = [eco_r1.upper(), bam_h1.upper(), hind3.upper()]\n",
    "\n",
    "i=0\n",
    "# for ? in ?:\n",
    "for enzyme in restriction_enzymes:\n",
    "    i+=1\n",
    "    print \"\\nChecking enzyme\", i\n",
    "    A = enzyme.count('A')\n",
    "    T = enzyme.count('T')\n",
    "    G = enzyme.count('G')\n",
    "    C = enzyme.count('C')\n",
    "    print \"A T G C\"\n",
    "    print A, T, G, C"
   ]
  },
  {
   "cell_type": "code",
   "execution_count": null,
   "metadata": {
    "collapsed": false,
    "deletable": true,
    "editable": true
   },
   "outputs": [],
   "source": [
    "# Q2\n",
    "# Calculate number of nucleotides using for loop\n",
    "\n",
    "restriction_enzymes = [eco_r1.upper(), bam_h1.upper(), hind3.upper()]\n",
    "A=0\n",
    "T=0\n",
    "G=0\n",
    "C=0\n",
    "# for ? in ?:\n",
    "#    x = x + count\n",
    "for enzyme in restriction_enzymes:\n",
    "    A = A + enzyme.count('A')\n",
    "    T = T + enzyme.count('T')\n",
    "    G = G + enzyme.count('G')\n",
    "    C = C + enzyme.count('C')\n",
    "print \"Total Nucleotide usage:\\nA T G C\"\n",
    "print A, T, G, C"
   ]
  },
  {
   "cell_type": "code",
   "execution_count": null,
   "metadata": {
    "collapsed": false,
    "deletable": true,
    "editable": true
   },
   "outputs": [],
   "source": [
    "# Q3\n",
    "# Hint: try for loop, if elif conditions and string find command\n",
    "seqs = ['actgactgactgaattcgactg','caucgaucgcgauacacgaucagcuacg','augcagacgacguacgu','atcgatcgatcgatcacgt','atcgtagctactagctagc','acgatcgtagctacgta','cgaucagucgaucgauccagcga','cguacguagcacaugcagucaguauacguacggacgacgac','catgactgactgatcgatgctgactgactg','atcggatctgaactgactg','actgactgactgactg','caucgaucgcgauacacgaucagcuacg','augcagacgacguacgu','atcgatcgaattcgatcgatcacgt','atcgtagctactagctagc','acgatcgaattcgtagctacgta','cgaucagucgaucgauccagcga','cguacguagcacaugcagucaguauacguacggacgacgac','catgactgactgatcgatgaattcgctgactgactg','aucggauccgaaccgacag']\n",
    "\n",
    "dna_sequence_count = 0\n",
    "rna_sequence_count = 0\n",
    "for sequence in seqs:\n",
    "    if sequence.find('t') >= 0:\n",
    "        dna_sequence_count = dna_sequence_count + 1\n",
    "    elif sequence.find('u') >= 0:\n",
    "        rna_sequence_count = rna_sequence_count + 1\n",
    "print \"DNA seqs =\", dna_sequence_count, \"\\nRNA seqs =\", rna_sequence_count"
   ]
  },
  {
   "cell_type": "code",
   "execution_count": null,
   "metadata": {
    "collapsed": false,
    "deletable": true,
    "editable": true
   },
   "outputs": [],
   "source": [
    "# Q4\n",
    "# Hint: try for loop and append list\n",
    "my_list = []\n",
    "for i in range(20):\n",
    "    my_list = my_list + ['A'*(i+1)]\n",
    "print my_list"
   ]
  },
  {
   "cell_type": "markdown",
   "metadata": {
    "collapsed": true,
    "deletable": true,
    "editable": true
   },
   "source": [
    "## Modifying Lists\n",
    "1. Take list **seqs** and add 3 random DNA/RNA sequences at the end of the list\n",
    "\n",
    "2. Take list **seqs** and add 'atcg' as the third sequence of the list\n",
    "\n",
    "3. Create a new sorted list **seq_sort** from **seqs**"
   ]
  },
  {
   "cell_type": "code",
   "execution_count": null,
   "metadata": {
    "collapsed": false,
    "deletable": true,
    "editable": true
   },
   "outputs": [],
   "source": [
    "# Use list functions\n",
    "seqs.extend(['cagtcagt','agctcgat','tacgtagc'])\n",
    "print seqs"
   ]
  },
  {
   "cell_type": "code",
   "execution_count": null,
   "metadata": {
    "collapsed": false,
    "deletable": true,
    "editable": true
   },
   "outputs": [],
   "source": [
    "seqs.insert(2,'atcg')\n",
    "print seqs"
   ]
  },
  {
   "cell_type": "code",
   "execution_count": null,
   "metadata": {
    "collapsed": false,
    "deletable": true,
    "editable": true
   },
   "outputs": [],
   "source": [
    "# This method sorts lists and stores them back\n",
    "#seqs.sort()\n",
    "#print seqs\n",
    "\n",
    "# To assign a new sorted list use sorted()\n",
    "seq_sorted = sorted(seqs)\n",
    "print seq_sorted"
   ]
  },
  {
   "cell_type": "markdown",
   "metadata": {
    "deletable": true,
    "editable": true
   },
   "source": [
    "#### Modifying Lists\n",
    "\n",
    "1. Remove 'atcg' sequence of the list **seqs**\n",
    "\n",
    "2. Print 5th to 10th sequence entry from the lists **seqs** and **seq_sort**"
   ]
  },
  {
   "cell_type": "code",
   "execution_count": null,
   "metadata": {
    "collapsed": false,
    "deletable": true,
    "editable": true
   },
   "outputs": [],
   "source": [
    "# Use list functions\n",
    "seqs.remove('atcg')\n",
    "print seqs[4:10]\n",
    "print seq_sorted[4:10]"
   ]
  },
  {
   "cell_type": "markdown",
   "metadata": {
    "deletable": true,
    "editable": true
   },
   "source": [
    "### Converting strings to Lists\n",
    "\n",
    "Two essential command of list conversion are:\n",
    "- Create a list from a string: StringName.split()\n",
    "- Create a string from lists: ' '.join(ListName)\n",
    "\n",
    "\n",
    "1. Split *'atgcatgcatgc'* sequence using **split()** command \n",
    "2. Create a list by splitting *'atgcatgcatgc'* sequence using 't' as the separator."
   ]
  },
  {
   "cell_type": "code",
   "execution_count": null,
   "metadata": {
    "collapsed": false,
    "deletable": true,
    "editable": true
   },
   "outputs": [],
   "source": [
    "# Try split and join command\n",
    "amino = 'Ala Cys Phe Val Glu'.split(' ')\n",
    "print amino\n",
    "print ' '.join(amino)"
   ]
  },
  {
   "cell_type": "code",
   "execution_count": null,
   "metadata": {
    "collapsed": false,
    "deletable": true,
    "editable": true
   },
   "outputs": [],
   "source": [
    "# \n",
    "print 'atgcatgcatgc'.split()\n",
    "print 'atgcatgcatgc'.split('t')"
   ]
  },
  {
   "cell_type": "markdown",
   "metadata": {
    "deletable": true,
    "editable": true
   },
   "source": [
    "# Tuples\n",
    "\n",
    "#### Tuples are Python sequence but unlike lists they are immutable. Tuples use parentheses and lists use square brackets.\n",
    "\n",
    "tup1 = ('physics', 'chemistry', 1997, 2000)\n",
    "\n",
    "tup2 = (1, 2, 3, 4, 5 )\n",
    "\n",
    "tup3 = ('a', 'b', 'c', 'd')\n",
    "\n",
    "#### Accessing tuples:\n",
    "\n",
    "print \"tup1[0]: \", tup1[0]\n",
    "\n",
    "print \"tup2[1:5]: \", tup2[1:5]\n",
    "\n",
    "#### Try to assign tuples:\n",
    "\n",
    "tup1[2] = 2015\n",
    "\n",
    "tup4 = tup2 + tup3"
   ]
  },
  {
   "cell_type": "code",
   "execution_count": null,
   "metadata": {
    "collapsed": true,
    "deletable": true,
    "editable": true
   },
   "outputs": [],
   "source": [
    "# Make tuples with different items\n",
    "\n",
    "# Access different elements from tuples\n",
    "\n",
    "# Assign different values to tuples"
   ]
  },
  {
   "cell_type": "markdown",
   "metadata": {
    "deletable": true,
    "editable": true
   },
   "source": [
    "## Tuples Exercise\n",
    "\n",
    "Suppose you want to find distance between Carbon\n",
    "atoms in a protein sequence.\n",
    "\n",
    "Assign 4 tuples each containing the 3D co-ordinates:\n",
    "\n",
    "\n",
    "||X|Y|Z|\n",
    "|---|---|---|---|\n",
    "|C29|0.55|1.256|-1.153|\n",
    "|C103|1.28|-1.72|1.24|\n",
    "|C115|1.59|1.73|1.04|\n",
    "|C118|1.36|-1.86|-1.74|\n",
    "\n",
    "Calculate square distance between different carbon atoms. Hint use: (x1-x2)^2+(y1-y2)^2+(z1-z2)^2\n"
   ]
  },
  {
   "cell_type": "code",
   "execution_count": null,
   "metadata": {
    "collapsed": false,
    "deletable": true,
    "editable": true
   },
   "outputs": [],
   "source": [
    "# Hint: make a list\n",
    "# Each element of the list can contain a tuples with coordinates of a carbon atom\n",
    "c_atoms = [None]*4\n",
    "c_atoms[0]=(0.55,1.256,-1.153)\n",
    "c_atoms[1]=(1.28,-1.72,1.24)\n",
    "c_atoms[2]=(1.59,1.73,1.04)\n",
    "c_atoms[3]=(1.36,-1.86,-1.74)\n",
    "\n",
    "\n",
    "# use two for loops to calculate distance between their X, Y and Z\n",
    "for i in range(len(c_atoms)):\n",
    "    for j in range(i+1,len(c_atoms)):\n",
    "        distance = 0\n",
    "        distance = distance + (c_atoms[i][0]-c_atoms[j][0])*(c_atoms[i][0]-c_atoms[j][0])\n",
    "        distance = distance + (c_atoms[i][1]-c_atoms[j][1])*(c_atoms[i][1]-c_atoms[j][1])\n",
    "        distance = distance + (c_atoms[i][2]-c_atoms[j][2])*(c_atoms[i][2]-c_atoms[j][2])\n",
    "        print \"Distance between \",i+1, \"th Carbon and\", j+1, \"th Carbon is:\", distance"
   ]
  }
 ],
 "metadata": {
  "kernelspec": {
   "display_name": "Python 3",
   "language": "python",
   "name": "python3"
  },
  "language_info": {
   "codemirror_mode": {
    "name": "ipython",
    "version": 3
   },
   "file_extension": ".py",
   "mimetype": "text/x-python",
   "name": "python",
   "nbconvert_exporter": "python",
   "pygments_lexer": "ipython3",
   "version": "3.6.2"
  }
 },
 "nbformat": 4,
 "nbformat_minor": 0
}
