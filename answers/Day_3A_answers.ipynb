{
 "cells": [
  {
   "cell_type": "markdown",
   "metadata": {},
   "source": [
    "# Functions\n",
    "\n",
    "def **function_name()**:\n",
    "    \n",
    "    *Your code goes here*\n",
    "    \n",
    "    value = \"Do something useful\"\n",
    "    \n",
    "    return value\n",
    "\n",
    "\n",
    "def function_name(parameter1, parameter2):\n",
    "    #Your code goes here\n",
    "    \n",
    "    value = parameter1\n",
    "    \n",
    "    return value\n",
    "\n",
    "test = function_name(\"Hello\", ”Functions\")\n"
   ]
  },
  {
   "cell_type": "code",
   "execution_count": null,
   "metadata": {
    "collapsed": false
   },
   "outputs": [],
   "source": [
    "def hello_functions():\n",
    "    value = \"Hello World!\"\n",
    "    return value\n",
    "\n",
    "hello = hello_functions()\n",
    "print hello"
   ]
  },
  {
   "cell_type": "code",
   "execution_count": null,
   "metadata": {
    "collapsed": false
   },
   "outputs": [],
   "source": [
    "# Define a function to print a list\n",
    "# You can pass your own list to the function to perform some calculates on it\n",
    "def print_list(my_list):\n",
    "    for item in my_list:\n",
    "        print item\n",
    "\n",
    "test_list = [1,2,3]\n",
    "print_list(test_list)"
   ]
  },
  {
   "cell_type": "markdown",
   "metadata": {},
   "source": [
    "### Functions and Lists\n",
    "\n",
    "Let us write a function to calculate sum of all numbers given in a list.\n",
    "\n",
    "Play with the function sum_list and calculate sum of 2 different lists: \n",
    "\n",
    "    Sum of arithmetic progression  1,2,...100.\n",
    "    \n",
    "    Sum of series 1,1/2, 1/3, 1/4 …, 1/100.\n",
    "    \n",
    "    "
   ]
  },
  {
   "cell_type": "code",
   "execution_count": null,
   "metadata": {
    "collapsed": false
   },
   "outputs": [],
   "source": [
    "# Define a function to calculate sum of all the elements in the list\n",
    "def sum_list(list):\n",
    "    total = 0 # To store the sum of all the numbers in the list\n",
    "    # Loop over the list and add\n",
    "    # each value of the list to total\n",
    "    for item in list:\n",
    "        total += item # adds the item to the total; is same as total = total + item\n",
    "    # return total\n",
    "    return total #If you do not return total nothing will be passed!!\n",
    "\n",
    "test = [1,2,3]\n",
    "print sum_list(test) # The value returned by the function sum_list will be printed out "
   ]
  },
  {
   "cell_type": "code",
   "execution_count": null,
   "metadata": {
    "collapsed": false
   },
   "outputs": [],
   "source": [
    "# Calculate the sum of all numbers from 1 to 100\n",
    "my_ap = range(1,101,1)\n",
    "print sum_list(my_ap)"
   ]
  },
  {
   "cell_type": "code",
   "execution_count": null,
   "metadata": {
    "collapsed": false
   },
   "outputs": [],
   "source": [
    "# Calculate the sum of the series 1, 1/2, 1/3, 1/4, ..., 1/100\n",
    "my_series = []\n",
    "for i in range(1,101,1):\n",
    "    my_series += [1.0/i]\n",
    "print sum_list(my_series)"
   ]
  },
  {
   "cell_type": "markdown",
   "metadata": {},
   "source": [
    "### Functions and Lists - Exercise \n",
    "\n",
    "Now lets try to write a function to get all codons from the sequence: 'ACGATCGATCGTACGATCGATACG'\n"
   ]
  },
  {
   "cell_type": "code",
   "execution_count": null,
   "metadata": {
    "collapsed": false
   },
   "outputs": [],
   "source": [
    "def get_codons(seq):\n",
    "    #Make an empty list that will contain codons\n",
    "    codons = []\n",
    "    for i in range(0,len(seq),3):\n",
    "        print i\n",
    "        codons.append(seq[i:i+3])\n",
    "    return codons\n",
    "    #Loop over the seq to get all codons\n",
    "    #for codon in range(?,len(seq),?):\n",
    "        # Append your list with the codon from seq\n",
    "        # You can return the list containing codons\n",
    "        #return #your list #make sure that the return function is indented properly!!\n",
    "\n",
    "sequence = 'ACGATCGATCGTACGATCGATACG'\n",
    "print get_codons(sequence)"
   ]
  },
  {
   "cell_type": "markdown",
   "metadata": {},
   "source": [
    "## Functions and Dictionaries\n",
    "\n",
    "Write a function to calculate number of times a codon is used in the sequence: 'ACGATCGATCGTACGATCGATACG’.\n",
    "\n",
    "Remember a dictionary can be defined as:\n",
    "\n",
    "my_var = {'key':'value'}"
   ]
  },
  {
   "cell_type": "code",
   "execution_count": null,
   "metadata": {
    "collapsed": false
   },
   "outputs": [],
   "source": [
    "def get_codon_counts(seq):\n",
    "    codon_count = {} #Empty dictionary for codons\n",
    "    for i in range(0,len(seq),3):\n",
    "        codon = seq[i:i+3]\n",
    "        #Check if codon is in dictionary\n",
    "        if codon in codon_count:\n",
    "            codon_count[codon] += 1 #Increase count\n",
    "        else:\n",
    "            codon_count[codon] = 1 #Add codon\n",
    "    return codon_count\n",
    "\n",
    "sequence = 'ACGATCGATCGTACGATCGATACG'\n",
    "print get_codon_counts(sequence)"
   ]
  },
  {
   "cell_type": "markdown",
   "metadata": {},
   "source": [
    "## Functions: Exercise\n",
    "\n",
    "1. Make a function **get_counts** and count the number of times each dinucleotide (AA, AC, AT, AG, …., GC, GG) occurs in a sequence.\n",
    "\n",
    "2. Use HIV_gag.fasta sequence given below to calculate nucleotide counts, dinucleotide counts and codon counts using the same function **get_counts**.\n",
    "\n",
    "3. Make a function translate_dna to translate each codon into amino acid according to the genetic code. You can use the code given in the code hint to create a dictionary for the genetic code.\n",
    "\n",
    "4. Translate hiv_gag sequence into its protein sequence\n"
   ]
  },
  {
   "cell_type": "code",
   "execution_count": null,
   "metadata": {
    "collapsed": false
   },
   "outputs": [],
   "source": [
    "#HIV-1 gag sequence\n",
    "hiv_gag = 'ATGGGTGCGAGAGCGTCAGTATTAAGCGGGGGAGAATTAGATCGATGGGAAAAAATTCGGTTAAGGCCAGGGGGAAAGAAAAAATATAAATTAAAACATATAGTATGGGCAAGCAGGGAGCTAGAACGATTCGCAGTTAATCCTGGCCTGTTAGAAACATCAGAAGGCTGTAGACAAATACTGGGACAGCTACAACCATCCCTTCAGACAGGATCAGAAGAACTTAGATCATTATATAATACAGTAGCAACCCTCTATTGTGTGCATCAAAGGATAGAGATAAAAGACACCAAGGAAGCTTTAGACAAGATAGAGGAAGAGCAAAACAAAAGTAAGAAAAAAGCACAGCAAGCAGCAGCTGACACAGGACACAGCAATCAGGTCAGCCAAAATTACCCTATAGTGCAGAACATCCAGGGGCAAATGGTACATCAGGCCATATCACCTAGAACTTTAAATGCATGGGTAAAAGTAGTAGAAGAGAAGGCTTTCAGCCCAGAAGTGATACCCATGTTTTCAGCATTATCAGAAGGAGCCACCCCACAAGATTTAAACACCATGCTAAACACAGTGGGGGGACATCAAGCAGCCATGCAAATGTTAAAAGAGACCATCAATGAGGAAGCTGCAGAATGGGATAGAGTGCATCCAGTGCATGCAGGGCCTATTGCACCAGGCCAGATGAGAGAACCAAGGGGAAGTGACATAGCAGGAACTACTAGTACCCTTCAGGAACAAATAGGATGGATGACAAATAATCCACCTATCCCAGTAGGAGAAATTTATAAAAGATGGATAATCCTGGGATTAAATAAAATAGTAAGAATGTATAGCCCTACCAGCATTCTGGACATAAGACAAGGACCAAAGGAACCCTTTAGAGACTATGTAGACCGGTTCTATAAAACTCTAAGAGCCGAGCAAGCTTCACAGGAGGTAAAAAATTGGATGACAGAAACCTTGTTGGTCCAAAATGCGAACCCAGATTGTAAGACTATTTTAAAAGCATTGGGACCAGCGGCTACACTAGAAGAAATGATGACAGCATGTCAGGGAGTAGGAGGACCCGGCCATAAGGCAAGAGTTTTGGCTGAAGCAATGAGCCAAGTAACAAATTCAGCTACCATAATGATGCAGAGAGGCAATTTTAGGAACCAAAGAAAGATTGTTAAGTGTTTCAATTGTGGCAAAGAAGGGCACACAGCCAGAAATTGCAGGGCCCCTAGGAAAAAGGGCTGTTGGAAATGTGGAAAGGAAGGACACCAAATGAAAGATTGTACTGAGAGACAGGCTAATTTTTTAGGGAAGATCTGGCCTTCCTACAAGGGAAGGCCAGGGAATTTTCTTCAGAGCAGACCAGAGCCAACAGCCCCACCAGAAGAGAGCTTCAGGTCTGGGGTAGAGACAACAACTCCCCCTCAGAAGCAGGAGCCGATAGACAAGGAACTGTATCCTTTAACTTCCCTCAGGTCACTCTTTGGCAACGACCCCTCGTCACAATAAAGATAGGGGGGCAACTAAAGGAAGCTCTATTAGATACAGGAGCAGATGATACAGTATTAGAAGAAATGAGTTTGCCAGGAAGATGGAAACCAAAAATGATAGGGGGAATTGGAGGTTTTATCAAAGTAAGACAGTATGATCAGATACTCATAGAAATCTGTGGACATAAAGCTATAGGTACAGTATTAGTAGGACCTACACCTGTCAACATAATTGGAAGAAATCTGTTGACTCAGATTGGTTGCACTTTAAATTTTCCCATTAGCCCTATTGAGACTGTACCAGTAAAATTAAAGCCAGGAATGGATGGCCCAAAAGTTAAACAATGGCCATTGACAGAAGAAAAAATAAAAGCATTAGTAGAAATTTGTACAGAGATGGAAAAGGAAGGGAAAATTTCAAAAATTGGGCCTGAAAATCCATACAATACTCCAGTATTTGCCATAAAGAAAAAAGACAGTACTAAATGGAGAAAATTAGTAGATTTCAGAGAACTTAATAAGAGAACTCAAGACTTCTGGGAAGTTCAATTAGGAATACCACATCCCGCAGGGTTAAAAAAGAAAAAATCAGTAACAGTACTGGATGTGGGTGATGCATATTTTTCAGTTCCCTTAGATGAAGACTTCAGGAAGTATACTGCATTTACCATACCTAGTATAAACAATGAGACACCAGGGATTAGATATCAGTACAATGTGCTTCCACAGGGATGGAAAGGATCACCAGCAATATTCCAAAGTAGCATGACAAAAATCTTAGAGCCTTTTAGAAAACAAAATCCAGACATAGTTATCTATCAATACATGGATGATTTGTATGTAGGATCTGACTTAGAAATAGGGCAGCATAGAACAAAAATAGAGGAGCTGAGACAACATCTGTTGAGGTGGGGACTTACCACACCAGACAAAAAACATCAGAAAGAACCTCCATTCCTTTGGATGGGTTATGAACTCCATCCTGATAAATGGACAGTACAGCCTATAGTGCTGCCAGAAAAAGACAGCTGGACTGTCAATGACATACAGAAGTTAGTGGGGAAATTGAATTGGGCAAGTCAGATTTACCCAGGGATTAAAGTAAGGCAATTATGTAAACTCCTTAGAGGAACCAAAGCACTAACAGAAGTAATACCACTAACAGAAGAAGCAGAGCTAGAACTGGCAGAAAACAGAGAGATTCTAAAAGAACCAGTACATGGAGTGTATTATGACCCATCAAAAGACTTAATAGCAGAAATACAGAAGCAGGGGCAAGGCCAATGGACATATCAAATTTATCAAGAGCCATTTAAAAATCTGAAAACAGGAAAATATGCAAGAATGAGGGGTGCCCACACTAATGATGTAAAACAATTAACAGAGGCAGTGCAAAAAATAACCACAGAAAGCATAGTAATATGGGGAAAGACTCCTAAATTTAAACTGCCCATACAAAAGGAAACATGGGAAACATGGTGGACAGAGTATTGGCAAGCCACCTGGATTCCTGAGTGGGAGTTTGTTAATACCCCTCCCTTAGTGAAATTATGGTACCAGTTAGAGAAAGAACCCATAGTAGGAGCAGAAACCTTCTATGTAGATGGGGCAGCTAACAGGGAGACTAAATTAGGAAAAGCAGGATATGTTACTAATAGAGGAAGACAAAAAGTTGTCACCCTAACTGACACAACAAATCAGAAGACTGAGTTACAAGCAATTTATCTAGCTTTGCAGGATTCGGGATTAGAAGTAAACATAGTAACAGACTCACAATATGCATTAGGAATCATTCAAGCACAACCAGATCAAAGTGAATCAGAGTTAGTCAATCAAATAATAGAGCAGTTAATAAAAAAGGAAAAGGTCTATCTGGCATGGGTACCAGCACACAAAGGAATTGGAGGAAATGAACAAGTAGATAAATTAGTCAGTGCTGGAATCAGGAAAGTACTATTTTTAGATGGAATAGATAAGGCCCAAGATGAACATGAGAAATATCACAGTAATTGGAGAGCAATGGCTAGTGATTTTAACCTGCCACCTGTAGTAGCAAAAGAAATAGTAGCCAGCTGTGATAAATGTCAGCTAAAAGGAGAAGCCATGCATGGACAAGTAGACTGTAGTCCAGGAATATGGCAACTAGATTGTACACATTTAGAAGGAAAAGTTATCCTGGTAGCAGTTCATGTAGCCAGTGGATATATAGAAGCAGAAGTTATTCCAGCAGAAACAGGGCAGGAAACAGCATATTTTCTTTTAAAATTAGCAGGAAGATGGCCAGTAAAAACAATACATACTGACAATGGCAGCAATTTCACCGGTGCTACGGTTAGGGCCGCCTGTTGGTGGGCGGGAATCAAGCAGGAATTTGGAATTCCCTACAATCCCCAAAGTCAAGGAGTAGTAGAATCTATGAATAAAGAATTAAAGAAAATTATAGGACAGGTAAGAGATCAGGCTGAACATCTTAAGACAGCAGTACAAATGGCAGTATTCATCCACAATTTTAAAAGAAAAGGGGGGATTGGGGGGTACAGTGCAGGGGAAAGAATAGTAGACATAATAGCAACAGACATACAAACTAAAGAATTACAAAAACAAATTACAAAAATTCAAAATTTTCGGGTTTATTACAGGGACAGCAGAAATCCACTTTGGAAAGGACCAGCAAAGCTCCTCTGGAAAGGTGAAGGGGCAGTAGTAATACAAGATAATAGTGACATAAAAGTAGTGCCAAGAAGAAAAGCAAAGATCATTAGGGATTATGGAAAACAGATGGCAGGTGATGATTGTGTGGCAAGTAGACAGGATGAGGATTAGT'\n",
    "\n",
    "#### Use this code to translate codons into amino acids according to the genetic code\n",
    "bases = [\"T\",\"C\",\"A\",\"G\"]\n",
    "codons = [a+b+c for a in bases for b in bases for c in bases]\n",
    "amino_acids = \"FFLLSSSSYY**CC*WLLLLPPPPHHQQRRRRIIIMTTTTNNKKSSRRVVVVAAAADDEEGGGG\"\n",
    "codon_table = dict(zip(codons, amino_acids))\n",
    "####\n",
    "\n",
    "def get_counts(seq, base=3):\n",
    "    counts = {}\n",
    "    for i in range(0,len(seq),base):\n",
    "        slice = seq[i:i+base]\n",
    "        if slice in counts:\n",
    "            counts[slice ] += 1\n",
    "        else:\n",
    "            counts[slice ] = 1\n",
    "    return counts\n",
    "\n",
    "\n",
    "def translate_dna(dna_seq): \n",
    "    bases = [\"T\",\"C\",\"A\",\"G\"]\n",
    "    codons = [a+b+c for a in bases for b in bases for c in bases]\n",
    "    amino_acids = \"FFLLSSSSYY**CC*WLLLLPPPPHHQQRRRRIIIMTTTTNNKKSSRRVVVVAAAADDEEGGGG\"\n",
    "    codon_table = dict(zip(codons, amino_acids))\n",
    "    protein_seq = []\n",
    "    \n",
    "    for i in range(0,len(dna_seq),3):\n",
    "        codon = dna_seq[i:i+3]\n",
    "        protein_seq +=codon_table[codon]\n",
    "    return ''.join(protein_seq)\n",
    "\n",
    "print get_counts(hiv_gag,3)\n",
    "print translate_dna(hiv_gag)"
   ]
  },
  {
   "cell_type": "markdown",
   "metadata": {},
   "source": [
    "# Modules\n",
    "\n",
    "A module is a file consisting of Python code.\n",
    "\n",
    "A module allows you to logically organize your Python code.\n",
    "\n",
    "* To split it into several files for easier maintenance.\n",
    "    \n",
    "* To reuse that handy function that you’ve written in several programs, without copying it into every script.\n",
    "\n",
    "Remember we wrote a function to count the number of times a codon is used. We can store such functions in file so that we can use them later. We have stored get_counts and translate_dna into a file called **dna_tools.py** \n",
    "\n",
    "You can import a module in Python using its file name.\n",
    "\n",
    "Now load your dna_tools module and try to use both functions: get_counts and translate_dna."
   ]
  },
  {
   "cell_type": "code",
   "execution_count": null,
   "metadata": {
    "collapsed": false
   },
   "outputs": [],
   "source": [
    "import dna_tools #This calls the file dna_tools.py stored in the same folder\n",
    "print dna_tools.get_counts('ATCGATCATGAC')"
   ]
  },
  {
   "cell_type": "code",
   "execution_count": null,
   "metadata": {
    "collapsed": false
   },
   "outputs": [],
   "source": [
    "# You can also rename a module when you import it in Python and call the function inside the module.\n",
    "import dna_tools as tools\n",
    "\n",
    "print tools.get_counts('ATCGATCATGAC')\n",
    "print tools.translate_dna('ATCGATCATGAC')"
   ]
  },
  {
   "cell_type": "markdown",
   "metadata": {},
   "source": [
    "## Built-in Modules\n",
    "\n",
    "Module is a little toolbox or kit which is a collection of functions\n",
    "\n",
    "Package is a collection of modules\n",
    "\n",
    "Some important (default) modules:\n",
    "\t- math\n",
    "\t- itertools\n",
    "\t- random\n",
    "\t- sys\n",
    "\t- dir\n",
    "\t- And many more: https://docs.python.org/2/library/index.html\n"
   ]
  },
  {
   "cell_type": "code",
   "execution_count": null,
   "metadata": {
    "collapsed": false
   },
   "outputs": [],
   "source": [
    "# Use the math package and find the solutions to the following:\n",
    "# Square root of 10\n",
    "# Absolute value of -5.1\n",
    "# 2^10\n",
    "\n",
    "import math\n",
    "math.sqrt(10)\n",
    "math.fabs(-5.1)\n",
    "math.pow(2,10)\n",
    "\n",
    "# Use random module to generate a random number between 0 and 1.\n",
    "import random\n",
    "random.random()\n",
    "\n",
    "# Use random module to generate 10 random integers between 0 and 20.\n",
    "import random\n",
    "random.sample(range(21), 10)"
   ]
  },
  {
   "cell_type": "markdown",
   "metadata": {},
   "source": [
    "## Built-in Modules: Exercise\n",
    "\n",
    "1. Generate a random number, **ran**. If **ran** is 0 then print 'A', if **ran** is 1 then print 'T', if **ran** is 2 then print 'G', and if **ran** is 3 then print 'C'.\n",
    "\n",
    "2. Can you use another built-in function in random modules to directly generate 'ATGC's?\n",
    "\n",
    "3. Generate a dna sequence which is 500 bases long using the random module.\n",
    "\n",
    "4. Use the **dna_tools** module created by you to generate a di-nucleotide profile (i.e. frequency of AA, AT, ….GG) and tri-nucleotide profile of the dna sequence.  \n"
   ]
  },
  {
   "cell_type": "code",
   "execution_count": null,
   "metadata": {
    "collapsed": false
   },
   "outputs": [],
   "source": [
    "# Check the https://docs.python.org/2/library/index.html to see how to generate random numbers\n",
    "# Import a module which you can use to create random numbers\n",
    "# Hint: use if elif conditions\n",
    "\n",
    "import random\n",
    "ran = random.randint(0,3)\n",
    "if ran == 0:\n",
    "    print 'A'\n",
    "elif ran == 1:\n",
    "    print 'T'\n",
    "elif ran == 2:\n",
    "    print 'G'\n",
    "elif ran == 3:\n",
    "    print 'C'\n",
    "\n",
    "random.choice(['A','T','G','C'])"
   ]
  },
  {
   "cell_type": "code",
   "execution_count": null,
   "metadata": {
    "collapsed": false
   },
   "outputs": [],
   "source": [
    "# Import a module which you can use to create random numbers\n",
    "# Use for loop to create random DNA sequence of length 500\n",
    "import random\n",
    "\n",
    "seq = ''\n",
    "for i in range(500):\n",
    "    seq += random.choice(['A','T','G','C'])\n",
    "\n",
    "print seq"
   ]
  },
  {
   "cell_type": "code",
   "execution_count": null,
   "metadata": {
    "collapsed": false
   },
   "outputs": [],
   "source": [
    "# Import dna_tools and access the functions defined in dna_tools\n",
    "import dna_tools as tools\n",
    "print 'Nucleotide Profile:\\t\\t', tools.get_counts(seq,1)\n",
    "print 'Di-nucleotide Profile:\\t\\t', tools.get_counts(seq,2)\n",
    "print 'Tri-nucleotide Profile:\\t\\t', tools.get_counts(seq,3)"
   ]
  }
 ],
 "metadata": {
  "kernelspec": {
   "display_name": "Python 2",
   "language": "python",
   "name": "python2"
  },
  "language_info": {
   "codemirror_mode": {
    "name": "ipython",
    "version": 2
   },
   "file_extension": ".py",
   "mimetype": "text/x-python",
   "name": "python",
   "nbconvert_exporter": "python",
   "pygments_lexer": "ipython2",
   "version": "2.7.11"
  }
 },
 "nbformat": 4,
 "nbformat_minor": 0
}
