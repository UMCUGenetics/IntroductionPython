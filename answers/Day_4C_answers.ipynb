{
 "cells": [
  {
   "cell_type": "markdown",
   "metadata": {},
   "source": [
    "# File handling – The Hidden Message\n",
    "\n",
    "- The file \"genome.fa\" is a 1 million bp. piece from a bacterial genome\n",
    "\n",
    "- Find all open reading frames >= 450 nucleotides / 150 AA\n",
    "    - Remember an ORF can also be on the complementary strand!\n",
    "    - An ORF starts with \"ATG\"\n",
    "    - An ORF stops with \"TAA\", \"TAG\" or \"TGA\"\n",
    "\n",
    "- Translate the ORF into an single letter amino acid sequence\n",
    "    - ATG --> M\n",
    "\n",
    "- Sort the ORFs on length (large to small)\n",
    "\n",
    "- From the ORFs take in order the 25th AA\n",
    "\n",
    "- What is the hidden message?"
   ]
  },
  {
   "cell_type": "code",
   "execution_count": 1,
   "metadata": {
    "collapsed": true
   },
   "outputs": [],
   "source": [
    "# Obtain the AA translation code\n",
    "bases = [\"T\",\"C\",\"A\",\"G\"]\n",
    "codons = [a+b+c for a in bases for b in bases for c in bases]\n",
    "amino_acids = \"FFLLSSSSYY**CC*WLLLLPPPPHHQQRRRRIIIMTTTTNNKKSSRRVVVVAAAADDEEGGGG\"\n",
    "codon_table = dict(zip(codons, amino_acids))"
   ]
  },
  {
   "cell_type": "code",
   "execution_count": 2,
   "metadata": {
    "collapsed": true
   },
   "outputs": [],
   "source": [
    "import re\n",
    "\n",
    "# Open the genome file, read the first line, and concatenate the sequence\n",
    "\n",
    "sequence = \"\"\n",
    "file = open(\"genome.fa\",\"r\")\n",
    "header = file.readline()\n",
    "\n",
    "for line in file:\n",
    "    sequence += line.rstrip()\n",
    "\n",
    "# Make the sequence reverse complement and merge at the end\n",
    "from string import maketrans\n",
    "complement = maketrans(\"acgtACGT\", \"tgcaTGCA\")\n",
    "sequence += sequence.translate(complement)[::-1]"
   ]
  },
  {
   "cell_type": "code",
   "execution_count": 3,
   "metadata": {
    "collapsed": true
   },
   "outputs": [],
   "source": [
    "# Find all start codons\n",
    "atg_start = []\n",
    "for match in re.finditer(\"ATG\",sequence):\n",
    "    atg_start.append(match.start())\n",
    "\n",
    "# Find all stop codons\n",
    "stop_start =[]\n",
    "for match in re.finditer(\"TAA|TAG|TGA\",sequence):\n",
    "    stop_start.append(match.start())"
   ]
  },
  {
   "cell_type": "code",
   "execution_count": 4,
   "metadata": {
    "collapsed": true
   },
   "outputs": [],
   "source": [
    "# Find the first stop codon in frame after every start and check if length >= 450\n",
    "orf = {}\n",
    "for start in sorted(atg_start, key = int):\n",
    "    for stop in stop_start:\n",
    "        if ((start < stop) and ((stop-start)%3 == 0)):\n",
    "            if start not in orf:\n",
    "                orf[start] = stop\n",
    "    if (start in orf) and ((orf[start] - start) < 450):\n",
    "        del orf[start]"
   ]
  },
  {
   "cell_type": "code",
   "execution_count": null,
   "metadata": {
    "collapsed": false
   },
   "outputs": [],
   "source": [
    "# Get all lengths of the ORFs to sort on later\n",
    "order = {}\n",
    "for key in orf:\n",
    "    order[orf[key]-key] = key\n",
    "\n",
    "# On the sorted ORFs translate the 25th AA\n",
    "message = \"\"\n",
    "for key in sorted(order, key = int, reverse = True):\n",
    "    message += codon_table[sequence[order[key]+72:order[key]+75]]\n",
    "print message"
   ]
  }
 ],
 "metadata": {
  "kernelspec": {
   "display_name": "Python 2",
   "language": "python",
   "name": "python2"
  },
  "language_info": {
   "codemirror_mode": {
    "name": "ipython",
    "version": 2
   },
   "file_extension": ".py",
   "mimetype": "text/x-python",
   "name": "python",
   "nbconvert_exporter": "python",
   "pygments_lexer": "ipython2",
   "version": "2.7.11"
  }
 },
 "nbformat": 4,
 "nbformat_minor": 0
}
