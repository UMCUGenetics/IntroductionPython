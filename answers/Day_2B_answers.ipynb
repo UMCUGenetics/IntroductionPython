{
 "cells": [
  {
   "cell_type": "markdown",
   "metadata": {
    "deletable": true,
    "editable": true
   },
   "source": [
    "# Dictionary\n",
    "\n",
    "A dictionary can be created by listing key-value pairs inside a curly braces.\n",
    "\n",
    "We can access the value associated with a particular key.\n",
    "\n",
    "Dictionaries are mutable."
   ]
  },
  {
   "cell_type": "code",
   "execution_count": null,
   "metadata": {
    "collapsed": false,
    "deletable": true,
    "editable": true
   },
   "outputs": [],
   "source": [
    "# Try to create a dictionary\n",
    "virus = {'name':'HIV', 'type':'RNA', 'cell':'CD4'}\n",
    "virus['name']\n",
    "\n",
    "# Change values of a dictionary\n",
    "virus['name'] = 'HCV'\n",
    "print virus"
   ]
  },
  {
   "cell_type": "markdown",
   "metadata": {
    "deletable": true,
    "editable": true
   },
   "source": [
    "## Dictionary – Exercise\n",
    "\n",
    "1. Make a dictionary nucleotides and assign A, T, G and C as the keys and corresponding nucleotide names as values.\n",
    "2. Print the value assigned to key 'G' in the dictionary nucleotides.\n",
    "\n",
    "3. Print the first item stored in nucleotides. ( Hint: DictName.values() )\n",
    "\n",
    "4. Print all keys and values stored in nucleotides.\n",
    "\n",
    "5. Ask the user to input a sequence and print the nucleotide names using nucleotides."
   ]
  },
  {
   "cell_type": "code",
   "execution_count": null,
   "metadata": {
    "collapsed": true,
    "deletable": true,
    "editable": true
   },
   "outputs": [],
   "source": [
    "# Make a dictionary\n",
    "nucleotides = {'A':'Adenine', 'T':'Thymine', 'C':'Cytosine', 'G': 'Guanine'}"
   ]
  },
  {
   "cell_type": "code",
   "execution_count": null,
   "metadata": {
    "collapsed": false,
    "deletable": true,
    "editable": true
   },
   "outputs": [],
   "source": [
    "# Print value stored with key 'G'\n",
    "print nucleotides['G']"
   ]
  },
  {
   "cell_type": "code",
   "execution_count": null,
   "metadata": {
    "collapsed": false,
    "deletable": true,
    "editable": true
   },
   "outputs": [],
   "source": [
    "# Print the first value in the dictionary \n",
    "print nucleotides.values()[0]"
   ]
  },
  {
   "cell_type": "code",
   "execution_count": null,
   "metadata": {
    "collapsed": false,
    "deletable": true,
    "editable": true
   },
   "outputs": [],
   "source": [
    "# Print all keys\n",
    "print nucleotides.keys()\n",
    "\n",
    "# Print all values\n",
    "print nucleotides.values()\n",
    "\n",
    "# Print all keys and their corresponding values\n",
    "for key in nucleotides.keys():\n",
    "    print key, nucleotides[key]"
   ]
  },
  {
   "cell_type": "code",
   "execution_count": null,
   "metadata": {
    "collapsed": false,
    "deletable": true,
    "editable": true
   },
   "outputs": [],
   "source": [
    "# Use this dictionary\n",
    "nucleotides = {'A':'Adenine', 'T':'Thymine', 'C':'Cytosine', 'G': 'Guanine'}\n",
    "\n",
    "# Ask user input\n",
    "# Check for each nucl\n",
    "# print validity using dictionary\n",
    "nucleotides = {'A':'adenine','T':'thymine','C':'cytosine','G':'guanine'}\n",
    "user_input = raw_input(\"Please enter a nucleotide: \").upper()\n",
    "if (user_input in nucleotides.keys()):\n",
    "    print \"Full name for \" + user_input + \" is \" + nucleotides[user_input]\n",
    "else:\n",
    "    print user_input + \" is not an existing nucleotide!\""
   ]
  },
  {
   "cell_type": "markdown",
   "metadata": {
    "deletable": true,
    "editable": true
   },
   "source": [
    "## Adding to a Dictionary\n",
    "\n",
    "1. You can add entries to Python dictionaries. Ask user to enter a new key and value for your virus dictionary.\n",
    "\n",
    "2. Create two dictionaries containing information about viruses. Can you create a database (using lists) containing the 2 dictionaries? Print names of all viruses stored in our database.\n"
   ]
  },
  {
   "cell_type": "code",
   "execution_count": null,
   "metadata": {
    "collapsed": false,
    "deletable": true,
    "editable": true
   },
   "outputs": [],
   "source": [
    "# Add entries to a dictionary\n",
    "virus = {'name':'HIV', 'type':'RNA', 'cell':'CD4'}\n",
    "virus['load'] = 10000\n",
    "\n",
    "virus = {'name':'HIV', 'type':'RNA', 'cell':'CD4'}\n",
    "user_key = raw_input(\"Please enter a key: \")\n",
    "user_val = raw_input(\"Please enter a value: \")\n",
    "virus[user_key] = user_val"
   ]
  },
  {
   "cell_type": "code",
   "execution_count": null,
   "metadata": {
    "collapsed": true,
    "deletable": true,
    "editable": true
   },
   "outputs": [],
   "source": [
    "# Create two dictionaries containing information about viruses\n",
    "virus1 = {'name':'HIV', 'type':'RNA', 'cell':'CD4', 'load':10000}\n",
    "virus2 = {'name':'HCV', 'type':'RNA', 'cell':'CD4', 'load':3000}"
   ]
  },
  {
   "cell_type": "code",
   "execution_count": null,
   "metadata": {
    "collapsed": false,
    "deletable": true,
    "editable": true
   },
   "outputs": [],
   "source": [
    "# Create a database containing 2 virus dictionaries. Print all viruses in the dictionary\n",
    "database = [virus1, virus2]\n",
    "for virus in database:\n",
    "    print virus['name']"
   ]
  },
  {
   "cell_type": "markdown",
   "metadata": {
    "deletable": true,
    "editable": true
   },
   "source": [
    "## Modifying a Dictionary\n",
    "\n",
    "You can change the value of a key, e.g.: virus1['load'] = 2000\n",
    "\n",
    "We can delete an entry using **del** function similar to lists, e.g.: del virus1['load']\n"
   ]
  },
  {
   "cell_type": "code",
   "execution_count": null,
   "metadata": {
    "collapsed": false,
    "deletable": true,
    "editable": true
   },
   "outputs": [],
   "source": [
    "virus1['load'] = 10000\n",
    "virus1['load'] = virus1['load'] + 5000\n",
    "virus1['load'] += 5000\n",
    "\n",
    "# \n",
    "del virus1['cell']\n",
    "print virus1"
   ]
  },
  {
   "cell_type": "markdown",
   "metadata": {
    "collapsed": true,
    "deletable": true,
    "editable": true
   },
   "source": [
    "## Looping a Dictionary\n",
    "\n",
    "You can loop through a dictionary using its keys.\n",
    "\n",
    "Create a dictionary which has multiple Patient data.\n",
    "\n",
    "Calculate the average virus load in HIV and HCV patients."
   ]
  },
  {
   "cell_type": "code",
   "execution_count": null,
   "metadata": {
    "collapsed": true,
    "deletable": true,
    "editable": true
   },
   "outputs": [],
   "source": [
    "# Create dictionary that contains virus loads for three different patients\n",
    "viral_load = {'Pat1':18000, 'Pat2':13000, 'Pat3':2200}\n",
    "total_load = 0 # Assign a variable to store total virus load\n",
    "\n",
    "# Loop through the dictionary to calculate sum of all virus loads\n",
    "for name in viral_load:\n",
    "    total_load += viral_load[name]\n",
    "\n",
    "# or use one-liners to calculate sum of all virus loads\n",
    "total_load = sum(viral_load.values())"
   ]
  },
  {
   "cell_type": "code",
   "execution_count": null,
   "metadata": {
    "collapsed": true,
    "deletable": true,
    "editable": true
   },
   "outputs": [],
   "source": [
    "# Create a dictionary of dictionaries to store patient specific data\n",
    "patients = {}\n",
    "patients['Pat1']= {'name':'HIV', 'type':'RNA', 'cell':'CD4', 'load':18000}\n",
    "patients['Pat2']= {'name':'HIV', 'type':'RNA', 'cell':'CD4', 'load':13000}\n",
    "patients['Pat3']= {'name':'HIV', 'type':'RNA', 'cell':'CD4', 'load':19000}\n",
    "patients['Pat4']= {'name':'HCV', 'type':'RNA', 'cell':'Hepa', 'load':2200}\n",
    "patients['Pat5']= {'name':'HCV', 'type':'RNA', 'cell':'Hepa', 'load':8200}"
   ]
  },
  {
   "cell_type": "code",
   "execution_count": null,
   "metadata": {
    "collapsed": false,
    "deletable": true,
    "editable": true
   },
   "outputs": [],
   "source": [
    "HIV_load = 0\n",
    "HIV_num = 0\n",
    "HCV_load = 0\n",
    "HCV_num = 0\n",
    "for patient_id in patients:\n",
    "    if patients[patient_id]['name'] == 'HIV':\n",
    "        HIV_load += patients[patient_id]['load']\n",
    "        HIV_num += 1\n",
    "    elif patients[patient_id]['name'] == 'HCV':\n",
    "        HCV_load += patients[patient_id]['load']\n",
    "        HCV_num += 1\n",
    "print \"Average HIV load = \", float(HIV_load)/float(HIV_num)\n",
    "print \"Average HCV load = \", float(HCV_load)/float(HCV_num)"
   ]
  },
  {
   "cell_type": "markdown",
   "metadata": {
    "deletable": true,
    "editable": true
   },
   "source": [
    "## Challenge: DNA to Protein sequence\n",
    "\n",
    "1. Translate the valid DNA sequences from **seqs** given in code below to protein sequences using the dictionary **codon_table**\n",
    "2. Did you take the reading frames into account? Translate codon for each reading frame.\n",
    "\n",
    "Start with the following bit of sexy code:"
   ]
  },
  {
   "cell_type": "code",
   "execution_count": null,
   "metadata": {
    "collapsed": false,
    "deletable": true,
    "editable": true,
    "scrolled": true
   },
   "outputs": [],
   "source": [
    "bases = ['T', 'C', 'A', 'G']\n",
    "codons = [a+b+c for a in bases for b in bases for c in bases]\n",
    "amino_acids = 'FFLLSSSSYY**CC*WLLLLPPPPHHQQRRRRIIIMTTTTNNKKSSRRVVVVAAAADDEEGGGG'\n",
    "codon_table = dict(zip(codons, amino_acids))\n",
    "\n",
    "# Confused by the code?? Ask us what it means!!\n",
    "\n",
    "# Loop over the seqs\n",
    "seqs = ['actgactgactgaattcgactg','caucgaucgcgauacacgaucagcuacg','augcagacgacguacgu','atcgatcgatcgatcacgt','atcgtagctactagctagc','acgatcgtagctacgta','cgaucagucgaucgauccagcga','cguacguagcacaugcagucaguauacguacggacgacgac','catgactgactgatcgatgctgactgactg','atcggatctgaactgactg','actgactgactgactg','caucgaucgcgauacacgaucagcuacg','augcagacgacguacgu','atcgatcgaattcgatcgatcacgt','atcgtagctactagctagc','acgatcgaattcgtagctacgta','cgaucagucgaucgauccagcga','cguacguagcacaugcagucaguauacguacggacgacgac','catgactgactgatcgatgaattcgctgactgactg','aucggauccgaaccgacag']\n",
    "\n",
    "for sequence in seqs:\n",
    "    if sequence.upper().find('T') >= 0 :\n",
    "        for frame in range(3):\n",
    "            print \"Frame \"+str(frame) \n",
    "            protein = ''\n",
    "            for position in range(frame, len(sequence), 3):\n",
    "                triplet = sequence[position:position+3]\n",
    "                amino_acid = codon_table.get(triplet.upper(),'')\n",
    "                protein = protein+amino_acid\n",
    "            print protein"
   ]
  }
 ],
 "metadata": {
  "kernelspec": {
   "display_name": "Python 3",
   "language": "python",
   "name": "python3"
  },
  "language_info": {
   "codemirror_mode": {
    "name": "ipython",
    "version": 3
   },
   "file_extension": ".py",
   "mimetype": "text/x-python",
   "name": "python",
   "nbconvert_exporter": "python",
   "pygments_lexer": "ipython3",
   "version": "3.6.2"
  }
 },
 "nbformat": 4,
 "nbformat_minor": 0
}
