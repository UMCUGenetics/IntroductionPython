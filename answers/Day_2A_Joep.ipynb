{
 "cells": [
  {
   "cell_type": "markdown",
   "metadata": {
    "collapsed": false
   },
   "source": [
    "# Lists\n",
    "- Lets make a list: \n",
    "- Execute the code by pressing ctrl + enter\n",
    "    - Name: my_list \n",
    "    - Value: []"
   ]
  },
  {
   "cell_type": "code",
   "execution_count": 1,
   "metadata": {
    "collapsed": false
   },
   "outputs": [
   ],
   "source": [
    "# Write here your code to make an empty list\n",
    "my_list = []"
   ]
  },
  {
   "cell_type": "code",
   "execution_count": 2,
   "metadata": {
    "collapsed": false
   },
   "outputs": [
    {
     "name": "stdout",
     "output_type": "stream",
     "text": [
      "'\n",
      "\"\n"
     ]
    }
   ],
   "source": [
    "print \"'\"\n",
    "\n",
    "print '\"'"
   ]
  },
  {
   "cell_type": "markdown",
   "metadata": {
    "collapsed": false
   },
   "source": [
    "### Write your code to make lists: \n",
    "- empty list which can hold 4 items\n",
    "- list called molecules containing elements: DNA, RNA, Protein and Lipid\n",
    "- containing 4 sequences\n",
    "- containing at least 1 string, 1 integer, and 1 boolean"
   ]
  },
  {
   "cell_type": "code",
   "execution_count": 9,
   "metadata": {
    "collapsed": false
   },
   "outputs": [
    {
     "name": "stdout",
     "output_type": "stream",
     "text": [
      "[None, None, None, None]\n",
      "['DNA', 'RNA', 'Protein', 'Lipid', 'DNA']\n",
      "['ATCG', 'ATCG', 'ATCG', 'ATCG']\n",
      "['ABC', 3, True]\n",
      "0\n"
     ]
    }
   ],
   "source": [
    "# Write here your code to make lists\n",
    "my_list = [None]*4\n",
    "molecules = [\"DNA\",\"RNA\",\"Protein\",\"Lipid\",\"DNA\"]\n",
    "seqs = [\"ATCG\"]*4\n",
    "mixed_list = [\"ABC\",3,True]\n",
    "\n",
    "# Print the results\n",
    "print(my_list)\n",
    "print(molecules)\n",
    "print(seqs)\n",
    "print(mixed_list)\n",
    "\n",
    "\n",
    "\n",
    "\n",
    "\n",
    "\n"
   ]
  },
  {
   "cell_type": "code",
   "execution_count": 10,
   "metadata": {
    "collapsed": false
   },
   "outputs": [
    {
     "name": "stdout",
     "output_type": "stream",
     "text": [
      "3\n"
     ]
    },
    {
     "ename": "ValueError",
     "evalue": "'DNA' is not in list",
     "output_type": "error",
     "traceback": [
      "\u001b[0;31m---------------------------------------------------------------------------\u001b[0m",
      "\u001b[0;31mValueError\u001b[0m                                Traceback (most recent call last)",
      "\u001b[0;32m<ipython-input-10-20b0201bec85>\u001b[0m in \u001b[0;36m<module>\u001b[0;34m()\u001b[0m\n\u001b[1;32m      1\u001b[0m \u001b[0;32mprint\u001b[0m \u001b[0mmolecules\u001b[0m\u001b[0;34m[\u001b[0m\u001b[0;36m1\u001b[0m\u001b[0;34m:\u001b[0m\u001b[0;34m]\u001b[0m\u001b[0;34m.\u001b[0m\u001b[0mindex\u001b[0m\u001b[0;34m(\u001b[0m\u001b[0;34m\"DNA\"\u001b[0m\u001b[0;34m)\u001b[0m\u001b[0;34m\u001b[0m\u001b[0m\n\u001b[0;32m----> 2\u001b[0;31m \u001b[0;32mprint\u001b[0m \u001b[0mmolecules\u001b[0m\u001b[0;34m[\u001b[0m\u001b[0;36m1\u001b[0m\u001b[0;34m:\u001b[0m\u001b[0;36m2\u001b[0m\u001b[0;34m]\u001b[0m\u001b[0;34m.\u001b[0m\u001b[0mindex\u001b[0m\u001b[0;34m(\u001b[0m\u001b[0;34m\"DNA\"\u001b[0m\u001b[0;34m)\u001b[0m\u001b[0;34m\u001b[0m\u001b[0m\n\u001b[0m",
      "\u001b[0;31mValueError\u001b[0m: 'DNA' is not in list"
     ]
    }
   ],
   "source": [
    "print molecules[1:].index(\"DNA\")\n",
    "print molecules[1:2].index(\"DNA\")\n"
   ]
  },
  {
   "cell_type": "markdown",
   "metadata": {
    "collapsed": false
   },
   "source": [
    "## Accessing Lists\n",
    "\n",
    "Using the lists that you have created, check what is stored at index 1 of the list 'molecules'"
   ]
  },
  {
   "cell_type": "code",
   "execution_count": 22,
   "metadata": {
    "collapsed": false,
    "scrolled": true
   },
   "outputs": [
    {
     "name": "stdout",
     "output_type": "stream",
     "text": [
      "RNA\n",
      "DNA\n",
      "0\n"
     ]
    }
   ],
   "source": [
    "# molecules[1]?\n",
    "print molecules[1]\n",
    "# What is the index for 'DNA' in the list molecules?\n",
    "print molecules[0]\n",
    "# Try command list.index(object)\n",
    "print molecules.index(\"DNA\")"
   ]
  },
  {
   "cell_type": "markdown",
   "metadata": {
    "collapsed": false
   },
   "source": [
    "# Lists – Exercise\n",
    "\n",
    "1. Create the following 3 string variables with their restriction sites:\n",
    "    * eco_r1  : gaattc\n",
    "    * bam_h1  : ggatcc\n",
    "    * hind3   : aagctt\n",
    "2. Make a list called **restriction_enzymes** containing the 3 restriction sites.\n",
    "\n",
    "3. Using a single command print the restriction sites in the list on 3 different lines.\n",
    "\n",
    "4. Print the first letter of **eco_r1** using the list."
   ]
  },
  {
   "cell_type": "code",
   "execution_count": 2,
   "metadata": {
    "collapsed": false
   },
   "outputs": [
   ],
   "source": [
    "# Q1, hint: eco_r1 = ? \n",
    "# bam_h1 = ?\n",
    "# hind3 = ?\n",
    "eco_r1 = \"gaattc\"\n",
    "bam_h1 = \"ggatcc\"\n",
    "hind3 = \"aagctt\"\n",
    "\n",
    "# Q2, hint: restriction_enzymes = \n",
    "restriction_enzymes = [eco_r1,bam_h1,hind3]\n",
    "\n"
   ]
  },
  {
   "cell_type": "code",
   "execution_count": 7,
   "metadata": {
    "collapsed": false
   },
   "outputs": [
    {
     "name": "stdout",
     "output_type": "stream",
     "text": [
      "EcoRI: gaattc \n",
      "BamH1: ggatcc \n",
      "Hind3: aagctt \n",
      "\n",
      "gaattc\n",
      "ggatcc\n",
      "aagctt\n",
      " \n",
      "gaattc\n",
      "ggatcc\n",
      "aagctt\n",
      " \n"
     ]
    }
   ],
   "source": [
    "# Q3, hint: print \"EcoRI: \", restriction_enzymes[?], ... \n",
    "print \"EcoRI:\",restriction_enzymes[0],\"\\n\",\"BamH1:\",restriction_enzymes[1],\"\\n\",\"Hind3:\",restriction_enzymes[2],\"\\n\"\n",
    "\n",
    "# OR use a for loop\n",
    "for restrict in restriction_enzymes:\n",
    "    print restrict\n",
    "\n",
    "print \" \"\n",
    "\n",
    "# OR be fancy and use join\n",
    "print '\\n'.join(restriction_enzymes)\n",
    "\n",
    "print \" \""
   ]
  },
  {
   "cell_type": "code",
   "execution_count": 0,
   "metadata": {
    "collapsed": false
   },
   "outputs": [
   ],
   "source": [
    "# Q4, hint: restriction_enzymes??\n",
    "print restriction_enzymes\n",
    "print restriction_enzymes[0][0]"
   ]
  },
  {
   "cell_type": "code",
   "execution_count": 13,
   "metadata": {
    "collapsed": false
   },
   "outputs": [
    {
     "name": "stdout",
     "output_type": "stream",
     "text": [
      "['Gaattc', 'ggatcc', 'aagctt']\n",
      "['GAATTC', 'ggatcc', 'aagctt']\n"
     ]
    },
    {
     "ename": "TypeError",
     "evalue": "'str' object does not support item assignment",
     "output_type": "error",
     "traceback": [
      "\u001b[0;31m---------------------------------------------------------------------------\u001b[0m",
      "\u001b[0;31mTypeError\u001b[0m                                 Traceback (most recent call last)",
      "\u001b[0;32m<ipython-input-13-59eeb8ac5c35>\u001b[0m in \u001b[0;36m<module>\u001b[0;34m()\u001b[0m\n\u001b[1;32m      9\u001b[0m \u001b[0;32mprint\u001b[0m \u001b[0mrestriction_enzymes\u001b[0m\u001b[0;34m\u001b[0m\u001b[0m\n\u001b[1;32m     10\u001b[0m \u001b[0;34m\u001b[0m\u001b[0m\n\u001b[0;32m---> 11\u001b[0;31m \u001b[0mrestriction_enzymes\u001b[0m\u001b[0;34m[\u001b[0m\u001b[0;36m0\u001b[0m\u001b[0;34m]\u001b[0m\u001b[0;34m[\u001b[0m\u001b[0;36m0\u001b[0m\u001b[0;34m]\u001b[0m \u001b[0;34m=\u001b[0m \u001b[0mrestriction_enzymes\u001b[0m\u001b[0;34m[\u001b[0m\u001b[0;36m0\u001b[0m\u001b[0;34m]\u001b[0m\u001b[0;34m[\u001b[0m\u001b[0;36m0\u001b[0m\u001b[0;34m]\u001b[0m\u001b[0;34m.\u001b[0m\u001b[0mupper\u001b[0m\u001b[0;34m(\u001b[0m\u001b[0;34m)\u001b[0m\u001b[0;34m\u001b[0m\u001b[0m\n\u001b[0m",
      "\u001b[0;31mTypeError\u001b[0m: 'str' object does not support item assignment"
     ]
    }
   ],
   "source": [
    "restriction_enzymes = [eco_r1,bam_h1,hind3]\n",
    "\n",
    "# Bonus question: Change first letter of eco_r1 restriction site from g to G using list 'restriction_enzymes'\n",
    "restriction_enzymes[0] = restriction_enzymes[0][0].upper()+restriction_enzymes[0][1:]\n",
    "print restriction_enzymes\n",
    "#print restriction_enzymes[0][0]\n",
    "\n",
    "restriction_enzymes[0] = restriction_enzymes[0].upper()\n",
    "print restriction_enzymes\n",
    "\n",
    "#restriction_enzymes[0][0] = restriction_enzymes[0][0].upper()\n",
    "#Doesn't work You cant edit strings like this\n",
    "\n"
   ]
  },
  {
   "cell_type": "markdown",
   "metadata": {
    "collapsed": false
   },
   "source": [
    "# Basic List operations\n",
    "\n",
    "Adding (concatenate) two lists\n",
    "\n",
    "Repeating items in list\n",
    "\n",
    "Compare two lists: cmp(L1, L2)\n",
    "\n",
    "Length of a list: len(L1)\n",
    "\n",
    "Maximum value: max(L1)\n",
    "\n",
    "Minimum value: min(L1)"
   ]
  },
  {
   "cell_type": "code",
   "execution_count": 24,
   "metadata": {
    "collapsed": false
   },
   "outputs": [
    {
     "name": "stdout",
     "output_type": "stream",
     "text": [
      "[1, 2, 5, 3, 4, 6]\n",
      "[3, 3, 3, 3, 3]\n",
      " \n",
      "0\n",
      "1\n",
      "-1\n",
      " \n",
      "0\n",
      " \n",
      "6\n",
      "6\n",
      "1\n",
      "6\n",
      "ZZZ\n",
      "1\n"
     ]
    }
   ],
   "source": [
    "# Try some list operations\n",
    "my_list = [1, 2, 5] + [3, 4, 6]\n",
    "my_list2 = [1, 2, 5] + [2, 4, \"ZZZ\"]\n",
    "print my_list\n",
    "print [3]*5\n",
    "print \" \"\n",
    "print cmp(my_list, my_list)\n",
    "print cmp(my_list[1:], my_list)\n",
    "print cmp(my_list, my_list[2:])\n",
    "\n",
    "print \" \"\n",
    "print cmp(my_list, my_list)\n",
    "print \" \"\n",
    "\n",
    "print len(my_list)\n",
    "print max(my_list)\n",
    "print min(my_list)\n",
    "\n",
    "print len(my_list2)\n",
    "print max(my_list2)\n",
    "print min(my_list2)"
   ]
  },
  {
   "cell_type": "markdown",
   "metadata": {
    "collapsed": false
   },
   "source": [
    "## Basic List operations - Exercise\n",
    "1. Remember that we made a list of restriction enzymes as:\n",
    "*restriction_enzymes = [eco_r1, bam_h1, hind3]*. \n",
    "Create a new variable *my_enzyme = 'catgac’*\n",
    "\n",
    "2. Make a new list with **my_enzyme** added to the existing list of restriction enzymes. \n",
    "\n",
    "3. Make a new list containing 3 repetitions of *eco_r1*, 4 repetitions of *bam_h1*, and 2 repetitions of *hind3*.\n",
    "\n",
    "4. What is the length of the lists you just created?\n",
    "\n",
    "5. What is the maximum value of the list?\n",
    "\n",
    "6. What is the minimum value of the list? \n"
   ]
  },
  {
   "cell_type": "code",
   "execution_count": 22,
   "metadata": {
    "collapsed": false
   },
   "outputs": [
    {
     "name": "stdout",
     "output_type": "stream",
     "text": [
      "['gaattc', 'ggatcc', 'aagctt']\n",
      "['gaattc', 'ggatcc', 'aagctt', 'actgcac']\n",
      "['gaattc', 'ggatcc', 'aagctt', 'actgcac', 'actgcac']\n",
      "['gaattc', 'ggatcc', 'aagctt', 'actgcac', 'actgcac', 'a', 'c', 't', 'g', 'c', 'a', 'c']\n"
     ]
    },
    {
     "ename": "TypeError",
     "evalue": "can only concatenate list (not \"str\") to list",
     "output_type": "error",
     "traceback": [
      "\u001b[0;31m---------------------------------------------------------------------------\u001b[0m",
      "\u001b[0;31mTypeError\u001b[0m                                 Traceback (most recent call last)",
      "\u001b[0;32m<ipython-input-22-573ede14846e>\u001b[0m in \u001b[0;36m<module>\u001b[0;34m()\u001b[0m\n\u001b[1;32m     15\u001b[0m \u001b[0;32mprint\u001b[0m \u001b[0mrestriction_enzymes\u001b[0m\u001b[0;34m\u001b[0m\u001b[0m\n\u001b[1;32m     16\u001b[0m \u001b[0;34m\u001b[0m\u001b[0m\n\u001b[0;32m---> 17\u001b[0;31m \u001b[0mrestriction_enzymes\u001b[0m \u001b[0;34m=\u001b[0m \u001b[0mrestriction_enzymes\u001b[0m \u001b[0;34m+\u001b[0m \u001b[0mmy_enzyme\u001b[0m\u001b[0;34m\u001b[0m\u001b[0m\n\u001b[0m\u001b[1;32m     18\u001b[0m \u001b[0;31m# Create list with repeated entries and find its length\u001b[0m\u001b[0;34m\u001b[0m\u001b[0;34m\u001b[0m\u001b[0m\n",
      "\u001b[0;31mTypeError\u001b[0m: can only concatenate list (not \"str\") to list"
     ]
    }
   ],
   "source": [
    "restriction_enzymes = [eco_r1,bam_h1,hind3]\n",
    "\n",
    "# Create variable my_enzyme and concatenate it with restriction_enzyme list\n",
    "my_enzyme = \"actgcac\"\n",
    "\n",
    "print restriction_enzymes\n",
    "\n",
    "restriction_enzymes.append(my_enzyme)\n",
    "print restriction_enzymes\n",
    "\n",
    "restriction_enzymes += [my_enzyme]\n",
    "print restriction_enzymes\n",
    "\n",
    "restriction_enzymes += my_enzyme\n",
    "print restriction_enzymes\n",
    "\n",
    "restriction_enzymes = restriction_enzymes + my_enzyme\n",
    "# Create list with repeated entries and find its length\n"
   ]
  },
  {
   "cell_type": "markdown",
   "metadata": {
    "collapsed": true
   },
   "source": [
    "# Looping Lists - Exercise\n",
    "\n",
    "1. Calculate the number of nucleotides (A, T, G, and C) used by each restriction enzyme? \n",
    "\n",
    "2. Calculate the total number of nucleotides used by all restriction enzymes taken together?\n",
    "\n",
    "3. Use the list entry **seqs** given in the worksheet. How many DNA and RNA sequences are given in seqs? (Hint: try for loop, if elif conditions and string find command)\n",
    "\n",
    "4. Remember EcoRI cuts at restriction site 'gaattc'. Can you check how many sequences given in list seqs have EcoRI motif?\n",
    "\n",
    "    **Bonus Question**: Make a list containing ['A', 'AA', 'AAA', 'AAAA', ….., 20 A]."
   ]
  },
  {
   "cell_type": "code",
   "execution_count": 0,
   "metadata": {
    "collapsed": false
   },
   "outputs": [
   ],
   "source": [
   ]
  },
  {
   "cell_type": "code",
   "execution_count": 11,
   "metadata": {
    "collapsed": false
   },
   "outputs": [
    {
     "name": "stdout",
     "output_type": "stream",
     "text": [
      "GAATTC\n",
      "GGATCC\n",
      "AAGCTT\n",
      "0\n",
      "1\n",
      "2\n",
      "0 GAATTC\n",
      "1 GGATCC\n",
      "2 AAGCTT\n",
      "GAATTC\n",
      "6\n",
      "GGATCC\n",
      "6\n",
      "AAGCTT\n",
      "6\n",
      "0 20\n",
      "20\n"
     ]
    }
   ],
   "source": [
    "eco_r1 = \"gaattc\"\n",
    "bam_h1 = \"ggatcc\"\n",
    "hind3 = \"aagctt\"\n",
    "restriction_enzymes = [eco_r1.upper(), bam_h1.upper(), hind3.upper()]\n",
    "\n",
    "# First try\n",
    "for item in restriction_enzymes:\n",
    "    print item\n",
    "\n",
    "# range is a function that returns a list containing arithmetic progressions\n",
    "range(10)\n",
    "\n",
    "# If we need only the index\n",
    "for index in range(len(restriction_enzymes)):\n",
    "    print index\n",
    "\n",
    "# If we need both the index and the item\n",
    "for index, item in enumerate(restriction_enzymes):\n",
    "    print index, item    \n",
    "\n",
    "# Q1\n",
    "# Calculate number of nucleotides using for loop\n",
    "\n",
    "\n",
    "total_count = 0\n",
    "for enzyme in restriction_enzymes:\n",
    "    print enzyme\n",
    "    count = enzyme.count(\"A\") +  enzyme.count(\"T\") + enzyme.count(\"C\") + enzyme.count(\"G\")\n",
    "    count = len(enzyme)\n",
    "    print count\n",
    "    total_count += count\n",
    "\n",
    "\n",
    "\n"
   ]
  },
  {
   "cell_type": "code",
   "execution_count": 19,
   "metadata": {
    "collapsed": false
   },
   "outputs": [
    {
     "name": "stdout",
     "output_type": "stream",
     "text": [
      "ACTGACTGACTGAATTCGACTG\n",
      "-1\n",
      "CAUCGAUCGCGAUACACGAUCAGCUACG\n",
      "2\n",
      "AUGCAGACGACGUACGU\n",
      "1\n",
      "ATCGATCGATCGATCACGT\n",
      "-1\n",
      "ATCGTAGCTACTAGCTAGC\n",
      "-1\n",
      "ACGATCGTAGCTACGTA\n",
      "-1\n",
      "CGAUCAGUCGAUCGAUCCAGCGA\n",
      "3\n",
      "CGUACGUAGCACAUGCAGUCAGUAUACGUACGGACGACGAC\n",
      "2\n",
      "CATGACTGACTGATCGATGCTGACTGACTG\n",
      "-1\n",
      "ATCGGATCTGAACTGACTG\n",
      "-1\n",
      "ACTGACTGACTGACTG\n",
      "-1\n",
      "CAUCGAUCGCGAUACACGAUCAGCUACG\n",
      "2\n",
      "AUGCAGACGACGUACGU\n",
      "1\n",
      "ATCGATCGAATTCGATCGATCACGT\n",
      "-1\n",
      "ATCGTAGCTACTAGCTAGC\n",
      "-1\n",
      "ACGATCGAATTCGTAGCTACGTA\n",
      "-1\n",
      "CGAUCAGUCGAUCGAUCCAGCGA\n",
      "3\n",
      "CGUACGUAGCACAUGCAGUCAGUAUACGUACGGACGACGAC\n",
      "2\n",
      "CATGACTGACTGATCGATGAATTCGCTGACTGACTG\n",
      "-1\n",
      "AUCGGAUCCGAACCGACAG\n",
      "1\n",
      "-----------\n",
      "11 9\n",
      "-----------\n",
      "['ACTGACTGACTGAATTCGACTG', 'ATCGATCGAATTCGATCGATCACGT', 'ACGATCGAATTCGTAGCTACGTA', 'CATGACTGACTGATCGATGAATTCGCTGACTGACTG']\n",
      "4\n",
      "4\n"
     ]
    }
   ],
   "source": [
    "# Q3\n",
    "# Hint: try for loop, if elif conditions and string find command\n",
    "seqs = ['actgactgactgaattcgactg','caucgaucgcgauacacgaucagcuacg','augcagacgacguacgu','atcgatcgatcgatcacgt','atcgtagctactagctagc','acgatcgtagctacgta','cgaucagucgaucgauccagcga','cguacguagcacaugcagucaguauacguacggacgacgac','catgactgactgatcgatgctgactgactg','atcggatctgaactgactg','actgactgactgactg','caucgaucgcgauacacgaucagcuacg','augcagacgacguacgu','atcgatcgaattcgatcgatcacgt','atcgtagctactagctagc','acgatcgaattcgtagctacgta','cgaucagucgaucgauccagcga','cguacguagcacaugcagucaguauacguacggacgacgac','catgactgactgatcgatgaattcgctgactgactg','aucggauccgaaccgacag']\n",
    "\n",
    "for index,item in enumerate(seqs):\n",
    "    seqs[index] = item.upper()\n",
    "    \n",
    "dna_count = 0\n",
    "rna_count = 0\n",
    "for seq in seqs:\n",
    "    print(seq)\n",
    "    print(seq.find('U'))\n",
    "    if seq.find('U') != -1:\n",
    "        rna_count += 1\n",
    "    elif seq.find('G') != -1:\n",
    "        dna_count += 1\n",
    "        \n",
    "print \"-----------\"\n",
    "print dna_count, rna_count\n",
    "print \"-----------\"\n",
    "\n",
    "# Q4\n",
    "# Hint: try for loop and append list\n",
    "cut_seqs=0\n",
    "cut_sequences = []\n",
    "for seq in seqs:\n",
    "    if seq.find(eco_r1.upper()) != -1:\n",
    "        cut_seqs += 1\n",
    "        #print seq\n",
    "        cut_sequences.append(seq)\n",
    "print(cut_sequences)\n",
    "\n",
    "print(cut_seqs)\n",
    "print(len(cut_sequences))"
   ]
  },
  {
   "cell_type": "markdown",
   "metadata": {
    "collapsed": true
   },
   "source": [
    "## Modifying Lists\n",
    "1. Take list **seqs** and add 3 random DNA/RNA sequences at the end of the list\n",
    "\n",
    "2. Take list **seqs** and add 'atcg' as the third sequence of the list\n",
    "\n",
    "3. Create a new sorted list **seq_sort** from **seqs**"
   ]
  },
  {
   "cell_type": "code",
   "execution_count": 0,
   "metadata": {
    "collapsed": true
   },
   "outputs": [
   ],
   "source": [
    "# Try modifying lists\n",
    "molecules[?] = ?\n",
    "print molecules\n",
    "\n",
    "# Use list functions\n",
    "\n"
   ]
  },
  {
   "cell_type": "code",
   "execution_count": 16,
   "metadata": {
    "collapsed": false
   },
   "outputs": [
    {
     "name": "stdout",
     "output_type": "stream",
     "text": [
      "[2, 1, 3, 4]\n",
      "[2, 1, 3, 4]\n",
      "[1, 2, 3, 4]\n",
      "[2, 1, 3, 4]\n"
     ]
    }
   ],
   "source": [
    "list1 = [2,1,3,4]\n",
    "list2 = list1\n",
    "\n",
    "print list1\n",
    "print list2\n",
    "\n",
    "list1.sort()\n",
    "\n",
    "print list1\n",
    "print list2\n",
    "\n"
   ]
  },
  {
   "cell_type": "markdown",
   "metadata": {
    "collapsed": false
   },
   "source": [
    "#### Modifying Lists\n",
    "\n",
    "1. Remove 'atcg' sequence of the list **seqs**\n",
    "\n",
    "2. Print 5th to 10th sequence entry from the lists **seqs** and **seq_sort**"
   ]
  },
  {
   "cell_type": "code",
   "execution_count": 0,
   "metadata": {
    "collapsed": true
   },
   "outputs": [
   ],
   "source": [
    "# Use list functions\n"
   ]
  },
  {
   "cell_type": "markdown",
   "metadata": {
    "collapsed": false
   },
   "source": [
    "### Converting strings to Lists\n",
    "\n",
    "Two essential command of list conversion are:\n",
    "- Create a list from a string: StringName.split()\n",
    "- Create a string from lists: ' '.join(ListName)\n",
    "\n",
    "\n",
    "1. Split *'atgcatgcatgc'* sequence using **split()** command \n",
    "2. Create a list by splitting *'atgcatgcatgc'* sequence using 't' as the separator."
   ]
  },
  {
   "cell_type": "code",
   "execution_count": 28,
   "metadata": {
    "collapsed": false
   },
   "outputs": [
    {
     "name": "stdout",
     "output_type": "stream",
     "text": [
      "AlaCysPheValGlu\n",
      "['A', 'l', 'a', 'C', 'y', 's', 'P', 'h', 'e', 'V', 'a', 'l', 'G', 'l', 'u']\n"
     ]
    }
   ],
   "source": [
    "# Try split and join command\n",
    "amino = 'Ala Cys Phe Val Glu'.split(\" \")\n",
    "a = ''.join(amino)\n",
    "print a\n",
    "print list(a)\n",
    "\n",
    "# Try split command"
   ]
  },
  {
   "cell_type": "markdown",
   "metadata": {
    "collapsed": false
   },
   "source": [
    "# Tuples\n",
    "\n",
    "#### Tuples are Python sequence but unlike lists they are immutable. Tuples use parentheses and lists use square brackets.\n",
    "\n",
    "tup1 = ('physics', 'chemistry', 1997, 2000)\n",
    "\n",
    "tup2 = (1, 2, 3, 4, 5 )\n",
    "\n",
    "tup3 = ('a', 'b', 'c', 'd')\n",
    "\n",
    "#### Accessing tuples:\n",
    "\n",
    "print \"tup1[0]: \", tup1[0]\n",
    "\n",
    "print \"tup2[1:5]: \", tup2[1:5]\n",
    "\n",
    "#### Try to assign tuples:\n",
    "\n",
    "tup1[2] = 2015\n",
    "\n",
    "tup4 = tup2 + tup3"
   ]
  },
  {
   "cell_type": "code",
   "execution_count": 0,
   "metadata": {
    "collapsed": true
   },
   "outputs": [
   ],
   "source": [
    "# Make tuples with different items\n",
    "\n",
    "# Access different elements from tuples\n",
    "\n",
    "# Assign different values to tuples"
   ]
  },
  {
   "cell_type": "markdown",
   "metadata": {
    "collapsed": false
   },
   "source": [
    "## Tuples Exercise\n",
    "\n",
    "Suppose you want to find distance between Carbon\n",
    "atoms in a protein sequence.\n",
    "\n",
    "Assign 4 tuples each containing the 3D co-ordinates:\n",
    "\n",
    "\n",
    "||X|Y|Z|\n",
    "|---|---|---|---|\n",
    "|C29|0.55|1.256|-1.153|\n",
    "|C103|1.28|-1.72|1.24|\n",
    "|C115|1.59|1.73|1.04|\n",
    "|C118|1.36|-1.86|-1.74|\n",
    "\n",
    "Calculate square distance between different carbon atoms. Hint use: (x1-x2)^2+(y1-y2)^2+(z1-z2)^2\n"
   ]
  },
  {
   "cell_type": "code",
   "execution_count": 22,
   "metadata": {
    "collapsed": false
   },
   "outputs": [
    {
     "name": "stdout",
     "output_type": "stream",
     "text": [
      "0 0 0.0\n",
      "0 1 15.115925\n",
      "0 2 6.115525\n",
      "0 3 10.710125\n",
      "1 1 0.0\n",
      "1 2 12.0386\n",
      "1 3 8.9064\n",
      "2 2 0.0\n",
      "2 3 20.6694\n",
      "3 3 0.0\n"
     ]
    }
   ],
   "source": [
    "# Hint: make a list\n",
    "# Each element of the list can contain a tuples with coordinates of a carbon atom\n",
    "=(0.55,1.256,-1.153)\n",
    "c103=(1.28,-1.72,1.24)\n",
    "c115=(1.59,1.73,1.04)\n",
    "c118=(1.36,-1.86,-1.74)\n",
    "c_atoms = [c29,c103,c115,c118]\n",
    "\n",
    "# use two for loops to calculate distance between their X, Y and Z\n",
    "\n",
    "for i in range(len(c_atoms)):\n",
    "    for j in range(i,len(c_atoms)):\n",
    "        # Option 1, prior knowledge\n",
    "        x1,y1,z1=c_atoms[i]\n",
    "        x2,y2,z2=c_atoms[j]\n",
    "        \n",
    "        distance = (x1-x2)**2+(y1-y2)**2+(z1-z2)**2\n",
    "        print i,j, distance\n",
    "        \n",
    "        # Option 2, fewer assumptions\n",
    "        distance = 0\n",
    "        #for x in range(len(c_atoms[i])):\n",
    "        #    distance += (c_atoms[i][x]-c_atoms[j][x])**2\n",
    "        #print i,j, distance\n",
    "        \n",
    "        "
   ]
  },
  {
   "cell_type": "code",
   "execution_count": 0,
   "metadata": {
    "collapsed": false
   },
   "outputs": [
   ],
   "source": [
   ]
  },
  {
   "cell_type": "code",
   "execution_count": 0,
   "metadata": {
    "collapsed": false
   },
   "outputs": [
   ],
   "source": [
   ]
  },
  {
   "cell_type": "code",
   "execution_count": 0,
   "metadata": {
    "collapsed": false
   },
   "outputs": [
   ],
   "source": [
   ]
  },
  {
   "cell_type": "code",
   "execution_count": 0,
   "metadata": {
    "collapsed": false
   },
   "outputs": [
   ],
   "source": [
   ]
  },
  {
   "cell_type": "code",
   "execution_count": 0,
   "metadata": {
    "collapsed": false
   },
   "outputs": [
   ],
   "source": [
   ]
  }
 ],
 "metadata": {
  "kernelspec": {
   "display_name": "Python 2 (SageMath)",
   "language": "python",
   "name": "python2"
  },
  "language_info": {
   "codemirror_mode": {
    "name": "ipython",
    "version": 2
   },
   "file_extension": ".py",
   "mimetype": "text/x-python",
   "name": "python",
   "nbconvert_exporter": "python",
   "pygments_lexer": "ipython2",
   "version": "2.7.13"
  }
 },
 "nbformat": 4,
 "nbformat_minor": 0
}