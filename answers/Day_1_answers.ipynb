{
 "cells": [
  {
   "cell_type": "markdown",
   "metadata": {},
   "source": [
    "# Variables\n",
    "- Lets make a variable: \n",
    "- Execute the code by pressing ctrl + enter\n",
    "    - Name: first_name \n",
    "    - Value: Aridaman"
   ]
  },
  {
   "cell_type": "code",
   "execution_count": null,
   "metadata": {},
   "outputs": [],
   "source": [
    "# Write here your code"
   ]
  },
  {
   "cell_type": "markdown",
   "metadata": {},
   "source": [
    "# Exercise:\n",
    "- Print your surname using a new variable. \n",
    "- Can you print both your first and surname?"
   ]
  },
  {
   "cell_type": "code",
   "execution_count": null,
   "metadata": {},
   "outputs": [],
   "source": [
    "# Write here your code"
   ]
  },
  {
   "cell_type": "markdown",
   "metadata": {},
   "source": [
    "# Strings - methods \n",
    "- All types have build in methods to manipulate them. \n",
    "- For example: \n",
    "    - my_string.upper() - returns the string in uppercase "
   ]
  },
  {
   "cell_type": "code",
   "execution_count": null,
   "metadata": {},
   "outputs": [],
   "source": [
    "# Write here your code"
   ]
  },
  {
   "cell_type": "markdown",
   "metadata": {},
   "source": [
    "# Exercise: Strings – Methods\n",
    "- Assign a random number of DNA nucleotides to a variable.\n",
    "- Print the DNA sequence in uppercase \n",
    "- Count the number of A, C, G and T’s within the sequence \n",
    "- Store these numbers in a new variable and print them \n",
    "- Replace all A’s with T’s \n",
    "- Time remaining? \n",
    "    - Try other string methods"
   ]
  },
  {
   "cell_type": "code",
   "execution_count": null,
   "metadata": {},
   "outputs": [],
   "source": [
    "dna_sequence=\"ACGTCAccgtgacgGCTGACTcgttgacgaATTGCCG\"\n",
    "new_dna_sequence = dna_sequence.upper()\n",
    "print new_dna_sequence\n",
    "\n",
    "count_a = new_dna_sequence.count(\"A\")\n",
    "count_t = new_dna_sequence.count(\"T\")\n",
    "count_c = new_dna_sequence.count(\"C\")\n",
    "count_g = new_dna_sequence.count(\"G\")\n",
    "\n",
    "print count_a\n",
    "print count_t\n",
    "print count_c\n",
    "print count_g\n",
    "\n",
    "no_t = new_dna_sequence.replace(\"A\", \"T\")\n",
    "print new_dna_sequence\n"
   ]
  },
  {
   "cell_type": "markdown",
   "metadata": {},
   "source": [
    "# Strings – Operators \n",
    "- \\+ Concatenate a string \n",
    "- \\* Repetition of a string \n",
    "- [n] Slice, returns nth value (Python counts from 0) \n",
    "- [x:y] Range slice, returns the xth to yth value \n",
    "- Not an operator but very useful: \n",
    "    - len(\"ABCDEF\") = 6"
   ]
  },
  {
   "cell_type": "code",
   "execution_count": null,
   "metadata": {},
   "outputs": [],
   "source": [
    "text1 = \"ABC\" + \"DEF\"\n",
    "print text1"
   ]
  },
  {
   "cell_type": "code",
   "execution_count": null,
   "metadata": {},
   "outputs": [],
   "source": [
    "text2 = \"ABC\" * 2\n",
    "print text2"
   ]
  },
  {
   "cell_type": "code",
   "execution_count": null,
   "metadata": {},
   "outputs": [],
   "source": [
    "text3 = \"ABCDEF\"[3]\n",
    "print text3"
   ]
  },
  {
   "cell_type": "code",
   "execution_count": null,
   "metadata": {},
   "outputs": [],
   "source": [
    "text4 = \"ABCDEF\"[2:4]\n",
    "print text4"
   ]
  },
  {
   "cell_type": "code",
   "execution_count": null,
   "metadata": {},
   "outputs": [],
   "source": [
    "number1 = len(\"ABCDEF\")\n",
    "print number1"
   ]
  },
  {
   "cell_type": "markdown",
   "metadata": {},
   "source": [
    "# Exercise: Strings – Operators\n",
    "- Create two variables and assign a random number of DNA nucleotides to both.\n",
    "- Combine both variables and print \n",
    "- Add 10 copies of the second dna sequence to the combined sequence.\n",
    "- Print the total length of the combined sequence \n",
    "- Print the 5th nucleotide \n",
    "- Print the 7th to the 14th nucleotide \n",
    "- Bonus: print the last character of \"gaattc\" but not by using string[5]"
   ]
  },
  {
   "cell_type": "code",
   "execution_count": null,
   "metadata": {},
   "outputs": [],
   "source": [
    "dna1 = \"ACGGTA\"\n",
    "dna2 = \"TTGGTC\"\n",
    "dna_combined = dna1 + dna2\n",
    "print dna_combined\n",
    "\n",
    "#option 1\n",
    "dna_combined = dna_combined + dna2 * 10\n",
    "#option 2\n",
    "dna_combined += dna2 * 10\n",
    "print dna_combined\n",
    "\n",
    "print dna_combined[4]\n",
    "\n",
    "print dna_combined[6:13]\n",
    "\n",
    "print dna_combined[-1]\n",
    "print dna_combined[ len(dna_combined)-1 ]"
   ]
  },
  {
   "cell_type": "markdown",
   "metadata": {},
   "source": [
    "# Strings - Special characters\n",
    "- Tabs: \\t \n",
    "- Newlines: \\n \n",
    "- Quotes: \\\" \n",
    "- Backslash: \\\\\\"
   ]
  },
  {
   "cell_type": "code",
   "execution_count": null,
   "metadata": {},
   "outputs": [],
   "source": [
    "print \"Tab\\tTab\\nSecond Line\\nPrint out a \\\"backslash\\\" : \\\\\""
   ]
  },
  {
   "cell_type": "markdown",
   "metadata": {},
   "source": [
    "# Comments\n",
    "- Comments start with # \n",
    "- Useful for: \n",
    "    - Explaining code or your program \n",
    "    - Disable parts of your program "
   ]
  },
  {
   "cell_type": "code",
   "execution_count": null,
   "metadata": {},
   "outputs": [],
   "source": [
    "# This is an example script using comments\n",
    "print \"Comment example script\"\n",
    "# print \"This will not print\"\n",
    "print \"This will print\""
   ]
  },
  {
   "cell_type": "markdown",
   "metadata": {},
   "source": [
    "# Last exercise on strings \n",
    "- You can let Python ask you to input a variable: \n",
    "    - your_name = raw_input(\"Please type your name:\")\n",
    "    - print your_name\n",
    "- raw_input always returns a string! \n",
    "- Let Python request your first and last name \n",
    "- Print them using \\t, \\n, \\\" and/or \\\\\\ \n",
    "- Play around with this for a couple minutes"
   ]
  },
  {
   "cell_type": "code",
   "execution_count": null,
   "metadata": {},
   "outputs": [],
   "source": [
    "first_name = raw_input(\"Please type your first name:\")\n",
    "last_name = raw_input(\"Please type your last name:\")\n",
    "\n",
    "first_name = first_name.capitalize()\n",
    "last_name = last_name.capitalize()\n",
    "user_name = first_name[0] + \"    \" + last_name\n",
    "print user_name\n",
    "print user_name.replace(\" \", \"\")\n",
    "\n",
    "#print \"First name:\\t\" + first_name + \"\\nLast name:\\t\" + last_name + \"\\nUser name:\\t\" + user_name\n",
    "\n",
    "#print your_name"
   ]
  },
  {
   "cell_type": "code",
   "execution_count": null,
   "metadata": {},
   "outputs": [],
   "source": [
    "# Write here your code"
   ]
  },
  {
   "cell_type": "markdown",
   "metadata": {},
   "source": [
    "# Numbers\n",
    "- Integers: 1, 5, etc. \n",
    "- Floats: 1.5, 5.2, etc. \n",
    "- Simple math using numbers (x = 5.0 and y = 2.0) : \n",
    "    - Addition: x + y = 7.0 \n",
    "    - Subtraction: x – y = 3.0 \n",
    "    - Division: x / y = 2.5 \n",
    "    - Multiplication: x * y = 10.0 \n",
    "    - Power: x ** y = 25.0 \n",
    "    - Modulo (remainder): x % y = 1.0 (2+2=4 5-4 = 1) \n",
    "- Python uses the standard order of operations \n",
    "    - 5 * (2+1) = 15"
   ]
  },
  {
   "cell_type": "code",
   "execution_count": null,
   "metadata": {},
   "outputs": [],
   "source": [
    "x = 5.0\n",
    "y = 2.0"
   ]
  },
  {
   "cell_type": "code",
   "execution_count": null,
   "metadata": {},
   "outputs": [],
   "source": [
    "x + y"
   ]
  },
  {
   "cell_type": "code",
   "execution_count": null,
   "metadata": {},
   "outputs": [],
   "source": [
    "x - y"
   ]
  },
  {
   "cell_type": "code",
   "execution_count": null,
   "metadata": {},
   "outputs": [],
   "source": [
    "x / y"
   ]
  },
  {
   "cell_type": "code",
   "execution_count": null,
   "metadata": {},
   "outputs": [],
   "source": [
    "x * y"
   ]
  },
  {
   "cell_type": "code",
   "execution_count": null,
   "metadata": {},
   "outputs": [],
   "source": [
    "x ** y"
   ]
  },
  {
   "cell_type": "code",
   "execution_count": null,
   "metadata": {},
   "outputs": [],
   "source": [
    "x % y"
   ]
  },
  {
   "cell_type": "code",
   "execution_count": null,
   "metadata": {},
   "outputs": [],
   "source": [
    "5 * (2+1)"
   ]
  },
  {
   "cell_type": "markdown",
   "metadata": {},
   "source": [
    "# Numbers – Exercise \n",
    "- Assign the value 8 to number1 \n",
    "- Assign the value 3 to number2 \n",
    "- Make number3 equal to the division of number1 by number2 \n",
    "- Print the number3 \n",
    "- Does the result make sense? \n",
    "- Once it does, input a DNA sequence and calculate the GC %"
   ]
  },
  {
   "cell_type": "code",
   "execution_count": null,
   "metadata": {},
   "outputs": [],
   "source": [
    "#number1 = 8\n",
    "#number2 = 3\n",
    "#number3 = float(number1) / float(number2)\n",
    "\n",
    "#Ask user for a DNA sequence\n",
    "dna_sequence = raw_input(\"Please input a DNA sequence\")\n",
    "dna_sequence = dna_sequence.upper()\n",
    "count_a = dna_sequence.count(\"A\")\n",
    "count_t = dna_sequence.count(\"T\")\n",
    "count_g = dna_sequence.count(\"G\")\n",
    "count_c = dna_sequence.count(\"C\")\n",
    "\n",
    "total = count_a + count_t + count_g + count_c\n",
    "gc = ( (count_g + count_c) / float(total) ) * 100 \n",
    "print \"Total bases:\\t\" + str(total)\n",
    "print \"GC %:\\t\" + str(gc)\n",
    "\n",
    "\n"
   ]
  },
  {
   "cell_type": "markdown",
   "metadata": {},
   "source": [
    "# Converting types \n",
    "\n",
    "- Sometimes we need to convert types \n",
    "    - str(variable) converts variable to a string \n",
    "    - int(variable) converts variable to a integer \n",
    "    - float(variable) converts variable to a float"
   ]
  },
  {
   "cell_type": "code",
   "execution_count": null,
   "metadata": {},
   "outputs": [],
   "source": [
    "\"2\" + \"2\""
   ]
  },
  {
   "cell_type": "code",
   "execution_count": null,
   "metadata": {},
   "outputs": [],
   "source": [
    "int(\"2\") + int(\"2\") "
   ]
  },
  {
   "cell_type": "code",
   "execution_count": null,
   "metadata": {},
   "outputs": [],
   "source": [
    "str(2) + str(2) "
   ]
  },
  {
   "cell_type": "code",
   "execution_count": null,
   "metadata": {},
   "outputs": [],
   "source": [
    "int(\"this does not work, why?\")"
   ]
  },
  {
   "cell_type": "code",
   "execution_count": null,
   "metadata": {},
   "outputs": [],
   "source": [
    "float(5) / float(2) "
   ]
  },
  {
   "cell_type": "code",
   "execution_count": null,
   "metadata": {},
   "outputs": [],
   "source": [
    "int(5.0) / int(2.0)"
   ]
  },
  {
   "cell_type": "markdown",
   "metadata": {},
   "source": [
    "# Last exercise on numbers\n",
    "- Write a script that asks the user for \n",
    "    - his/her name \n",
    "    - length (m) \n",
    "    - weight (kg) \n",
    "- Calculate the bmi of the user \n",
    "    - user_bmi = weight / length2 \n",
    "- Print out with one print command: \n",
    "    - The used formula to calculate bmi and on the next line the name and bmi separated by a tab."
   ]
  },
  {
   "cell_type": "code",
   "execution_count": null,
   "metadata": {},
   "outputs": [],
   "source": [
    "name = raw_input(\"What's your name?\")\n",
    "length = float( raw_input(\"What's your length (m)?\") )\n",
    "weight = float( raw_input(\"What's your weight (kg)?\") )\n",
    "\n",
    "user_bmi = weight / (length ** 2)\n",
    "print user_bmi\n",
    "\n",
    "print \"user_bmi = weight / length^2\\n\" + name + \"\\t\" + str(user_bmi)\n",
    "\n",
    "\n"
   ]
  },
  {
   "cell_type": "markdown",
   "metadata": {},
   "source": [
    "# Boolean: True or False \n",
    "- Booleans are the outcome when you compare or test variables \n",
    "- Examples:"
   ]
  },
  {
   "cell_type": "code",
   "execution_count": null,
   "metadata": {},
   "outputs": [],
   "source": [
    "x = 2\n",
    "x < 3"
   ]
  },
  {
   "cell_type": "code",
   "execution_count": null,
   "metadata": {},
   "outputs": [],
   "source": [
    "x = \"yes\" \n",
    "x == \"no\""
   ]
  },
  {
   "cell_type": "markdown",
   "metadata": {},
   "source": [
    "## Operators for comparison \n",
    "- < less than \n",
    "- <= less than or equal to \n",
    "- \\> greater than \n",
    "- \\>= greater than or equal to \n",
    "- == equal\n",
    "- != not equal\n",
    "\n",
    "## Boolean – exercise\n",
    "- Below are a couple comparisons. Try to guess the result before executing the comparisons in python."
   ]
  },
  {
   "cell_type": "code",
   "execution_count": null,
   "metadata": {},
   "outputs": [],
   "source": [
    "5 > 4"
   ]
  },
  {
   "cell_type": "code",
   "execution_count": null,
   "metadata": {},
   "outputs": [],
   "source": [
    "3 < 5"
   ]
  },
  {
   "cell_type": "code",
   "execution_count": null,
   "metadata": {},
   "outputs": [],
   "source": [
    "4 == 4"
   ]
  },
  {
   "cell_type": "code",
   "execution_count": null,
   "metadata": {},
   "outputs": [],
   "source": [
    "4 <= 4"
   ]
  },
  {
   "cell_type": "code",
   "execution_count": null,
   "metadata": {},
   "outputs": [],
   "source": [
    "4 >= 3"
   ]
  },
  {
   "cell_type": "code",
   "execution_count": null,
   "metadata": {},
   "outputs": [],
   "source": [
    "3 != 3"
   ]
  },
  {
   "cell_type": "code",
   "execution_count": null,
   "metadata": {},
   "outputs": [],
   "source": [
    "\"yes\" != \"no\""
   ]
  },
  {
   "cell_type": "code",
   "execution_count": null,
   "metadata": {},
   "outputs": [],
   "source": [
    "\"yes\" == \"yes\""
   ]
  },
  {
   "cell_type": "markdown",
   "metadata": {},
   "source": [
    "# Boolean – exercise \n",
    "- Just like before, try to guess the result before executing the comparisons"
   ]
  },
  {
   "cell_type": "code",
   "execution_count": null,
   "metadata": {},
   "outputs": [],
   "source": [
    "5 > 3 and 5 > 1"
   ]
  },
  {
   "cell_type": "code",
   "execution_count": null,
   "metadata": {},
   "outputs": [],
   "source": [
    "5 < 3 or 5 > 1"
   ]
  },
  {
   "cell_type": "code",
   "execution_count": null,
   "metadata": {},
   "outputs": [],
   "source": [
    "not 5 > 3"
   ]
  },
  {
   "cell_type": "code",
   "execution_count": null,
   "metadata": {},
   "outputs": [],
   "source": [
    "not 5 > 3 or 5 > 1"
   ]
  },
  {
   "cell_type": "code",
   "execution_count": null,
   "metadata": {},
   "outputs": [],
   "source": [
    "not (5 > 3 or 5 > 1)"
   ]
  },
  {
   "cell_type": "markdown",
   "metadata": {},
   "source": [
    "# Control flow – if / else / elif\n",
    "- With if, else and elif we can control the execution of certain parts of a program. \n",
    "    - if (condition):\n",
    "    - < tab > do something \n",
    "- Example: "
   ]
  },
  {
   "cell_type": "code",
   "execution_count": null,
   "metadata": {},
   "outputs": [],
   "source": [
    "x = 5\n",
    "if (x < 0): \n",
    "    print \"x is negative\"\n",
    "elif (x > 0): \n",
    "    print \"x is positive\"\n",
    "else: \n",
    "    print \"x is 0\""
   ]
  },
  {
   "cell_type": "markdown",
   "metadata": {},
   "source": [
    "# Control flow – if – exercise \n",
    "- Write a script that asks the user for a nucleotide \n",
    "- Check whether the nucleotide is a adenine, thymine, cytosine or guanine \n",
    "- Print out the nucleotide type or an error message if the input is not a nucleotide"
   ]
  },
  {
   "cell_type": "code",
   "execution_count": null,
   "metadata": {},
   "outputs": [],
   "source": [
    "nuc = raw_input(\"Please enter a valid nucleotide (A,C,G or T)\")\n",
    "nuc = nuc.upper()\n",
    "\n",
    "\n",
    "if nuc == 'A': \n",
    "    print \"You've entered an adenine\"\n",
    "  \n",
    "elif nuc == 'T':\n",
    "    \n",
    "    print \"You've entered an thymine\"\n",
    "elif nuc == 'C':\n",
    "    \n",
    "    print \"You've entered an cytosine\"\n",
    "elif nuc == 'G':\n",
    "    print \"You've entered an guanine\"\n",
    "else: \n",
    "    print \"You fucked up\""
   ]
  },
  {
   "cell_type": "markdown",
   "metadata": {},
   "source": [
    "# Loops – while \n",
    "- while <condition>: \n",
    "- < tab > do something"
   ]
  },
  {
   "cell_type": "code",
   "execution_count": null,
   "metadata": {},
   "outputs": [],
   "source": [
    "number = float(raw_input(\"Please provide a number: \"))\n",
    "while number <= 20:\n",
    "    print \"Current number is \" + str(number)\n",
    "    number += 1"
   ]
  },
  {
   "cell_type": "markdown",
   "metadata": {},
   "source": [
    "# Loops – while – exercise\n",
    "- Ask the user to enter some DNA sequence \n",
    "- As long as the length of the DNA sequence is smaller than 100 keep the user asking for more DNA sequence and add it to the piece you already have \n",
    "- Once you have more than 100 nucleotides print the result"
   ]
  },
  {
   "cell_type": "code",
   "execution_count": null,
   "metadata": {},
   "outputs": [],
   "source": [
    "dna_sequence = \"\" #empty DNA sequence\n",
    "\n",
    "while len(dna_sequence) < 100:\n",
    "    dna_sequence += raw_input(\"Please enter more nucleotides\")\n",
    "    print \"Current dna sequence : \" + dna_sequence\n",
    "\n",
    "print \"Reached 100+ nucleotides, the result:\" + dna_sequence\n",
    "\n",
    "    #ask for more dna using raw_input\n",
    "    #add it to the existing dna_sequence\n"
   ]
  },
  {
   "cell_type": "markdown",
   "metadata": {},
   "source": [
    "# Loops – for \n",
    "- for <variable> in <string>: \n",
    "- < tab > do something"
   ]
  },
  {
   "cell_type": "code",
   "execution_count": null,
   "metadata": {},
   "outputs": [],
   "source": [
    "dna = \"A\"\n",
    "for nucleotide in dna:\n",
    "    #this is a new code block\n",
    "    print nucleotide\n",
    "    if nucleotide == 'T':\n",
    "        #this is another block of code\n",
    "    elif nucleotide == 'A':\n",
    "        #yet another block of code\n",
    "        "
   ]
  },
  {
   "cell_type": "markdown",
   "metadata": {},
   "source": [
    "# Loops – for – exercise\n",
    "- Ask the user for a DNA code of exactly 10 nucleotides, and check this \n",
    "- Using “for” start at nucleotide 1 and print one by one until and including nucleotide 5 \n",
    "- Time remaining? \n",
    "- Ask the user for a random DNA code with a minimum length of 3 nucleotides and print the last 3 nucleotides going backwards"
   ]
  },
  {
   "cell_type": "code",
   "execution_count": null,
   "metadata": {},
   "outputs": [],
   "source": [
    "dna_code = \"\"\n",
    "while len(dna_code) != 10:\n",
    "    dna_code = raw_input('Please enter a DNA code of exactly 10 nucleotides')\n",
    "\n",
    "print \"Full sequence is : \" + dna_code\n",
    "\n",
    "#[START: END: STEP]\n",
    "\n",
    "for nuc in dna_code[:-4:-1]:\n",
    "    print nuc\n",
    "    "
   ]
  }
 ],
 "metadata": {
  "kernelspec": {
   "display_name": "Python 2",
   "language": "python",
   "name": "python2"
  },
  "language_info": {
   "codemirror_mode": {
    "name": "ipython",
    "version": 2
   },
   "file_extension": ".py",
   "mimetype": "text/x-python",
   "name": "python",
   "nbconvert_exporter": "python",
   "pygments_lexer": "ipython2",
   "version": "2.7.13"
  }
 },
 "nbformat": 4,
 "nbformat_minor": 1
}
