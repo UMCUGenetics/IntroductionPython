{
 "cells": [
  {
   "cell_type": "markdown",
   "metadata": {},
   "source": [
    "# Ensembl REST API – urllib2\n",
    "HTTP is based on requests and responses\n",
    "Using urllib2 we can make http request using python and get a response from the server.\n",
    "Try the example below and see what it does:"
   ]
  },
  {
   "cell_type": "code",
   "execution_count": null,
   "metadata": {},
   "outputs": [],
   "source": [
    "import urllib2\n",
    "request = urllib2.Request('http://www.python.org')\n",
    "response = urllib2.urlopen(request)\n",
    "html = response.read()\n",
    "print html"
   ]
  },
  {
   "cell_type": "markdown",
   "metadata": {},
   "source": [
    "# Ensembl REST API – urllib2\n",
    "Use urllib2 to:\n",
    "\t- Find the Ensembl ID of P53\n",
    "\t\tPrint the content of the response\n",
    "\t\n",
    "\t- Parse the response\n",
    "\t\tStore the Ensembl gene ID in a variable\n",
    "\n",
    "\t- Request all transcripts of P53\n",
    "\t\tUse the Ensembl gene ID variable\n",
    "\t\tPrint the content of the response"
   ]
  },
  {
   "cell_type": "code",
   "execution_count": null,
   "metadata": {},
   "outputs": [],
   "source": [
    "import urllib2\n",
    "request = urllib2.Request('http://rest.ensembl.org/xrefs/symbol/homo_sapiens/P53?content-type=application/json')\n",
    "response = urllib2.urlopen(request)\n",
    "html = response.read()\n",
    "print html"
   ]
  },
  {
   "cell_type": "code",
   "execution_count": null,
   "metadata": {},
   "outputs": [],
   "source": [
    "import re\n",
    "stable_id = re.search(r'(ENSG[0-9]*)',html).group()\n",
    "print re.findall('ENSG[0-9]*', html)\n",
    "print stable_id"
   ]
  },
  {
   "cell_type": "code",
   "execution_count": null,
   "metadata": {},
   "outputs": [],
   "source": [
    "request = urllib2.Request('http://rest.ensembl.org/overlap/id/'+ stable_id +'?feature=transcript;content-type=application/json')\n",
    "response = urllib2.urlopen(request)\n",
    "transcripts = response.read()\n",
    "print transcripts"
   ]
  },
  {
   "cell_type": "markdown",
   "metadata": {},
   "source": [
    "# Ensembl REST API – JSON – parsing\n",
    "Try to understand the script below:"
   ]
  },
  {
   "cell_type": "code",
   "execution_count": null,
   "metadata": {},
   "outputs": [],
   "source": [
    "import json\n",
    "json_string = '[{\"key\":\"value\",\"key_2\":3.0},{\"key_3\":[2, 4]}]'\n",
    "json_parsed = json.loads(json_string)\n",
    "print \"JSON_STRING =\", json_string\n",
    "print \"JSON_PARSED =\", json_parsed\n",
    "print json_parsed[0]\n",
    "print json_parsed[1]['key_3']"
   ]
  },
  {
   "cell_type": "markdown",
   "metadata": {},
   "source": [
    "# Ensembl REST API – JSON exercise\n",
    "Lets download a JSON file and parse it\n",
    "\n",
    "Use wget to store, or download via the browser: \n",
    "\thttp://rest.ensembl.org/info/assembly/homo_sapiens?content-type=application/json\n",
    "\n",
    "Read the file with Python and parse the file\n",
    "\n",
    "Print the following information:\n",
    "- Assembly name and date\n",
    "- Name and length of the chromosomes"
   ]
  },
  {
   "cell_type": "code",
   "execution_count": null,
   "metadata": {},
   "outputs": [],
   "source": [
    "# Read the file with Python and parse the file\n",
    "import json\n",
    "file = open(\"../data/homo_sapiens.json\",\"r\")\n",
    "content = file.readline()\n",
    "json_parsed = json.loads(content)\n",
    "file.close()"
   ]
  },
  {
   "cell_type": "code",
   "execution_count": null,
   "metadata": {},
   "outputs": [],
   "source": [
    "# Print the following information:\n",
    "# Assembly name and date\n",
    "print json_parsed[\"assembly_name\"]\n",
    "print json_parsed[\"assembly_date\"]"
   ]
  },
  {
   "cell_type": "code",
   "execution_count": null,
   "metadata": {},
   "outputs": [],
   "source": [
    "for region in json_parsed['top_level_region']:\n",
    "    if region['coord_system'] == 'chromosome':\n",
    "        print region['name'], \"\\t\", region['length']"
   ]
  },
  {
   "cell_type": "markdown",
   "metadata": {},
   "source": [
    "# Ensembl REST API – urllib2 and JSON\n",
    "Exercise, use and try to understand the following script:"
   ]
  },
  {
   "cell_type": "code",
   "execution_count": null,
   "metadata": {},
   "outputs": [],
   "source": [
    "import urllib2\n",
    "import json\n",
    "\n",
    "server = \"http://rest.ensembl.org\"\n",
    "endpoint = \"/xrefs/symbol/homo_sapiens/BRCA2\"\n",
    "headers = {}\n",
    "headers['Content-Type'] = 'application/json'\n",
    "\n",
    "request = urllib2.Request(server + endpoint, headers=headers)\n",
    "response = urllib2.urlopen(request)\n",
    "content = response.read()\n",
    "data = json.loads(content)\n",
    "\n",
    "print data[0]['id']"
   ]
  },
  {
   "cell_type": "markdown",
   "metadata": {},
   "source": [
    "# Ensembl REST API – Last exercise\n",
    "Use urllib2 and json to make a small tool:\n",
    "- Ask the user for a gene symbol (e.g. BRCA2)\n",
    "- Find the ensembl id of that gene\n",
    "- Print the gene and Ensembl ID\n",
    "\n",
    "Request all transcripts of the gene using the Ensembl ID\n",
    "Print for each transcript (separated by a tab):\n",
    "- ID\n",
    "- Location = chr:start-end\n",
    "- Biotype\n",
    "\n",
    "Extra - Make functions for:\n",
    "- Rest requests\t\t\t-> EnsemblRestRequest(endpoint)\n",
    "- Get Ensembl stable gene ID \t-> GetEnsemblGeneId(gene_symbol)\n",
    "- Get transcripts \t\t\t-> GetTranscripts(gene_ensembl_id)\n"
   ]
  },
  {
   "cell_type": "code",
   "execution_count": null,
   "metadata": {},
   "outputs": [],
   "source": [
    "import urllib2\n",
    "import json\n",
    "\n",
    "def EnsemblRestRequest(endpoint):\n",
    "    # Set headers\n",
    "    headers = {}\n",
    "    headers['Content-Type'] = 'application/json'\n",
    "    # Create request\n",
    "    request = urllib2.Request(\"http://rest.ensembl.org/\" + endpoint, headers=headers)\n",
    "    response = urllib2.urlopen(request)\n",
    "    content = response.read()\n",
    "    # Parse json content\n",
    "    data = json.loads(content)\n",
    "    return data\n",
    "\n",
    "def GetEnsemblGeneId(gene_symbol):   \n",
    "    return EnsemblRestRequest(\"xrefs/symbol/homo_sapiens/\" + gene_symbol)[0]['id']\n",
    "    \n",
    "def GetTranscripts(gene_ensembl_id):\n",
    "    return EnsemblRestRequest(\"overlap/id/\" + gene_ensembl_id + \"?feature=transcript\")"
   ]
  },
  {
   "cell_type": "code",
   "execution_count": null,
   "metadata": {},
   "outputs": [],
   "source": [
    "gene_id = raw_input(\"Enter a gene symbol: \")\n",
    "\n",
    "ensembl_id = GetEnsemblGeneId(gene_id)\n",
    "print \"The Ensembl stable id of\", gene_id , \"=\", ensembl_id\n",
    "\n",
    "transcripts = GetTranscripts(ensembl_id)\n",
    "for transcript in transcripts:\n",
    "    print transcript['id'] , \"\\t\" , transcript['seq_region_name'] , \n",
    "    print \":\" , transcript['start'] , \"-\" , transcript['end'] , \"\\t\" , transcript['biotype']\n"
   ]
  }
 ],
 "metadata": {
  "kernelspec": {
   "display_name": "Python 2",
   "language": "python",
   "name": "python2"
  },
  "language_info": {
   "codemirror_mode": {
    "name": "ipython",
    "version": 2
   },
   "file_extension": ".py",
   "mimetype": "text/x-python",
   "name": "python",
   "nbconvert_exporter": "python",
   "pygments_lexer": "ipython2",
   "version": "2.7.14"
  }
 },
 "nbformat": 4,
 "nbformat_minor": 1
}
