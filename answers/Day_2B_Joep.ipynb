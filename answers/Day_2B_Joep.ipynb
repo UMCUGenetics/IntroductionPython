{
 "cells": [
  {
   "cell_type": "markdown",
   "metadata": {
    "collapsed": false
   },
   "source": [
    "# Dictionary\n",
    "\n",
    "A dictionary can be created by listing key-value pairs inside a curly braces.\n",
    "\n",
    "We can access the value associated with a particular key.\n",
    "\n",
    "Dictionaries are mutable."
   ]
  },
  {
   "cell_type": "code",
   "execution_count": 0,
   "metadata": {
    "collapsed": false
   },
   "outputs": [
   ],
   "source": [
    "# Try to create a dictionary\n",
    "\n",
    "virus = {'name':'HIV', 'type':'RNA', 'cell':'CD4'}\n",
    "virus['name']\n",
    "\n",
    "\n",
    "# Change values of a dictionary\n",
    "\n",
    "virus['name'] = 'HCV'\n",
    "print virus\n"
   ]
  },
  {
   "cell_type": "markdown",
   "metadata": {
    "collapsed": false
   },
   "source": [
    "## Dictionary – Exercise\n",
    "\n",
    "1. Make a dictionary nucleotides and assign A, T, G and C as the keys and corresponding nucleotide names as values.\n",
    "2. Print the value assigned to key 'G' in the dictionary nucleotides.\n",
    "\n",
    "3. Print the first item stored in nucleotides. ( Hint: DictName.values() )\n",
    "\n",
    "4. Print all keys and values stored in nucleotides.\n",
    "\n",
    "5. Ask the user to input a sequence and print the nucleotide names using nucleotides."
   ]
  },
  {
   "cell_type": "code",
   "execution_count": 5,
   "metadata": {
    "cocalc": {
     "outputs": {
      "0": {
       "name": "input",
       "opts": {
        "password": false,
        "prompt": "Please enter a sequence: "
       },
       "output_type": "stream"
      }
     }
    },
    "collapsed": false
   },
   "outputs": [
    {
     "name": "stdout",
     "output_type": "stream",
     "text": "Please enter a sequence:  "
    },
    {
     "name": "stdout",
     "output_type": "stream",
     "text": [
      "Guanine\n",
      "Adenine\n",
      "['Adenine', 'Cytosine', 'Thymine', 'Guanine']\n",
      "Adenine\n",
      "['A', 'C', 'T', 'G']\n",
      "['Adenine', 'Cytosine', 'Thymine', 'Guanine']\n",
      "A Adenine\n",
      "C Cytosine\n",
      "T Thymine\n",
      "G Guanine\n"
     ],
     "value": "atcg"
    },
    {
     "name": "stdout",
     "output_type": "stream",
     "text": [
      "Full name for A is Adenine\n",
      "Full name for T is Thymine\n",
      "Full name for C is Cytosine\n",
      "Full name for G is Guanine\n"
     ]
    }
   ],
   "source": [
    "# Make a dictionary\n",
    "nucleotides = {'A':'Adenine', 'T':'Thymine', 'C':'Cytosine', 'G': 'Guanine'}\n",
    "# Print value stored with key 'G'\n",
    "print nucleotides[\"G\"]\n",
    "\n",
    "# Print the first value in the dictionary. Hint: DictName.values() \n",
    "print nucleotides.values()[0]\n",
    "vals = nucleotides.values()\n",
    "print(vals)\n",
    "print(vals[0])\n",
    "\n",
    "# Print all keys\n",
    "print nucleotides.keys()\n",
    "\n",
    "# Print all values\n",
    "print nucleotides.values()\n",
    "\n",
    "# Print all keys and their corresponding values\n",
    "\n",
    "for key in nucleotides:\n",
    "    print key, nucleotides[key]\n",
    "\n",
    "# Use nucleotides dictionary created earlier\n",
    "\n",
    "# Ask user input\n",
    "# Check for each nucl\n",
    "# print validity using dictionary\n",
    "\n",
    "user_input = raw_input(\"Please enter a sequence: \").upper()\n",
    "for base in user_input:\n",
    "    if base in nucleotides:\n",
    "        print \"Full name for \" + base + \" is \" + nucleotides[base]\n",
    "    else:\n",
    "        print base + \" is not an existing nucleotide!\"\n",
    "        break\n"
   ]
  },
  {
   "cell_type": "markdown",
   "metadata": {
    "collapsed": false
   },
   "source": [
    "## Adding to a Dictionary\n",
    "\n",
    "1. You can add entries to Python dictionaries. Ask user to enter a new key and value for your virus dictionary.\n",
    "\n",
    "2. Create two dictionaries containing information about viruses. Can you create a database (using lists) containing the 2 dictionaries? Print names of all viruses stored in our database.\n"
   ]
  },
  {
   "cell_type": "code",
   "execution_count": 7,
   "metadata": {
    "cocalc": {
     "outputs": {
      "0": {
       "name": "input",
       "opts": {
        "password": false,
        "prompt": "Please enter a key: "
       },
       "output_type": "stream",
       "value": "killrate"
      },
      "1": {
       "name": "input",
       "opts": {
        "password": false,
        "prompt": "Please enter a value: "
       },
       "output_type": "stream",
       "value": "10"
      }
     }
    },
    "collapsed": false
   },
   "outputs": [
    {
     "name": "stdout",
     "output_type": "stream",
     "text": "Please enter a key:  killrate"
    },
    {
     "name": "stdout",
     "output_type": "stream",
     "text": "Please enter a value:  10"
    },
    {
     "name": "stdout",
     "output_type": "stream",
     "text": [
      "{'cell': 'CD4', 'load': 10000, 'type': 'RNA', 'name': 'HIV', 'killrate': '10'}\n",
      "{'cell': 'CD4', 'load': 10000, 'type': 'RNA', 'name': 'HIV'}\n",
      "{'cell': 'CD4', 'load': 3000, 'type': 'RNA', 'name': 'HCV'}\n"
     ]
    }
   ],
   "source": [
    "# Add entries to a dictionary\n",
    "\n",
    "virus = {'name':'HIV', 'type':'RNA', 'cell':'CD4'}\n",
    "\n",
    "virus['load'] = 10000\n",
    "\n",
    "user_key = raw_input(\"Please enter a key: \")\n",
    "user_val = raw_input(\"Please enter a value: \")\n",
    "# Add user defined entry to the virus dictionary\n",
    "virus[user_key] = user_val\n",
    "\n",
    "print virus\n",
    "# Create two dictionaries containing information about viruses\n",
    "virus1 = {'name':'HIV', 'type':'RNA', 'cell':'CD4', 'load':10000}\n",
    "virus2 = {'name':'HCV', 'type':'RNA', 'cell':'CD4', 'load':3000}\n",
    "\n",
    "# Create a database containing 2 virus dictionaries. Print all viruses in the dictionary\n",
    "db = [virus1, virus2]\n",
    "\n",
    "for vir in db:\n",
    "    print vir"
   ]
  },
  {
   "cell_type": "markdown",
   "metadata": {
    "collapsed": false
   },
   "source": [
    "## Modifying a Dictionary\n",
    "\n",
    "You can change the value of a key, e.g.: virus1['load'] = 2000\n",
    "\n",
    "We can delete an entry using **del** function similar to lists, e.g.: del virus1['load']\n"
   ]
  },
  {
   "cell_type": "code",
   "execution_count": 8,
   "metadata": {
    "collapsed": false
   },
   "outputs": [
    {
     "name": "stdout",
     "output_type": "stream",
     "text": [
      "{'cell': 'CD4', 'load': 10000, 'type': 'RNA', 'name': 'HIV'}\n",
      "{'cell': 'CD4', 'load': 15000, 'type': 'RNA', 'name': 'HIV'}\n",
      "{'cell': 'CD4', 'load': 20000, 'type': 'RNA', 'name': 'HIV'}\n",
      "{'load': 20000, 'type': 'RNA', 'name': 'HIV'}\n"
     ]
    }
   ],
   "source": [
    "virus1['load'] = 10000\n",
    "print virus1\n",
    "virus1['load'] = virus1['load'] + 5000\n",
    "print virus1\n",
    "virus1['load'] += 5000\n",
    "print virus1\n",
    "\n",
    "# Delete an entry\n",
    "del virus1['cell']\n",
    "print virus1"
   ]
  },
  {
   "cell_type": "markdown",
   "metadata": {
    "collapsed": true
   },
   "source": [
    "## Looping a Dictionary\n",
    "\n",
    "You can loop through a dictionary using its keys.\n",
    "\n",
    "Create a dictionary which has multiple Patient data.\n",
    "\n",
    "Calculate the average virus load in HIV and HCV patients."
   ]
  },
  {
   "cell_type": "code",
   "execution_count": 10,
   "metadata": {
    "collapsed": false
   },
   "outputs": [
    {
     "name": "stdout",
     "output_type": "stream",
     "text": [
      "16666\n",
      "5200\n"
     ]
    }
   ],
   "source": [
    "# Create dictionary that contains virus loads for three different patients\n",
    "\n",
    "viral_load = {'Pat1':18000, 'Pat2':13000, 'Pat3':2200}\n",
    "total_load = 0 # Assign a variable to store total virus load\n",
    "\n",
    "# Loop through the dictionary to calculate sum of all virus loads\n",
    "for name in viral_load:\n",
    "    total_load += viral_load[name]\n",
    "# or use one-liners to calculate sum of all virus loads\n",
    "total_load = sum(viral_load.values())\n",
    "\n",
    "# Create a dictionary of dictionaries to store patient specific data\n",
    "\n",
    "#First initialize the dictionary patients\n",
    "patients = {}\n",
    "patients['Pat1']= {'name':'HIV', 'type':'RNA', 'cell':'CD4', 'load':18000}\n",
    "patients['Pat2']= {'name':'HIV', 'type':'RNA', 'cell':'CD4', 'load':13000}\n",
    "patients['Pat3']= {'name':'HIV', 'type':'RNA', 'cell':'CD4', 'load':19000}\n",
    "patients['Pat4']= {'name':'HCV', 'type':'RNA', 'cell':'Hepa', 'load':2200}\n",
    "patients['Pat5']= {'name':'HCV', 'type':'RNA', 'cell':'Hepa', 'load':8200}\n",
    "\n",
    "\n",
    "HIV_load = []\n",
    "HCV_load = []\n",
    "\n",
    "for pat in patients:\n",
    "    if patients[pat][\"name\"] is \"HIV\":\n",
    "        HIV_load.append(patients[pat][\"load\"])\n",
    "    elif patients[pat][\"name\"] is \"HCV\":\n",
    "        HCV_load.append(patients[pat][\"load\"])\n",
    "\n",
    "#print \"Average HIV load = \", float(HIV_load)\n",
    "#print \"Average HCV load = \", float(HCV_load)\n",
    "print(sum(HIV_load)/len(HIV_load))\n",
    "print(sum(HCV_load)/len(HCV_load))\n",
    "\n"
   ]
  },
  {
   "cell_type": "code",
   "execution_count": 17,
   "metadata": {
    "collapsed": false
   },
   "outputs": [
    {
     "name": "stdout",
     "output_type": "stream",
     "text": [
      "{'HCV': [8200, 2200], 'HIV': [18000, 19000, 13000]}\n",
      "HCV  5200\n",
      "HIV  16666\n"
     ]
    }
   ],
   "source": [
    "loads = {}\n",
    "for pat in patients:\n",
    "    if patients[pat][\"name\"] not in loads:\n",
    "        loads[patients[pat][\"name\"]] = []\n",
    "    loads[patients[pat][\"name\"]].append(patients[pat][\"load\"])\n",
    "\n",
    "print loads\n",
    "for virus in loads:\n",
    "    print \"%s  %d\"%(virus, sum(loads[virus])/len(loads[virus]))\n"
   ]
  },
  {
   "cell_type": "code",
   "execution_count": 0,
   "metadata": {
    "collapsed": false
   },
   "outputs": [
   ],
   "source": [
   ]
  },
  {
   "cell_type": "markdown",
   "metadata": {
    "collapsed": false
   },
   "source": [
    "## Challenge: DNA to Protein sequence\n",
    "\n",
    "1. Translate the valid DNA sequences from **seqs** given in code below to protein sequences using the dictionary **codon_table**\n",
    "2. Did you take the reading frames into account? Translate codon for each reading frame.\n",
    "\n",
    "Start with the following bit of sexy code:"
   ]
  },
  {
   "cell_type": "code",
   "execution_count": 25,
   "metadata": {
    "collapsed": false,
    "scrolled": true
   },
   "outputs": [
    {
     "ename": "SyntaxError",
     "evalue": "invalid syntax (<ipython-input-25-38f8df452d0d>, line 14)",
     "output_type": "error",
     "traceback": [
      "\u001b[0;36m  File \u001b[0;32m\"<ipython-input-25-38f8df452d0d>\"\u001b[0;36m, line \u001b[0;32m14\u001b[0m\n\u001b[0;31m    seqs[index] = item.upper().replace('U','T') for index,item in enumerate(seqs)\u001b[0m\n\u001b[0m                                                  ^\u001b[0m\n\u001b[0;31mSyntaxError\u001b[0m\u001b[0;31m:\u001b[0m invalid syntax\n"
     ]
    }
   ],
   "source": [
    "bases = ['T', 'C', 'A', 'G']\n",
    "codons = [a+b+c for a in bases for b in bases for c in bases]\n",
    "amino_acids = 'FFLLSSSSYY**CC*WLLLLPPPPHHQQRRRRIIIMTTTTNNKKSSRRVVVVAAAADDEEGGGG'\n",
    "codon_table = dict(zip(codons, amino_acids))\n",
    "\n",
    "# Confused by the code?? Ask us what it means!!\n",
    "\n",
    "# Loop over the seqs\n",
    "seqs = ['actgactgactgaattcgactg','caucgaucgcgauacacgaucagcuacg','augcagacgacguacgu','atcgatcgatcgatcacgt','atcgtagctactagctagc','acgatcgtagctacgta','cgaucagucgaucgauccagcga','cguacguagcacaugcagucaguauacguacggacgacgac','catgactgactgatcgatgctgactgactg','atcggatctgaactgactg','actgactgactgactg','caucgaucgcgauacacgaucagcuacg','augcagacgacguacgu','atcgatcgaattcgatcgatcacgt','atcgtagctactagctagc','acgatcgaattcgtagctacgta','cgaucagucgaucgauccagcga','cguacguagcacaugcagucaguauacguacggacgacgac','catgactgactgatcgatgaattcgctgactgactg','aucggauccgaaccgacag']\n",
    "\n",
    "# Write your code here to translate sequences\n",
    "# First check what is stored in codons, amino_acids and codon_table variables\n",
    "\n",
    "\n",
    "# Make uppercase and chuck U's\n",
    "for index,item in enumerate(seqs):\n",
    "    seqs[index] = item.upper().replace('U','T')\n",
    "\n"
   ]
  },
  {
   "cell_type": "code",
   "execution_count": 15,
   "metadata": {
    "collapsed": false
   },
   "outputs": [
    {
     "name": "stdout",
     "output_type": "stream",
     "text": [
      "[['TD*LNST', 'LTD*IRL', '*LTEFD'], ['TD*LNST', 'LTD*IRL', '*LTEFD'], ['TD*LNST', 'LTD*IRL', '*LTEFD'], ['HRSRYTISY', 'IDRDTRSAT', 'SIAIHDQL'], ['HRSRYTISY', 'IDRDTRSAT', 'SIAIHDQL'], ['HRSRYTISY', 'IDRDTRSAT', 'SIAIHDQL'], ['MQTTY', 'CRRRT', 'ADDVR'], ['MQTTY', 'CRRRT', 'ADDVR'], ['MQTTY', 'CRRRT', 'ADDVR'], ['IDRSIT', 'SIDRSR', 'RSIDH'], ['IDRSIT', 'SIDRSR', 'RSIDH'], ['IDRSIT', 'SIDRSR', 'RSIDH'], ['IVATS*', 'S*LLAS', 'RSY*L'], ['IVATS*', 'S*LLAS', 'RSY*L'], ['IVATS*', 'S*LLAS', 'RSY*L'], ['TIVAT', 'RS*LR', 'DRSYV'], ['TIVAT', 'RS*LR', 'DRSYV'], ['TIVAT', 'RS*LR', 'DRSYV'], ['RSVDRSS', 'DQSIDPA', 'ISRSIQR'], ['RSVDRSS', 'DQSIDPA', 'ISRSIQR'], ['RSVDRSS', 'DQSIDPA', 'ISRSIQR'], ['RT*HMQSVYVRTT', 'VRSTCSQYTYGRR', 'YVAHAVSIRTDDD'], ['RT*HMQSVYVRTT', 'VRSTCSQYTYGRR', 'YVAHAVSIRTDDD'], ['RT*HMQSVYVRTT', 'VRSTCSQYTYGRR', 'YVAHAVSIRTDDD'], ['HD*LIDAD*L', 'MTD*SMLTD', '*LTDRC*LT'], ['HD*LIDAD*L', 'MTD*SMLTD', '*LTDRC*LT'], ['HD*LIDAD*L', 'MTD*SMLTD', '*LTDRC*LT'], ['IGSELT', 'SDLN*L', 'RI*TD'], ['IGSELT', 'SDLN*L', 'RI*TD'], ['IGSELT', 'SDLN*L', 'RI*TD'], ['TD*LT', 'LTD*L', '*LTD'], ['TD*LT', 'LTD*L', '*LTD'], ['TD*LT', 'LTD*L', '*LTD'], ['HRSRYTISY', 'IDRDTRSAT', 'SIAIHDQL'], ['HRSRYTISY', 'IDRDTRSAT', 'SIAIHDQL'], ['HRSRYTISY', 'IDRDTRSAT', 'SIAIHDQL'], ['MQTTY', 'CRRRT', 'ADDVR'], ['MQTTY', 'CRRRT', 'ADDVR'], ['MQTTY', 'CRRRT', 'ADDVR'], ['IDRIRSIT', 'SIEFDRSR', 'RSNSIDH'], ['IDRIRSIT', 'SIEFDRSR', 'RSNSIDH'], ['IDRIRSIT', 'SIEFDRSR', 'RSNSIDH'], ['IVATS*', 'S*LLAS', 'RSY*L'], ['IVATS*', 'S*LLAS', 'RSY*L'], ['IVATS*', 'S*LLAS', 'RSY*L'], ['TIEFVAT', 'RSNS*LR', 'DRIRSYV'], ['TIEFVAT', 'RSNS*LR', 'DRIRSYV'], ['TIEFVAT', 'RSNS*LR', 'DRIRSYV'], ['RSVDRSS', 'DQSIDPA', 'ISRSIQR'], ['RSVDRSS', 'DQSIDPA', 'ISRSIQR'], ['RSVDRSS', 'DQSIDPA', 'ISRSIQR'], ['RT*HMQSVYVRTT', 'VRSTCSQYTYGRR', 'YVAHAVSIRTDDD'], ['RT*HMQSVYVRTT', 'VRSTCSQYTYGRR', 'YVAHAVSIRTDDD'], ['RT*HMQSVYVRTT', 'VRSTCSQYTYGRR', 'YVAHAVSIRTDDD'], ['HD*LIDEFAD*L', 'MTD*SMNSLTD', '*LTDR*IR*LT'], ['HD*LIDEFAD*L', 'MTD*SMNSLTD', '*LTDR*IR*LT'], ['HD*LIDEFAD*L', 'MTD*SMNSLTD', '*LTDR*IR*LT'], ['IGSEPT', 'SDPNRQ', 'RIRTD'], ['IGSEPT', 'SDPNRQ', 'RIRTD'], ['IGSEPT', 'SDPNRQ', 'RIRTD']]\n"
     ]
    }
   ],
   "source": [
    "proteins = []\n",
    "for sequence in seqs:\n",
    "    protein = [\"\"]*3\n",
    "    for frame in range(3):\n",
    "        for position in range(frame, len(sequence), 3):\n",
    "            triplet = sequence[position:position+3]\n",
    "            if triplet not in codon_table:\n",
    "                break\n",
    "            amino_acid = codon_table[triplet]\n",
    "            protein[fra me] += amino_acid\n",
    "        proteins.append(protein) \n",
    "        \n",
    "print proteins\n"
   ]
  },
  {
   "cell_type": "code",
   "execution_count": 0,
   "metadata": {
    "collapsed": false
   },
   "outputs": [
   ],
   "source": [
   ]
  },
  {
   "cell_type": "code",
   "execution_count": 24,
   "metadata": {
    "collapsed": false
   },
   "outputs": [
    {
     "name": "stdout",
     "output_type": "stream",
     "text": [
      "CATGACTGACTGATCGATGCTGACTGACTG\n",
      "['ATG', 'ACT', 'GAC', 'TGA', 'TCG', 'ATG', 'CTG', 'ACT', 'GAC', 'TG']\n",
      "MTD*SMLTD\n",
      "MTD\n",
      "\n",
      "CATGACTGACTGATCGATGAATTCGCTGACTGACTG\n",
      "['ATG', 'ACT', 'GAC', 'TGA', 'TCG', 'ATG', 'AAT', 'TCG', 'CTG', 'ACT', 'GAC', 'TG']\n",
      "MTD*SMNSLTD\n",
      "MTD\n",
      "\n"
     ]
    }
   ],
   "source": [
    "start_codon = \"ATG\"\n",
    "for sequence in seqs:\n",
    "    start_pos = [n for n in xrange(len(sequence)) if sequence.find(start_codon, n) == n]\n",
    "    for i in start_pos:\n",
    "        triplets = [sequence[n:n+3] for n in range(i,len(sequence),3)]\n",
    "        protein = ''.join([codon_table.get(triplet,\"\") for triplet in triplets])\n",
    "        stop_pos = protein.find(\"*\")\n",
    "        if stop_pos != -1:\n",
    "            print sequence\n",
    "            print triplets\n",
    "            print protein\n",
    "            print protein[:stop_pos]+\"\\n\"\n"
   ]
  },
  {
   "cell_type": "code",
   "execution_count": 0,
   "metadata": {
    "collapsed": false
   },
   "outputs": [
   ],
   "source": [
   ]
  },
  {
   "cell_type": "code",
   "execution_count": 0,
   "metadata": {
    "collapsed": false
   },
   "outputs": [
   ],
   "source": [
   ]
  },
  {
   "cell_type": "code",
   "execution_count": 0,
   "metadata": {
    "collapsed": false
   },
   "outputs": [
   ],
   "source": [
   ]
  }
 ],
 "metadata": {
  "kernelspec": {
   "display_name": "Python 2 (SageMath)",
   "language": "python",
   "name": "python2"
  },
  "language_info": {
   "codemirror_mode": {
    "name": "ipython",
    "version": 2
   },
   "file_extension": ".py",
   "mimetype": "text/x-python",
   "name": "python",
   "nbconvert_exporter": "python",
   "pygments_lexer": "ipython2",
   "version": "2.7.13"
  }
 },
 "nbformat": 4,
 "nbformat_minor": 0
}